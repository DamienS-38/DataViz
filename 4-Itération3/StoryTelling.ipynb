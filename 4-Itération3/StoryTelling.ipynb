{
 "cells": [
  {
   "cell_type": "code",
   "execution_count": 11,
   "metadata": {},
   "outputs": [],
   "source": [
    "import pandas as pd\n",
    "import os\n",
    "\n",
    "# Convention d'importation de Matplotlib et de Pyplot\n",
    "import matplotlib as mpl # <-- 'mpl' est un alias de 'matplotlib'\n",
    "import matplotlib.pyplot as plt # <-- autre convention pour 'pyplot'\n",
    "\n",
    "#Import Plotly\n",
    "import plotly.express as px\n",
    "\n",
    "# Une autre convention que vous avez sûrement déjà rencontré:\n",
    "import numpy as np\n",
    "\n",
    "plt.rcParams[\"figure.figsize\"] = (15,10)"
   ]
  },
  {
   "cell_type": "markdown",
   "metadata": {},
   "source": [
    "Import Fichier Pickles"
   ]
  },
  {
   "cell_type": "code",
   "execution_count": 12,
   "metadata": {},
   "outputs": [],
   "source": [
    "\n",
    "df_temperatures = pd.read_pickle('data/Pickles/df_temperatures.pkl')\n",
    "df_data_nationales = pd.read_pickle('data/Pickles/df_data_nationales.pkl')\n",
    "df_solaire = pd.read_pickle('data/Pickles/df_solaire_norm.pkl')\n",
    "df_eolien = pd.read_pickle('data/Pickles/df_eolien_norm.pkl')"
   ]
  },
  {
   "cell_type": "code",
   "execution_count": 13,
   "metadata": {},
   "outputs": [
    {
     "data": {
      "text/html": [
       "<div>\n",
       "<style scoped>\n",
       "    .dataframe tbody tr th:only-of-type {\n",
       "        vertical-align: middle;\n",
       "    }\n",
       "\n",
       "    .dataframe tbody tr th {\n",
       "        vertical-align: top;\n",
       "    }\n",
       "\n",
       "    .dataframe thead th {\n",
       "        text-align: right;\n",
       "    }\n",
       "</style>\n",
       "<table border=\"1\" class=\"dataframe\">\n",
       "  <thead>\n",
       "    <tr style=\"text-align: right;\">\n",
       "      <th>Region</th>\n",
       "      <th>Auvergne-Rhône-Alpes</th>\n",
       "      <th>Bourgogne-Franche-Comté</th>\n",
       "      <th>Bretagne</th>\n",
       "      <th>Centre-Val de Loire</th>\n",
       "      <th>Grand-Est</th>\n",
       "      <th>Hauts-de-France</th>\n",
       "      <th>Ile-de-France</th>\n",
       "      <th>Normandie</th>\n",
       "      <th>Nouvelle-Aquitaine</th>\n",
       "      <th>Occitanie</th>\n",
       "      <th>PACA</th>\n",
       "      <th>Pays-de-la-Loire</th>\n",
       "    </tr>\n",
       "    <tr>\n",
       "      <th>date_validite</th>\n",
       "      <th></th>\n",
       "      <th></th>\n",
       "      <th></th>\n",
       "      <th></th>\n",
       "      <th></th>\n",
       "      <th></th>\n",
       "      <th></th>\n",
       "      <th></th>\n",
       "      <th></th>\n",
       "      <th></th>\n",
       "      <th></th>\n",
       "      <th></th>\n",
       "    </tr>\n",
       "  </thead>\n",
       "  <tbody>\n",
       "    <tr>\n",
       "      <th>2013-01-01 23:00:00</th>\n",
       "      <td>5.75</td>\n",
       "      <td>3.55</td>\n",
       "      <td>6.400000</td>\n",
       "      <td>3.55</td>\n",
       "      <td>4.78</td>\n",
       "      <td>4.50</td>\n",
       "      <td>3.54</td>\n",
       "      <td>4.6</td>\n",
       "      <td>5.0</td>\n",
       "      <td>5.933333</td>\n",
       "      <td>6.750</td>\n",
       "      <td>4.45</td>\n",
       "    </tr>\n",
       "    <tr>\n",
       "      <th>2013-01-02 00:00:00</th>\n",
       "      <td>5.30</td>\n",
       "      <td>2.95</td>\n",
       "      <td>6.366667</td>\n",
       "      <td>3.25</td>\n",
       "      <td>4.42</td>\n",
       "      <td>4.60</td>\n",
       "      <td>3.38</td>\n",
       "      <td>4.8</td>\n",
       "      <td>5.1</td>\n",
       "      <td>5.600000</td>\n",
       "      <td>6.425</td>\n",
       "      <td>4.10</td>\n",
       "    </tr>\n",
       "    <tr>\n",
       "      <th>2013-01-02 01:00:00</th>\n",
       "      <td>4.90</td>\n",
       "      <td>2.35</td>\n",
       "      <td>6.300000</td>\n",
       "      <td>3.10</td>\n",
       "      <td>4.06</td>\n",
       "      <td>4.75</td>\n",
       "      <td>3.34</td>\n",
       "      <td>5.0</td>\n",
       "      <td>5.3</td>\n",
       "      <td>5.400000</td>\n",
       "      <td>6.150</td>\n",
       "      <td>3.95</td>\n",
       "    </tr>\n",
       "    <tr>\n",
       "      <th>2013-01-02 02:00:00</th>\n",
       "      <td>4.60</td>\n",
       "      <td>1.85</td>\n",
       "      <td>5.966667</td>\n",
       "      <td>3.15</td>\n",
       "      <td>3.74</td>\n",
       "      <td>4.80</td>\n",
       "      <td>3.44</td>\n",
       "      <td>5.2</td>\n",
       "      <td>5.4</td>\n",
       "      <td>5.283333</td>\n",
       "      <td>5.875</td>\n",
       "      <td>3.90</td>\n",
       "    </tr>\n",
       "    <tr>\n",
       "      <th>2013-01-02 03:00:00</th>\n",
       "      <td>4.30</td>\n",
       "      <td>1.50</td>\n",
       "      <td>5.833333</td>\n",
       "      <td>3.00</td>\n",
       "      <td>3.40</td>\n",
       "      <td>4.90</td>\n",
       "      <td>3.46</td>\n",
       "      <td>5.3</td>\n",
       "      <td>5.3</td>\n",
       "      <td>5.316667</td>\n",
       "      <td>5.600</td>\n",
       "      <td>3.75</td>\n",
       "    </tr>\n",
       "  </tbody>\n",
       "</table>\n",
       "</div>"
      ],
      "text/plain": [
       "Region               Auvergne-Rhône-Alpes  Bourgogne-Franche-Comté  Bretagne  \\\n",
       "date_validite                                                                  \n",
       "2013-01-01 23:00:00                  5.75                     3.55  6.400000   \n",
       "2013-01-02 00:00:00                  5.30                     2.95  6.366667   \n",
       "2013-01-02 01:00:00                  4.90                     2.35  6.300000   \n",
       "2013-01-02 02:00:00                  4.60                     1.85  5.966667   \n",
       "2013-01-02 03:00:00                  4.30                     1.50  5.833333   \n",
       "\n",
       "Region               Centre-Val de Loire  Grand-Est  Hauts-de-France  \\\n",
       "date_validite                                                          \n",
       "2013-01-01 23:00:00                 3.55       4.78             4.50   \n",
       "2013-01-02 00:00:00                 3.25       4.42             4.60   \n",
       "2013-01-02 01:00:00                 3.10       4.06             4.75   \n",
       "2013-01-02 02:00:00                 3.15       3.74             4.80   \n",
       "2013-01-02 03:00:00                 3.00       3.40             4.90   \n",
       "\n",
       "Region               Ile-de-France  Normandie  Nouvelle-Aquitaine  Occitanie  \\\n",
       "date_validite                                                                  \n",
       "2013-01-01 23:00:00           3.54        4.6                 5.0   5.933333   \n",
       "2013-01-02 00:00:00           3.38        4.8                 5.1   5.600000   \n",
       "2013-01-02 01:00:00           3.34        5.0                 5.3   5.400000   \n",
       "2013-01-02 02:00:00           3.44        5.2                 5.4   5.283333   \n",
       "2013-01-02 03:00:00           3.46        5.3                 5.3   5.316667   \n",
       "\n",
       "Region                PACA  Pays-de-la-Loire  \n",
       "date_validite                                 \n",
       "2013-01-01 23:00:00  6.750              4.45  \n",
       "2013-01-02 00:00:00  6.425              4.10  \n",
       "2013-01-02 01:00:00  6.150              3.95  \n",
       "2013-01-02 02:00:00  5.875              3.90  \n",
       "2013-01-02 03:00:00  5.600              3.75  "
      ]
     },
     "execution_count": 13,
     "metadata": {},
     "output_type": "execute_result"
    }
   ],
   "source": [
    "df_temperatures.head()"
   ]
  },
  {
   "cell_type": "code",
   "execution_count": 14,
   "metadata": {},
   "outputs": [
    {
     "data": {
      "text/html": [
       "<div>\n",
       "<style scoped>\n",
       "    .dataframe tbody tr th:only-of-type {\n",
       "        vertical-align: middle;\n",
       "    }\n",
       "\n",
       "    .dataframe tbody tr th {\n",
       "        vertical-align: top;\n",
       "    }\n",
       "\n",
       "    .dataframe thead th {\n",
       "        text-align: right;\n",
       "    }\n",
       "</style>\n",
       "<table border=\"1\" class=\"dataframe\">\n",
       "  <thead>\n",
       "    <tr style=\"text-align: right;\">\n",
       "      <th>Périmètre</th>\n",
       "      <th>Auvergne-Rhône-Alpes</th>\n",
       "      <th>Bourgogne-Franche-Comté</th>\n",
       "      <th>Bretagne</th>\n",
       "      <th>Centre-Val de Loire</th>\n",
       "      <th>Grand-Est</th>\n",
       "      <th>Hauts-de-France</th>\n",
       "      <th>Ile-de-France</th>\n",
       "      <th>Normandie</th>\n",
       "      <th>Nouvelle-Aquitaine</th>\n",
       "      <th>Occitanie</th>\n",
       "      <th>PACA</th>\n",
       "      <th>Pays-de-la-Loire</th>\n",
       "    </tr>\n",
       "    <tr>\n",
       "      <th>DateTime</th>\n",
       "      <th></th>\n",
       "      <th></th>\n",
       "      <th></th>\n",
       "      <th></th>\n",
       "      <th></th>\n",
       "      <th></th>\n",
       "      <th></th>\n",
       "      <th></th>\n",
       "      <th></th>\n",
       "      <th></th>\n",
       "      <th></th>\n",
       "      <th></th>\n",
       "    </tr>\n",
       "  </thead>\n",
       "  <tbody>\n",
       "    <tr>\n",
       "      <th>2014-09-14 03:30:00</th>\n",
       "      <td>0.000000</td>\n",
       "      <td>0.000000</td>\n",
       "      <td>0.000000</td>\n",
       "      <td>0.000000</td>\n",
       "      <td>0.000000</td>\n",
       "      <td>0.000000</td>\n",
       "      <td>0.000000</td>\n",
       "      <td>0.000000</td>\n",
       "      <td>0.000000</td>\n",
       "      <td>0.000000</td>\n",
       "      <td>0.000000</td>\n",
       "      <td>0.000000</td>\n",
       "    </tr>\n",
       "    <tr>\n",
       "      <th>2013-11-25 19:00:00</th>\n",
       "      <td>0.000000</td>\n",
       "      <td>0.000000</td>\n",
       "      <td>0.000000</td>\n",
       "      <td>0.000000</td>\n",
       "      <td>0.000000</td>\n",
       "      <td>0.000000</td>\n",
       "      <td>0.000000</td>\n",
       "      <td>0.000000</td>\n",
       "      <td>0.000000</td>\n",
       "      <td>0.000000</td>\n",
       "      <td>0.000000</td>\n",
       "      <td>0.000000</td>\n",
       "    </tr>\n",
       "    <tr>\n",
       "      <th>2013-09-22 04:30:00</th>\n",
       "      <td>0.000000</td>\n",
       "      <td>0.000000</td>\n",
       "      <td>0.000000</td>\n",
       "      <td>0.000000</td>\n",
       "      <td>0.000000</td>\n",
       "      <td>0.000000</td>\n",
       "      <td>0.000000</td>\n",
       "      <td>0.000000</td>\n",
       "      <td>0.000000</td>\n",
       "      <td>0.000000</td>\n",
       "      <td>0.000000</td>\n",
       "      <td>0.000000</td>\n",
       "    </tr>\n",
       "    <tr>\n",
       "      <th>2015-11-19 14:30:00</th>\n",
       "      <td>0.230294</td>\n",
       "      <td>0.074866</td>\n",
       "      <td>0.095506</td>\n",
       "      <td>0.065327</td>\n",
       "      <td>0.041379</td>\n",
       "      <td>0.040323</td>\n",
       "      <td>0.037975</td>\n",
       "      <td>0.060345</td>\n",
       "      <td>0.113551</td>\n",
       "      <td>0.296325</td>\n",
       "      <td>0.459148</td>\n",
       "      <td>0.058047</td>\n",
       "    </tr>\n",
       "    <tr>\n",
       "      <th>2015-09-26 04:30:00</th>\n",
       "      <td>0.000000</td>\n",
       "      <td>0.000000</td>\n",
       "      <td>0.000000</td>\n",
       "      <td>0.000000</td>\n",
       "      <td>0.000000</td>\n",
       "      <td>0.000000</td>\n",
       "      <td>0.000000</td>\n",
       "      <td>0.000000</td>\n",
       "      <td>0.000000</td>\n",
       "      <td>0.000000</td>\n",
       "      <td>0.000000</td>\n",
       "      <td>0.000000</td>\n",
       "    </tr>\n",
       "    <tr>\n",
       "      <th>...</th>\n",
       "      <td>...</td>\n",
       "      <td>...</td>\n",
       "      <td>...</td>\n",
       "      <td>...</td>\n",
       "      <td>...</td>\n",
       "      <td>...</td>\n",
       "      <td>...</td>\n",
       "      <td>...</td>\n",
       "      <td>...</td>\n",
       "      <td>...</td>\n",
       "      <td>...</td>\n",
       "      <td>...</td>\n",
       "    </tr>\n",
       "    <tr>\n",
       "      <th>2014-09-19 05:30:00</th>\n",
       "      <td>0.000000</td>\n",
       "      <td>0.000000</td>\n",
       "      <td>0.000000</td>\n",
       "      <td>0.000000</td>\n",
       "      <td>0.000000</td>\n",
       "      <td>0.000000</td>\n",
       "      <td>0.000000</td>\n",
       "      <td>0.000000</td>\n",
       "      <td>0.000000</td>\n",
       "      <td>0.000000</td>\n",
       "      <td>0.000000</td>\n",
       "      <td>0.000000</td>\n",
       "    </tr>\n",
       "    <tr>\n",
       "      <th>2017-03-09 23:30:00</th>\n",
       "      <td>0.000000</td>\n",
       "      <td>0.000000</td>\n",
       "      <td>0.000000</td>\n",
       "      <td>0.000000</td>\n",
       "      <td>0.000000</td>\n",
       "      <td>0.000000</td>\n",
       "      <td>0.000000</td>\n",
       "      <td>0.000000</td>\n",
       "      <td>-0.000489</td>\n",
       "      <td>0.000000</td>\n",
       "      <td>0.000000</td>\n",
       "      <td>0.000000</td>\n",
       "    </tr>\n",
       "    <tr>\n",
       "      <th>2014-08-19 20:30:00</th>\n",
       "      <td>0.005146</td>\n",
       "      <td>0.005814</td>\n",
       "      <td>0.035928</td>\n",
       "      <td>0.017647</td>\n",
       "      <td>0.004717</td>\n",
       "      <td>0.008333</td>\n",
       "      <td>0.000000</td>\n",
       "      <td>0.018182</td>\n",
       "      <td>0.018389</td>\n",
       "      <td>0.005376</td>\n",
       "      <td>0.002611</td>\n",
       "      <td>0.025714</td>\n",
       "    </tr>\n",
       "    <tr>\n",
       "      <th>2016-01-05 01:00:00</th>\n",
       "      <td>0.000000</td>\n",
       "      <td>0.000000</td>\n",
       "      <td>0.000000</td>\n",
       "      <td>0.000000</td>\n",
       "      <td>0.000000</td>\n",
       "      <td>0.000000</td>\n",
       "      <td>0.000000</td>\n",
       "      <td>0.000000</td>\n",
       "      <td>-0.000577</td>\n",
       "      <td>0.000000</td>\n",
       "      <td>0.000000</td>\n",
       "      <td>0.000000</td>\n",
       "    </tr>\n",
       "    <tr>\n",
       "      <th>2018-01-30 05:00:00</th>\n",
       "      <td>0.000000</td>\n",
       "      <td>0.000000</td>\n",
       "      <td>0.000000</td>\n",
       "      <td>0.000000</td>\n",
       "      <td>0.000000</td>\n",
       "      <td>0.000000</td>\n",
       "      <td>0.000000</td>\n",
       "      <td>0.000000</td>\n",
       "      <td>-0.000442</td>\n",
       "      <td>0.000000</td>\n",
       "      <td>0.000000</td>\n",
       "      <td>0.000000</td>\n",
       "    </tr>\n",
       "  </tbody>\n",
       "</table>\n",
       "<p>100 rows × 12 columns</p>\n",
       "</div>"
      ],
      "text/plain": [
       "Périmètre            Auvergne-Rhône-Alpes  Bourgogne-Franche-Comté  Bretagne  \\\n",
       "DateTime                                                                       \n",
       "2014-09-14 03:30:00              0.000000                 0.000000  0.000000   \n",
       "2013-11-25 19:00:00              0.000000                 0.000000  0.000000   \n",
       "2013-09-22 04:30:00              0.000000                 0.000000  0.000000   \n",
       "2015-11-19 14:30:00              0.230294                 0.074866  0.095506   \n",
       "2015-09-26 04:30:00              0.000000                 0.000000  0.000000   \n",
       "...                                   ...                      ...       ...   \n",
       "2014-09-19 05:30:00              0.000000                 0.000000  0.000000   \n",
       "2017-03-09 23:30:00              0.000000                 0.000000  0.000000   \n",
       "2014-08-19 20:30:00              0.005146                 0.005814  0.035928   \n",
       "2016-01-05 01:00:00              0.000000                 0.000000  0.000000   \n",
       "2018-01-30 05:00:00              0.000000                 0.000000  0.000000   \n",
       "\n",
       "Périmètre            Centre-Val de Loire  Grand-Est  Hauts-de-France  \\\n",
       "DateTime                                                               \n",
       "2014-09-14 03:30:00             0.000000   0.000000         0.000000   \n",
       "2013-11-25 19:00:00             0.000000   0.000000         0.000000   \n",
       "2013-09-22 04:30:00             0.000000   0.000000         0.000000   \n",
       "2015-11-19 14:30:00             0.065327   0.041379         0.040323   \n",
       "2015-09-26 04:30:00             0.000000   0.000000         0.000000   \n",
       "...                                  ...        ...              ...   \n",
       "2014-09-19 05:30:00             0.000000   0.000000         0.000000   \n",
       "2017-03-09 23:30:00             0.000000   0.000000         0.000000   \n",
       "2014-08-19 20:30:00             0.017647   0.004717         0.008333   \n",
       "2016-01-05 01:00:00             0.000000   0.000000         0.000000   \n",
       "2018-01-30 05:00:00             0.000000   0.000000         0.000000   \n",
       "\n",
       "Périmètre            Ile-de-France  Normandie  Nouvelle-Aquitaine  Occitanie  \\\n",
       "DateTime                                                                       \n",
       "2014-09-14 03:30:00       0.000000   0.000000            0.000000   0.000000   \n",
       "2013-11-25 19:00:00       0.000000   0.000000            0.000000   0.000000   \n",
       "2013-09-22 04:30:00       0.000000   0.000000            0.000000   0.000000   \n",
       "2015-11-19 14:30:00       0.037975   0.060345            0.113551   0.296325   \n",
       "2015-09-26 04:30:00       0.000000   0.000000            0.000000   0.000000   \n",
       "...                            ...        ...                 ...        ...   \n",
       "2014-09-19 05:30:00       0.000000   0.000000            0.000000   0.000000   \n",
       "2017-03-09 23:30:00       0.000000   0.000000           -0.000489   0.000000   \n",
       "2014-08-19 20:30:00       0.000000   0.018182            0.018389   0.005376   \n",
       "2016-01-05 01:00:00       0.000000   0.000000           -0.000577   0.000000   \n",
       "2018-01-30 05:00:00       0.000000   0.000000           -0.000442   0.000000   \n",
       "\n",
       "Périmètre                PACA  Pays-de-la-Loire  \n",
       "DateTime                                         \n",
       "2014-09-14 03:30:00  0.000000          0.000000  \n",
       "2013-11-25 19:00:00  0.000000          0.000000  \n",
       "2013-09-22 04:30:00  0.000000          0.000000  \n",
       "2015-11-19 14:30:00  0.459148          0.058047  \n",
       "2015-09-26 04:30:00  0.000000          0.000000  \n",
       "...                       ...               ...  \n",
       "2014-09-19 05:30:00  0.000000          0.000000  \n",
       "2017-03-09 23:30:00  0.000000          0.000000  \n",
       "2014-08-19 20:30:00  0.002611          0.025714  \n",
       "2016-01-05 01:00:00  0.000000          0.000000  \n",
       "2018-01-30 05:00:00  0.000000          0.000000  \n",
       "\n",
       "[100 rows x 12 columns]"
      ]
     },
     "execution_count": 14,
     "metadata": {},
     "output_type": "execute_result"
    }
   ],
   "source": [
    "df_solaire.sample(100)"
   ]
  },
  {
   "cell_type": "code",
   "execution_count": 15,
   "metadata": {},
   "outputs": [
    {
     "data": {
      "text/html": [
       "<div>\n",
       "<style scoped>\n",
       "    .dataframe tbody tr th:only-of-type {\n",
       "        vertical-align: middle;\n",
       "    }\n",
       "\n",
       "    .dataframe tbody tr th {\n",
       "        vertical-align: top;\n",
       "    }\n",
       "\n",
       "    .dataframe thead th {\n",
       "        text-align: right;\n",
       "    }\n",
       "</style>\n",
       "<table border=\"1\" class=\"dataframe\">\n",
       "  <thead>\n",
       "    <tr style=\"text-align: right;\">\n",
       "      <th>Périmètre</th>\n",
       "      <th>Auvergne-Rhône-Alpes</th>\n",
       "      <th>Bourgogne-Franche-Comté</th>\n",
       "      <th>Bretagne</th>\n",
       "      <th>Centre-Val de Loire</th>\n",
       "      <th>Grand-Est</th>\n",
       "      <th>Hauts-de-France</th>\n",
       "      <th>Ile-de-France</th>\n",
       "      <th>Normandie</th>\n",
       "      <th>Nouvelle-Aquitaine</th>\n",
       "      <th>Occitanie</th>\n",
       "      <th>PACA</th>\n",
       "      <th>Pays-de-la-Loire</th>\n",
       "    </tr>\n",
       "    <tr>\n",
       "      <th>DateTime</th>\n",
       "      <th></th>\n",
       "      <th></th>\n",
       "      <th></th>\n",
       "      <th></th>\n",
       "      <th></th>\n",
       "      <th></th>\n",
       "      <th></th>\n",
       "      <th></th>\n",
       "      <th></th>\n",
       "      <th></th>\n",
       "      <th></th>\n",
       "      <th></th>\n",
       "    </tr>\n",
       "  </thead>\n",
       "  <tbody>\n",
       "    <tr>\n",
       "      <th>2015-10-09 15:00:00</th>\n",
       "      <td>0.087065</td>\n",
       "      <td>0.052770</td>\n",
       "      <td>0.042155</td>\n",
       "      <td>0.128995</td>\n",
       "      <td>0.038760</td>\n",
       "      <td>0.032618</td>\n",
       "      <td>0.093023</td>\n",
       "      <td>0.075838</td>\n",
       "      <td>0.237410</td>\n",
       "      <td>0.016378</td>\n",
       "      <td>0.060000</td>\n",
       "      <td>0.178797</td>\n",
       "    </tr>\n",
       "    <tr>\n",
       "      <th>2013-08-22 13:00:00</th>\n",
       "      <td>0.008403</td>\n",
       "      <td>0.072222</td>\n",
       "      <td>0.052430</td>\n",
       "      <td>0.385403</td>\n",
       "      <td>0.136680</td>\n",
       "      <td>0.158740</td>\n",
       "      <td>0.315789</td>\n",
       "      <td>0.222458</td>\n",
       "      <td>0.077922</td>\n",
       "      <td>0.157355</td>\n",
       "      <td>0.000000</td>\n",
       "      <td>0.191956</td>\n",
       "    </tr>\n",
       "    <tr>\n",
       "      <th>2015-03-01 04:30:00</th>\n",
       "      <td>0.432836</td>\n",
       "      <td>0.638522</td>\n",
       "      <td>0.419204</td>\n",
       "      <td>0.762557</td>\n",
       "      <td>0.717442</td>\n",
       "      <td>0.727897</td>\n",
       "      <td>0.255814</td>\n",
       "      <td>0.814815</td>\n",
       "      <td>0.471223</td>\n",
       "      <td>0.144509</td>\n",
       "      <td>0.000000</td>\n",
       "      <td>0.528481</td>\n",
       "    </tr>\n",
       "    <tr>\n",
       "      <th>2013-01-08 00:00:00</th>\n",
       "      <td>0.179272</td>\n",
       "      <td>0.000000</td>\n",
       "      <td>0.084399</td>\n",
       "      <td>0.000000</td>\n",
       "      <td>0.000994</td>\n",
       "      <td>0.028537</td>\n",
       "      <td>0.000000</td>\n",
       "      <td>0.040254</td>\n",
       "      <td>0.005195</td>\n",
       "      <td>0.106043</td>\n",
       "      <td>0.200000</td>\n",
       "      <td>0.001828</td>\n",
       "    </tr>\n",
       "    <tr>\n",
       "      <th>2016-01-31 17:30:00</th>\n",
       "      <td>0.410835</td>\n",
       "      <td>0.678801</td>\n",
       "      <td>0.616648</td>\n",
       "      <td>0.742105</td>\n",
       "      <td>0.767814</td>\n",
       "      <td>0.759654</td>\n",
       "      <td>0.651163</td>\n",
       "      <td>0.816485</td>\n",
       "      <td>0.494920</td>\n",
       "      <td>0.635193</td>\n",
       "      <td>0.460000</td>\n",
       "      <td>0.646658</td>\n",
       "    </tr>\n",
       "    <tr>\n",
       "      <th>...</th>\n",
       "      <td>...</td>\n",
       "      <td>...</td>\n",
       "      <td>...</td>\n",
       "      <td>...</td>\n",
       "      <td>...</td>\n",
       "      <td>...</td>\n",
       "      <td>...</td>\n",
       "      <td>...</td>\n",
       "      <td>...</td>\n",
       "      <td>...</td>\n",
       "      <td>...</td>\n",
       "      <td>...</td>\n",
       "    </tr>\n",
       "    <tr>\n",
       "      <th>2013-02-13 05:30:00</th>\n",
       "      <td>0.240896</td>\n",
       "      <td>0.016667</td>\n",
       "      <td>0.019182</td>\n",
       "      <td>0.024328</td>\n",
       "      <td>0.006958</td>\n",
       "      <td>0.009512</td>\n",
       "      <td>0.000000</td>\n",
       "      <td>0.008475</td>\n",
       "      <td>0.015584</td>\n",
       "      <td>0.482326</td>\n",
       "      <td>0.933333</td>\n",
       "      <td>0.029250</td>\n",
       "    </tr>\n",
       "    <tr>\n",
       "      <th>2016-09-25 09:00:00</th>\n",
       "      <td>0.390519</td>\n",
       "      <td>0.426124</td>\n",
       "      <td>0.105148</td>\n",
       "      <td>0.263158</td>\n",
       "      <td>0.318387</td>\n",
       "      <td>0.290509</td>\n",
       "      <td>0.279070</td>\n",
       "      <td>0.186625</td>\n",
       "      <td>0.127721</td>\n",
       "      <td>0.187124</td>\n",
       "      <td>0.000000</td>\n",
       "      <td>0.085948</td>\n",
       "    </tr>\n",
       "    <tr>\n",
       "      <th>2016-03-11 23:30:00</th>\n",
       "      <td>0.433409</td>\n",
       "      <td>0.190578</td>\n",
       "      <td>0.072289</td>\n",
       "      <td>0.125263</td>\n",
       "      <td>0.286757</td>\n",
       "      <td>0.116564</td>\n",
       "      <td>0.093023</td>\n",
       "      <td>0.020218</td>\n",
       "      <td>0.055152</td>\n",
       "      <td>0.357082</td>\n",
       "      <td>0.260000</td>\n",
       "      <td>0.094134</td>\n",
       "    </tr>\n",
       "    <tr>\n",
       "      <th>2015-09-27 01:00:00</th>\n",
       "      <td>0.181592</td>\n",
       "      <td>0.361478</td>\n",
       "      <td>0.244731</td>\n",
       "      <td>0.496575</td>\n",
       "      <td>0.424806</td>\n",
       "      <td>0.304721</td>\n",
       "      <td>0.372093</td>\n",
       "      <td>0.250441</td>\n",
       "      <td>0.347122</td>\n",
       "      <td>0.034682</td>\n",
       "      <td>0.100000</td>\n",
       "      <td>0.327532</td>\n",
       "    </tr>\n",
       "    <tr>\n",
       "      <th>2014-04-21 23:00:00</th>\n",
       "      <td>0.058511</td>\n",
       "      <td>0.006873</td>\n",
       "      <td>0.021792</td>\n",
       "      <td>0.002370</td>\n",
       "      <td>0.082873</td>\n",
       "      <td>0.084980</td>\n",
       "      <td>0.000000</td>\n",
       "      <td>0.046154</td>\n",
       "      <td>0.012422</td>\n",
       "      <td>0.057816</td>\n",
       "      <td>0.021277</td>\n",
       "      <td>0.013841</td>\n",
       "    </tr>\n",
       "  </tbody>\n",
       "</table>\n",
       "<p>100 rows × 12 columns</p>\n",
       "</div>"
      ],
      "text/plain": [
       "Périmètre            Auvergne-Rhône-Alpes  Bourgogne-Franche-Comté  Bretagne  \\\n",
       "DateTime                                                                       \n",
       "2015-10-09 15:00:00              0.087065                 0.052770  0.042155   \n",
       "2013-08-22 13:00:00              0.008403                 0.072222  0.052430   \n",
       "2015-03-01 04:30:00              0.432836                 0.638522  0.419204   \n",
       "2013-01-08 00:00:00              0.179272                 0.000000  0.084399   \n",
       "2016-01-31 17:30:00              0.410835                 0.678801  0.616648   \n",
       "...                                   ...                      ...       ...   \n",
       "2013-02-13 05:30:00              0.240896                 0.016667  0.019182   \n",
       "2016-09-25 09:00:00              0.390519                 0.426124  0.105148   \n",
       "2016-03-11 23:30:00              0.433409                 0.190578  0.072289   \n",
       "2015-09-27 01:00:00              0.181592                 0.361478  0.244731   \n",
       "2014-04-21 23:00:00              0.058511                 0.006873  0.021792   \n",
       "\n",
       "Périmètre            Centre-Val de Loire  Grand-Est  Hauts-de-France  \\\n",
       "DateTime                                                               \n",
       "2015-10-09 15:00:00             0.128995   0.038760         0.032618   \n",
       "2013-08-22 13:00:00             0.385403   0.136680         0.158740   \n",
       "2015-03-01 04:30:00             0.762557   0.717442         0.727897   \n",
       "2013-01-08 00:00:00             0.000000   0.000994         0.028537   \n",
       "2016-01-31 17:30:00             0.742105   0.767814         0.759654   \n",
       "...                                  ...        ...              ...   \n",
       "2013-02-13 05:30:00             0.024328   0.006958         0.009512   \n",
       "2016-09-25 09:00:00             0.263158   0.318387         0.290509   \n",
       "2016-03-11 23:30:00             0.125263   0.286757         0.116564   \n",
       "2015-09-27 01:00:00             0.496575   0.424806         0.304721   \n",
       "2014-04-21 23:00:00             0.002370   0.082873         0.084980   \n",
       "\n",
       "Périmètre            Ile-de-France  Normandie  Nouvelle-Aquitaine  Occitanie  \\\n",
       "DateTime                                                                       \n",
       "2015-10-09 15:00:00       0.093023   0.075838            0.237410   0.016378   \n",
       "2013-08-22 13:00:00       0.315789   0.222458            0.077922   0.157355   \n",
       "2015-03-01 04:30:00       0.255814   0.814815            0.471223   0.144509   \n",
       "2013-01-08 00:00:00       0.000000   0.040254            0.005195   0.106043   \n",
       "2016-01-31 17:30:00       0.651163   0.816485            0.494920   0.635193   \n",
       "...                            ...        ...                 ...        ...   \n",
       "2013-02-13 05:30:00       0.000000   0.008475            0.015584   0.482326   \n",
       "2016-09-25 09:00:00       0.279070   0.186625            0.127721   0.187124   \n",
       "2016-03-11 23:30:00       0.093023   0.020218            0.055152   0.357082   \n",
       "2015-09-27 01:00:00       0.372093   0.250441            0.347122   0.034682   \n",
       "2014-04-21 23:00:00       0.000000   0.046154            0.012422   0.057816   \n",
       "\n",
       "Périmètre                PACA  Pays-de-la-Loire  \n",
       "DateTime                                         \n",
       "2015-10-09 15:00:00  0.060000          0.178797  \n",
       "2013-08-22 13:00:00  0.000000          0.191956  \n",
       "2015-03-01 04:30:00  0.000000          0.528481  \n",
       "2013-01-08 00:00:00  0.200000          0.001828  \n",
       "2016-01-31 17:30:00  0.460000          0.646658  \n",
       "...                       ...               ...  \n",
       "2013-02-13 05:30:00  0.933333          0.029250  \n",
       "2016-09-25 09:00:00  0.000000          0.085948  \n",
       "2016-03-11 23:30:00  0.260000          0.094134  \n",
       "2015-09-27 01:00:00  0.100000          0.327532  \n",
       "2014-04-21 23:00:00  0.021277          0.013841  \n",
       "\n",
       "[100 rows x 12 columns]"
      ]
     },
     "execution_count": 15,
     "metadata": {},
     "output_type": "execute_result"
    }
   ],
   "source": [
    "df_eolien.sample(100)"
   ]
  },
  {
   "cell_type": "code",
   "execution_count": 109,
   "metadata": {},
   "outputs": [
    {
     "data": {
      "text/html": [
       "<div>\n",
       "<style scoped>\n",
       "    .dataframe tbody tr th:only-of-type {\n",
       "        vertical-align: middle;\n",
       "    }\n",
       "\n",
       "    .dataframe tbody tr th {\n",
       "        vertical-align: top;\n",
       "    }\n",
       "\n",
       "    .dataframe thead th {\n",
       "        text-align: right;\n",
       "    }\n",
       "</style>\n",
       "<table border=\"1\" class=\"dataframe\">\n",
       "  <thead>\n",
       "    <tr style=\"text-align: right;\">\n",
       "      <th></th>\n",
       "      <th>Consommation</th>\n",
       "      <th>Fioul</th>\n",
       "      <th>Charbon</th>\n",
       "      <th>Gaz</th>\n",
       "      <th>Nucléaire</th>\n",
       "      <th>Eolien</th>\n",
       "      <th>Solaire</th>\n",
       "      <th>Hydraulique</th>\n",
       "      <th>Pompage</th>\n",
       "      <th>Bioénergies</th>\n",
       "      <th>Ech. physiques</th>\n",
       "    </tr>\n",
       "    <tr>\n",
       "      <th>DateTime</th>\n",
       "      <th></th>\n",
       "      <th></th>\n",
       "      <th></th>\n",
       "      <th></th>\n",
       "      <th></th>\n",
       "      <th></th>\n",
       "      <th></th>\n",
       "      <th></th>\n",
       "      <th></th>\n",
       "      <th></th>\n",
       "      <th></th>\n",
       "    </tr>\n",
       "  </thead>\n",
       "  <tbody>\n",
       "    <tr>\n",
       "      <th>2018-01-01 00:00:00</th>\n",
       "      <td>61127.0</td>\n",
       "      <td>164.0</td>\n",
       "      <td>36.0</td>\n",
       "      <td>2462.0</td>\n",
       "      <td>42054.0</td>\n",
       "      <td>10799.0</td>\n",
       "      <td>-1.0</td>\n",
       "      <td>8012.0</td>\n",
       "      <td>-1054.0</td>\n",
       "      <td>1169.0</td>\n",
       "      <td>-2512.0</td>\n",
       "    </tr>\n",
       "    <tr>\n",
       "      <th>2018-01-01 00:15:00</th>\n",
       "      <td>NaN</td>\n",
       "      <td>NaN</td>\n",
       "      <td>NaN</td>\n",
       "      <td>NaN</td>\n",
       "      <td>NaN</td>\n",
       "      <td>NaN</td>\n",
       "      <td>NaN</td>\n",
       "      <td>NaN</td>\n",
       "      <td>NaN</td>\n",
       "      <td>NaN</td>\n",
       "      <td>NaN</td>\n",
       "    </tr>\n",
       "    <tr>\n",
       "      <th>2018-01-01 00:30:00</th>\n",
       "      <td>59962.0</td>\n",
       "      <td>108.0</td>\n",
       "      <td>18.0</td>\n",
       "      <td>2471.0</td>\n",
       "      <td>37564.0</td>\n",
       "      <td>10684.0</td>\n",
       "      <td>-1.0</td>\n",
       "      <td>8870.0</td>\n",
       "      <td>-1423.0</td>\n",
       "      <td>1120.0</td>\n",
       "      <td>552.0</td>\n",
       "    </tr>\n",
       "    <tr>\n",
       "      <th>2018-01-01 00:45:00</th>\n",
       "      <td>NaN</td>\n",
       "      <td>NaN</td>\n",
       "      <td>NaN</td>\n",
       "      <td>NaN</td>\n",
       "      <td>NaN</td>\n",
       "      <td>NaN</td>\n",
       "      <td>NaN</td>\n",
       "      <td>NaN</td>\n",
       "      <td>NaN</td>\n",
       "      <td>NaN</td>\n",
       "      <td>NaN</td>\n",
       "    </tr>\n",
       "    <tr>\n",
       "      <th>2018-01-01 01:00:00</th>\n",
       "      <td>57879.0</td>\n",
       "      <td>107.0</td>\n",
       "      <td>17.0</td>\n",
       "      <td>2474.0</td>\n",
       "      <td>35725.0</td>\n",
       "      <td>10660.0</td>\n",
       "      <td>-1.0</td>\n",
       "      <td>8585.0</td>\n",
       "      <td>-1398.0</td>\n",
       "      <td>1118.0</td>\n",
       "      <td>590.0</td>\n",
       "    </tr>\n",
       "    <tr>\n",
       "      <th>...</th>\n",
       "      <td>...</td>\n",
       "      <td>...</td>\n",
       "      <td>...</td>\n",
       "      <td>...</td>\n",
       "      <td>...</td>\n",
       "      <td>...</td>\n",
       "      <td>...</td>\n",
       "      <td>...</td>\n",
       "      <td>...</td>\n",
       "      <td>...</td>\n",
       "      <td>...</td>\n",
       "    </tr>\n",
       "    <tr>\n",
       "      <th>2018-12-31 22:45:00</th>\n",
       "      <td>NaN</td>\n",
       "      <td>NaN</td>\n",
       "      <td>NaN</td>\n",
       "      <td>NaN</td>\n",
       "      <td>NaN</td>\n",
       "      <td>NaN</td>\n",
       "      <td>NaN</td>\n",
       "      <td>NaN</td>\n",
       "      <td>NaN</td>\n",
       "      <td>NaN</td>\n",
       "      <td>NaN</td>\n",
       "    </tr>\n",
       "    <tr>\n",
       "      <th>2018-12-31 23:00:00</th>\n",
       "      <td>63977.0</td>\n",
       "      <td>146.0</td>\n",
       "      <td>11.0</td>\n",
       "      <td>3910.0</td>\n",
       "      <td>55589.0</td>\n",
       "      <td>1537.0</td>\n",
       "      <td>-2.0</td>\n",
       "      <td>5148.0</td>\n",
       "      <td>-1364.0</td>\n",
       "      <td>1172.0</td>\n",
       "      <td>-2171.0</td>\n",
       "    </tr>\n",
       "    <tr>\n",
       "      <th>2018-12-31 23:15:00</th>\n",
       "      <td>NaN</td>\n",
       "      <td>NaN</td>\n",
       "      <td>NaN</td>\n",
       "      <td>NaN</td>\n",
       "      <td>NaN</td>\n",
       "      <td>NaN</td>\n",
       "      <td>NaN</td>\n",
       "      <td>NaN</td>\n",
       "      <td>NaN</td>\n",
       "      <td>NaN</td>\n",
       "      <td>NaN</td>\n",
       "    </tr>\n",
       "    <tr>\n",
       "      <th>2018-12-31 23:30:00</th>\n",
       "      <td>63803.0</td>\n",
       "      <td>146.0</td>\n",
       "      <td>12.0</td>\n",
       "      <td>3452.0</td>\n",
       "      <td>55404.0</td>\n",
       "      <td>1543.0</td>\n",
       "      <td>-2.0</td>\n",
       "      <td>4688.0</td>\n",
       "      <td>-1474.0</td>\n",
       "      <td>1166.0</td>\n",
       "      <td>-1133.0</td>\n",
       "    </tr>\n",
       "    <tr>\n",
       "      <th>2018-12-31 23:45:00</th>\n",
       "      <td>NaN</td>\n",
       "      <td>NaN</td>\n",
       "      <td>NaN</td>\n",
       "      <td>NaN</td>\n",
       "      <td>NaN</td>\n",
       "      <td>NaN</td>\n",
       "      <td>NaN</td>\n",
       "      <td>NaN</td>\n",
       "      <td>NaN</td>\n",
       "      <td>NaN</td>\n",
       "      <td>NaN</td>\n",
       "    </tr>\n",
       "  </tbody>\n",
       "</table>\n",
       "<p>35040 rows × 11 columns</p>\n",
       "</div>"
      ],
      "text/plain": [
       "                     Consommation  Fioul  Charbon     Gaz  Nucléaire   Eolien  \\\n",
       "DateTime                                                                        \n",
       "2018-01-01 00:00:00       61127.0  164.0     36.0  2462.0    42054.0  10799.0   \n",
       "2018-01-01 00:15:00           NaN    NaN      NaN     NaN        NaN      NaN   \n",
       "2018-01-01 00:30:00       59962.0  108.0     18.0  2471.0    37564.0  10684.0   \n",
       "2018-01-01 00:45:00           NaN    NaN      NaN     NaN        NaN      NaN   \n",
       "2018-01-01 01:00:00       57879.0  107.0     17.0  2474.0    35725.0  10660.0   \n",
       "...                           ...    ...      ...     ...        ...      ...   \n",
       "2018-12-31 22:45:00           NaN    NaN      NaN     NaN        NaN      NaN   \n",
       "2018-12-31 23:00:00       63977.0  146.0     11.0  3910.0    55589.0   1537.0   \n",
       "2018-12-31 23:15:00           NaN    NaN      NaN     NaN        NaN      NaN   \n",
       "2018-12-31 23:30:00       63803.0  146.0     12.0  3452.0    55404.0   1543.0   \n",
       "2018-12-31 23:45:00           NaN    NaN      NaN     NaN        NaN      NaN   \n",
       "\n",
       "                     Solaire  Hydraulique  Pompage  Bioénergies  \\\n",
       "DateTime                                                          \n",
       "2018-01-01 00:00:00     -1.0       8012.0  -1054.0       1169.0   \n",
       "2018-01-01 00:15:00      NaN          NaN      NaN          NaN   \n",
       "2018-01-01 00:30:00     -1.0       8870.0  -1423.0       1120.0   \n",
       "2018-01-01 00:45:00      NaN          NaN      NaN          NaN   \n",
       "2018-01-01 01:00:00     -1.0       8585.0  -1398.0       1118.0   \n",
       "...                      ...          ...      ...          ...   \n",
       "2018-12-31 22:45:00      NaN          NaN      NaN          NaN   \n",
       "2018-12-31 23:00:00     -2.0       5148.0  -1364.0       1172.0   \n",
       "2018-12-31 23:15:00      NaN          NaN      NaN          NaN   \n",
       "2018-12-31 23:30:00     -2.0       4688.0  -1474.0       1166.0   \n",
       "2018-12-31 23:45:00      NaN          NaN      NaN          NaN   \n",
       "\n",
       "                     Ech. physiques  \n",
       "DateTime                             \n",
       "2018-01-01 00:00:00         -2512.0  \n",
       "2018-01-01 00:15:00             NaN  \n",
       "2018-01-01 00:30:00           552.0  \n",
       "2018-01-01 00:45:00             NaN  \n",
       "2018-01-01 01:00:00           590.0  \n",
       "...                             ...  \n",
       "2018-12-31 22:45:00             NaN  \n",
       "2018-12-31 23:00:00         -2171.0  \n",
       "2018-12-31 23:15:00             NaN  \n",
       "2018-12-31 23:30:00         -1133.0  \n",
       "2018-12-31 23:45:00             NaN  \n",
       "\n",
       "[35040 rows x 11 columns]"
      ]
     },
     "execution_count": 109,
     "metadata": {},
     "output_type": "execute_result"
    }
   ],
   "source": [
    "df_data_nationales.resample('h').mean()\n",
    "df = df_data_nationales[df_data_nationales.index.year == 2018]\n",
    "df\n"
   ]
  },
  {
   "cell_type": "markdown",
   "metadata": {},
   "source": [
    "1.1 -->  Comparer les énergies renouvables (Eolien,solaire,hydraulique,BioEnergies)"
   ]
  },
  {
   "cell_type": "code",
   "execution_count": 17,
   "metadata": {},
   "outputs": [
    {
     "data": {
      "text/html": [
       "<div>\n",
       "<style scoped>\n",
       "    .dataframe tbody tr th:only-of-type {\n",
       "        vertical-align: middle;\n",
       "    }\n",
       "\n",
       "    .dataframe tbody tr th {\n",
       "        vertical-align: top;\n",
       "    }\n",
       "\n",
       "    .dataframe thead th {\n",
       "        text-align: right;\n",
       "    }\n",
       "</style>\n",
       "<table border=\"1\" class=\"dataframe\">\n",
       "  <thead>\n",
       "    <tr style=\"text-align: right;\">\n",
       "      <th></th>\n",
       "      <th>Fioul</th>\n",
       "      <th>Charbon</th>\n",
       "      <th>Gaz</th>\n",
       "      <th>Nucléaire</th>\n",
       "      <th>Eolien</th>\n",
       "      <th>Solaire</th>\n",
       "      <th>Hydraulique</th>\n",
       "      <th>Bioénergies</th>\n",
       "    </tr>\n",
       "    <tr>\n",
       "      <th>DateTime</th>\n",
       "      <th></th>\n",
       "      <th></th>\n",
       "      <th></th>\n",
       "      <th></th>\n",
       "      <th></th>\n",
       "      <th></th>\n",
       "      <th></th>\n",
       "      <th></th>\n",
       "    </tr>\n",
       "  </thead>\n",
       "  <tbody>\n",
       "    <tr>\n",
       "      <th>2018-01-01 00:00:00</th>\n",
       "      <td>164.0</td>\n",
       "      <td>36.0</td>\n",
       "      <td>2462.0</td>\n",
       "      <td>42054.0</td>\n",
       "      <td>10799.0</td>\n",
       "      <td>-1.0</td>\n",
       "      <td>8012.0</td>\n",
       "      <td>1169.0</td>\n",
       "    </tr>\n",
       "    <tr>\n",
       "      <th>2018-01-01 00:15:00</th>\n",
       "      <td>NaN</td>\n",
       "      <td>NaN</td>\n",
       "      <td>NaN</td>\n",
       "      <td>NaN</td>\n",
       "      <td>NaN</td>\n",
       "      <td>NaN</td>\n",
       "      <td>NaN</td>\n",
       "      <td>NaN</td>\n",
       "    </tr>\n",
       "    <tr>\n",
       "      <th>2018-01-01 00:30:00</th>\n",
       "      <td>108.0</td>\n",
       "      <td>18.0</td>\n",
       "      <td>2471.0</td>\n",
       "      <td>37564.0</td>\n",
       "      <td>10684.0</td>\n",
       "      <td>-1.0</td>\n",
       "      <td>8870.0</td>\n",
       "      <td>1120.0</td>\n",
       "    </tr>\n",
       "    <tr>\n",
       "      <th>2018-01-01 00:45:00</th>\n",
       "      <td>NaN</td>\n",
       "      <td>NaN</td>\n",
       "      <td>NaN</td>\n",
       "      <td>NaN</td>\n",
       "      <td>NaN</td>\n",
       "      <td>NaN</td>\n",
       "      <td>NaN</td>\n",
       "      <td>NaN</td>\n",
       "    </tr>\n",
       "    <tr>\n",
       "      <th>2018-01-01 01:00:00</th>\n",
       "      <td>107.0</td>\n",
       "      <td>17.0</td>\n",
       "      <td>2474.0</td>\n",
       "      <td>35725.0</td>\n",
       "      <td>10660.0</td>\n",
       "      <td>-1.0</td>\n",
       "      <td>8585.0</td>\n",
       "      <td>1118.0</td>\n",
       "    </tr>\n",
       "    <tr>\n",
       "      <th>...</th>\n",
       "      <td>...</td>\n",
       "      <td>...</td>\n",
       "      <td>...</td>\n",
       "      <td>...</td>\n",
       "      <td>...</td>\n",
       "      <td>...</td>\n",
       "      <td>...</td>\n",
       "      <td>...</td>\n",
       "    </tr>\n",
       "    <tr>\n",
       "      <th>2018-12-31 22:45:00</th>\n",
       "      <td>NaN</td>\n",
       "      <td>NaN</td>\n",
       "      <td>NaN</td>\n",
       "      <td>NaN</td>\n",
       "      <td>NaN</td>\n",
       "      <td>NaN</td>\n",
       "      <td>NaN</td>\n",
       "      <td>NaN</td>\n",
       "    </tr>\n",
       "    <tr>\n",
       "      <th>2018-12-31 23:00:00</th>\n",
       "      <td>146.0</td>\n",
       "      <td>11.0</td>\n",
       "      <td>3910.0</td>\n",
       "      <td>55589.0</td>\n",
       "      <td>1537.0</td>\n",
       "      <td>-2.0</td>\n",
       "      <td>5148.0</td>\n",
       "      <td>1172.0</td>\n",
       "    </tr>\n",
       "    <tr>\n",
       "      <th>2018-12-31 23:15:00</th>\n",
       "      <td>NaN</td>\n",
       "      <td>NaN</td>\n",
       "      <td>NaN</td>\n",
       "      <td>NaN</td>\n",
       "      <td>NaN</td>\n",
       "      <td>NaN</td>\n",
       "      <td>NaN</td>\n",
       "      <td>NaN</td>\n",
       "    </tr>\n",
       "    <tr>\n",
       "      <th>2018-12-31 23:30:00</th>\n",
       "      <td>146.0</td>\n",
       "      <td>12.0</td>\n",
       "      <td>3452.0</td>\n",
       "      <td>55404.0</td>\n",
       "      <td>1543.0</td>\n",
       "      <td>-2.0</td>\n",
       "      <td>4688.0</td>\n",
       "      <td>1166.0</td>\n",
       "    </tr>\n",
       "    <tr>\n",
       "      <th>2018-12-31 23:45:00</th>\n",
       "      <td>NaN</td>\n",
       "      <td>NaN</td>\n",
       "      <td>NaN</td>\n",
       "      <td>NaN</td>\n",
       "      <td>NaN</td>\n",
       "      <td>NaN</td>\n",
       "      <td>NaN</td>\n",
       "      <td>NaN</td>\n",
       "    </tr>\n",
       "  </tbody>\n",
       "</table>\n",
       "<p>35040 rows × 8 columns</p>\n",
       "</div>"
      ],
      "text/plain": [
       "                     Fioul  Charbon     Gaz  Nucléaire   Eolien  Solaire  \\\n",
       "DateTime                                                                   \n",
       "2018-01-01 00:00:00  164.0     36.0  2462.0    42054.0  10799.0     -1.0   \n",
       "2018-01-01 00:15:00    NaN      NaN     NaN        NaN      NaN      NaN   \n",
       "2018-01-01 00:30:00  108.0     18.0  2471.0    37564.0  10684.0     -1.0   \n",
       "2018-01-01 00:45:00    NaN      NaN     NaN        NaN      NaN      NaN   \n",
       "2018-01-01 01:00:00  107.0     17.0  2474.0    35725.0  10660.0     -1.0   \n",
       "...                    ...      ...     ...        ...      ...      ...   \n",
       "2018-12-31 22:45:00    NaN      NaN     NaN        NaN      NaN      NaN   \n",
       "2018-12-31 23:00:00  146.0     11.0  3910.0    55589.0   1537.0     -2.0   \n",
       "2018-12-31 23:15:00    NaN      NaN     NaN        NaN      NaN      NaN   \n",
       "2018-12-31 23:30:00  146.0     12.0  3452.0    55404.0   1543.0     -2.0   \n",
       "2018-12-31 23:45:00    NaN      NaN     NaN        NaN      NaN      NaN   \n",
       "\n",
       "                     Hydraulique  Bioénergies  \n",
       "DateTime                                       \n",
       "2018-01-01 00:00:00       8012.0       1169.0  \n",
       "2018-01-01 00:15:00          NaN          NaN  \n",
       "2018-01-01 00:30:00       8870.0       1120.0  \n",
       "2018-01-01 00:45:00          NaN          NaN  \n",
       "2018-01-01 01:00:00       8585.0       1118.0  \n",
       "...                          ...          ...  \n",
       "2018-12-31 22:45:00          NaN          NaN  \n",
       "2018-12-31 23:00:00       5148.0       1172.0  \n",
       "2018-12-31 23:15:00          NaN          NaN  \n",
       "2018-12-31 23:30:00       4688.0       1166.0  \n",
       "2018-12-31 23:45:00          NaN          NaN  \n",
       "\n",
       "[35040 rows x 8 columns]"
      ]
     },
     "execution_count": 17,
     "metadata": {},
     "output_type": "execute_result"
    }
   ],
   "source": [
    "df_mieux=df_data_nationales.drop(columns=[\"Consommation\",\"Pompage\",\"Ech. physiques\"])\n",
    "df_index = df_mieux[df_data_nationales.index.year == 2018]\n",
    "df_index\n"
   ]
  },
  {
   "cell_type": "code",
   "execution_count": 48,
   "metadata": {},
   "outputs": [
    {
     "name": "stdout",
     "output_type": "stream",
     "text": [
      "                     Fioul  Charbon     Gaz  Nucléaire   Eolien  Solaire  \\\n",
      "DateTime                                                                   \n",
      "2018-01-01 00:00:00  164.0     36.0  2462.0    42054.0  10799.0     -1.0   \n",
      "2018-01-01 00:15:00    NaN      NaN     NaN        NaN      NaN      NaN   \n",
      "2018-01-01 00:30:00  108.0     18.0  2471.0    37564.0  10684.0     -1.0   \n",
      "2018-01-01 00:45:00    NaN      NaN     NaN        NaN      NaN      NaN   \n",
      "2018-01-01 01:00:00  107.0     17.0  2474.0    35725.0  10660.0     -1.0   \n",
      "...                    ...      ...     ...        ...      ...      ...   \n",
      "2018-12-31 22:45:00    NaN      NaN     NaN        NaN      NaN      NaN   \n",
      "2018-12-31 23:00:00  146.0     11.0  3910.0    55589.0   1537.0     -2.0   \n",
      "2018-12-31 23:15:00    NaN      NaN     NaN        NaN      NaN      NaN   \n",
      "2018-12-31 23:30:00  146.0     12.0  3452.0    55404.0   1543.0     -2.0   \n",
      "2018-12-31 23:45:00    NaN      NaN     NaN        NaN      NaN      NaN   \n",
      "\n",
      "                     Hydraulique  Bioénergies  \n",
      "DateTime                                       \n",
      "2018-01-01 00:00:00       8012.0       1169.0  \n",
      "2018-01-01 00:15:00          NaN          NaN  \n",
      "2018-01-01 00:30:00       8870.0       1120.0  \n",
      "2018-01-01 00:45:00          NaN          NaN  \n",
      "2018-01-01 01:00:00       8585.0       1118.0  \n",
      "...                          ...          ...  \n",
      "2018-12-31 22:45:00          NaN          NaN  \n",
      "2018-12-31 23:00:00       5148.0       1172.0  \n",
      "2018-12-31 23:15:00          NaN          NaN  \n",
      "2018-12-31 23:30:00       4688.0       1166.0  \n",
      "2018-12-31 23:45:00          NaN          NaN  \n",
      "\n",
      "[35040 rows x 8 columns]\n",
      "Fioul           0.375834\n",
      "Charbon         1.051711\n",
      "Gaz             5.523096\n",
      "Nucléaire      71.889591\n",
      "Eolien          5.146062\n",
      "Solaire         1.935942\n",
      "Hydraulique    12.331490\n",
      "Bioénergies     1.746274\n",
      "dtype: float64\n"
     ]
    }
   ],
   "source": [
    "col=df_mieux.columns\n",
    "colonnes=['Fioul', 'Charbon', 'Gaz', 'Nucléaire', 'Eolien','Solaire', 'Hydraulique', 'Bioénergies']\n",
    "liste=df_index[colonnes]\n",
    "print(liste)\n",
    "\n",
    "df_index_total=liste.sum()\n",
    "df_index_total = df_index_total.apply(lambda x : x*100/(df_index_total.sum()))\n",
    "print(df_index_total)\n",
    "\n",
    "courses = list(df_index_total.keys())\n",
    "values = list(df_index_total.values)"
   ]
  },
  {
   "cell_type": "code",
   "execution_count": 57,
   "metadata": {},
   "outputs": [
    {
     "data": {
      "image/png": "[encoded data removed]",
      "text/plain": [
       "<Figure size 1500x1000 with 1 Axes>"
      ]
     },
     "metadata": {},
     "output_type": "display_data"
    }
   ],
   "source": [
    "plt.bar(courses, values, color ='maroon', width = 0.4)\n",
    "plt.ylabel('Total Energies Produites')\n",
    "plt.title(\"Production Energies sur l'année 2018\" )\n",
    "plt.show()"
   ]
  },
  {
   "cell_type": "markdown",
   "metadata": {},
   "source": [
    "BarH --> Production Energies sur l'année 2018"
   ]
  },
  {
   "cell_type": "code",
   "execution_count": 61,
   "metadata": {},
   "outputs": [
    {
     "data": {
      "image/png": "[encoded data removed]",
      "text/plain": [
       "<Figure size 1500x1000 with 1 Axes>"
      ]
     },
     "metadata": {},
     "output_type": "display_data"
    }
   ],
   "source": [
    "#Bar H\n",
    "plt.barh(courses,values, color ='maroon')\n",
    "plt.xlabel('Total Energies Produites')\n",
    "plt.title(\"Production Energies sur l'année 2018\" )\n",
    "plt.show()"
   ]
  },
  {
   "cell_type": "markdown",
   "metadata": {},
   "source": [
    "1.1 (Bis) Bar Horizontal --> Comparaison Energies Renouvables VS Non Renouvables sur l'année 2018"
   ]
  },
  {
   "cell_type": "code",
   "execution_count": 19,
   "metadata": {},
   "outputs": [
    {
     "name": "stdout",
     "output_type": "stream",
     "text": [
      "{'renouvable': 19, 'non_renouvable': 77}\n"
     ]
    },
    {
     "data": {
      "image/png": "[encoded data removed]",
      "text/plain": [
       "<Figure size 1500x1000 with 1 Axes>"
      ]
     },
     "metadata": {},
     "output_type": "display_data"
    }
   ],
   "source": [
    "#Aide avec ChatGPT\n",
    "\n",
    "energies = {'renouvable': None, 'non_renouvable': None}\n",
    "\n",
    "# Assuming df_index_total is a pandas DataFrame and has a column 'Eolien'\n",
    "# Assign the value from the DataFrame to the dictionary\n",
    "energies['renouvable'] = int(df_index_total['Eolien'].sum())+int(df_index_total['Solaire'].sum())+int(df_index_total['Hydraulique'].sum())+int(df_index_total['Bioénergies'].sum())  # or another aggregation if needed\n",
    "energies['non_renouvable'] = int(df_index_total['Fioul'].sum())+int(df_index_total['Charbon'].sum())+int(df_index_total['Gaz'].sum())+int(df_index_total['Nucléaire'].sum())\n",
    "print(energies)\n",
    "\n",
    "# Extract keys and values from the dictionary\n",
    "labels = list(energies.keys())\n",
    "values = list(energies.values())\n",
    "\n",
    "# Plot the bar chart\n",
    "plt.barh(labels, values)\n",
    "plt.ylabel('Total Energies Produites')\n",
    "plt.title(\"Comparaison Energies Renouvables VS Non Renouvables sur l'année 2018\" )\n",
    "plt.show()"
   ]
  },
  {
   "cell_type": "markdown",
   "metadata": {},
   "source": [
    "Bar Horizontal avec Plotlty"
   ]
  },
  {
   "cell_type": "code",
   "execution_count": 103,
   "metadata": {},
   "outputs": [
    {
     "data": {
      "application/vnd.plotly.v1+json": {
       "config": {
        "plotlyServerURL": "https://plot.ly"
       },
       "data": [
        {
         "alignmentgroup": "True",
         "hovertemplate": "=%{x}<br>Valeur=%{y}<extra></extra>",
         "legendgroup": "",
         "marker": {
          "color": "#636efa",
          "pattern": {
           "shape": ""
          }
         },
         "name": "",
         "offsetgroup": "",
         "orientation": "v",
         "showlegend": false,
         "textposition": "auto",
         "type": "bar",
         "x": [
          "renouvable",
          "non_renouvable"
         ],
         "xaxis": "x",
         "y": [
          16,
          80
         ],
         "yaxis": "y"
        }
       ],
       "layout": {
        "barmode": "relative",
        "legend": {
         "tracegroupgap": 0
        },
        "template": {
         "data": {
          "bar": [
           {
            "error_x": {
             "color": "#2a3f5f"
            },
            "error_y": {
             "color": "#2a3f5f"
            },
            "marker": {
             "line": {
              "color": "#E5ECF6",
              "width": 0.5
             },
             "pattern": {
              "fillmode": "overlay",
              "size": 10,
              "solidity": 0.2
             }
            },
            "type": "bar"
           }
          ],
          "barpolar": [
           {
            "marker": {
             "line": {
              "color": "#E5ECF6",
              "width": 0.5
             },
             "pattern": {
              "fillmode": "overlay",
              "size": 10,
              "solidity": 0.2
             }
            },
            "type": "barpolar"
           }
          ],
          "carpet": [
           {
            "aaxis": {
             "endlinecolor": "#2a3f5f",
             "gridcolor": "white",
             "linecolor": "white",
             "minorgridcolor": "white",
             "startlinecolor": "#2a3f5f"
            },
            "baxis": {
             "endlinecolor": "#2a3f5f",
             "gridcolor": "white",
             "linecolor": "white",
             "minorgridcolor": "white",
             "startlinecolor": "#2a3f5f"
            },
            "type": "carpet"
           }
          ],
          "choropleth": [
           {
            "colorbar": {
             "outlinewidth": 0,
             "ticks": ""
            },
            "type": "choropleth"
           }
          ],
          "contour": [
           {
            "colorbar": {
             "outlinewidth": 0,
             "ticks": ""
            },
            "colorscale": [
             [
              0,
              "#0d0887"
             ],
             [
              0.1111111111111111,
              "#46039f"
             ],
             [
              0.2222222222222222,
              "#7201a8"
             ],
             [
              0.3333333333333333,
              "#9c179e"
             ],
             [
              0.4444444444444444,
              "#bd3786"
             ],
             [
              0.5555555555555556,
              "#d8576b"
             ],
             [
              0.6666666666666666,
              "#ed7953"
             ],
             [
              0.7777777777777778,
              "#fb9f3a"
             ],
             [
              0.8888888888888888,
              "#fdca26"
             ],
             [
              1,
              "#f0f921"
             ]
            ],
            "type": "contour"
           }
          ],
          "contourcarpet": [
           {
            "colorbar": {
             "outlinewidth": 0,
             "ticks": ""
            },
            "type": "contourcarpet"
           }
          ],
          "heatmap": [
           {
            "colorbar": {
             "outlinewidth": 0,
             "ticks": ""
            },
            "colorscale": [
             [
              0,
              "#0d0887"
             ],
             [
              0.1111111111111111,
              "#46039f"
             ],
             [
              0.2222222222222222,
              "#7201a8"
             ],
             [
              0.3333333333333333,
              "#9c179e"
             ],
             [
              0.4444444444444444,
              "#bd3786"
             ],
             [
              0.5555555555555556,
              "#d8576b"
             ],
             [
              0.6666666666666666,
              "#ed7953"
             ],
             [
              0.7777777777777778,
              "#fb9f3a"
             ],
             [
              0.8888888888888888,
              "#fdca26"
             ],
             [
              1,
              "#f0f921"
             ]
            ],
            "type": "heatmap"
           }
          ],
          "heatmapgl": [
           {
            "colorbar": {
             "outlinewidth": 0,
             "ticks": ""
            },
            "colorscale": [
             [
              0,
              "#0d0887"
             ],
             [
              0.1111111111111111,
              "#46039f"
             ],
             [
              0.2222222222222222,
              "#7201a8"
             ],
             [
              0.3333333333333333,
              "#9c179e"
             ],
             [
              0.4444444444444444,
              "#bd3786"
             ],
             [
              0.5555555555555556,
              "#d8576b"
             ],
             [
              0.6666666666666666,
              "#ed7953"
             ],
             [
              0.7777777777777778,
              "#fb9f3a"
             ],
             [
              0.8888888888888888,
              "#fdca26"
             ],
             [
              1,
              "#f0f921"
             ]
            ],
            "type": "heatmapgl"
           }
          ],
          "histogram": [
           {
            "marker": {
             "pattern": {
              "fillmode": "overlay",
              "size": 10,
              "solidity": 0.2
             }
            },
            "type": "histogram"
           }
          ],
          "histogram2d": [
           {
            "colorbar": {
             "outlinewidth": 0,
             "ticks": ""
            },
            "colorscale": [
             [
              0,
              "#0d0887"
             ],
             [
              0.1111111111111111,
              "#46039f"
             ],
             [
              0.2222222222222222,
              "#7201a8"
             ],
             [
              0.3333333333333333,
              "#9c179e"
             ],
             [
              0.4444444444444444,
              "#bd3786"
             ],
             [
              0.5555555555555556,
              "#d8576b"
             ],
             [
              0.6666666666666666,
              "#ed7953"
             ],
             [
              0.7777777777777778,
              "#fb9f3a"
             ],
             [
              0.8888888888888888,
              "#fdca26"
             ],
             [
              1,
              "#f0f921"
             ]
            ],
            "type": "histogram2d"
           }
          ],
          "histogram2dcontour": [
           {
            "colorbar": {
             "outlinewidth": 0,
             "ticks": ""
            },
            "colorscale": [
             [
              0,
              "#0d0887"
             ],
             [
              0.1111111111111111,
              "#46039f"
             ],
             [
              0.2222222222222222,
              "#7201a8"
             ],
             [
              0.3333333333333333,
              "#9c179e"
             ],
             [
              0.4444444444444444,
              "#bd3786"
             ],
             [
              0.5555555555555556,
              "#d8576b"
             ],
             [
              0.6666666666666666,
              "#ed7953"
             ],
             [
              0.7777777777777778,
              "#fb9f3a"
             ],
             [
              0.8888888888888888,
              "#fdca26"
             ],
             [
              1,
              "#f0f921"
             ]
            ],
            "type": "histogram2dcontour"
           }
          ],
          "mesh3d": [
           {
            "colorbar": {
             "outlinewidth": 0,
             "ticks": ""
            },
            "type": "mesh3d"
           }
          ],
          "parcoords": [
           {
            "line": {
             "colorbar": {
              "outlinewidth": 0,
              "ticks": ""
             }
            },
            "type": "parcoords"
           }
          ],
          "pie": [
           {
            "automargin": true,
            "type": "pie"
           }
          ],
          "scatter": [
           {
            "fillpattern": {
             "fillmode": "overlay",
             "size": 10,
             "solidity": 0.2
            },
            "type": "scatter"
           }
          ],
          "scatter3d": [
           {
            "line": {
             "colorbar": {
              "outlinewidth": 0,
              "ticks": ""
             }
            },
            "marker": {
             "colorbar": {
              "outlinewidth": 0,
              "ticks": ""
             }
            },
            "type": "scatter3d"
           }
          ],
          "scattercarpet": [
           {
            "marker": {
             "colorbar": {
              "outlinewidth": 0,
              "ticks": ""
             }
            },
            "type": "scattercarpet"
           }
          ],
          "scattergeo": [
           {
            "marker": {
             "colorbar": {
              "outlinewidth": 0,
              "ticks": ""
             }
            },
            "type": "scattergeo"
           }
          ],
          "scattergl": [
           {
            "marker": {
             "colorbar": {
              "outlinewidth": 0,
              "ticks": ""
             }
            },
            "type": "scattergl"
           }
          ],
          "scattermapbox": [
           {
            "marker": {
             "colorbar": {
              "outlinewidth": 0,
              "ticks": ""
             }
            },
            "type": "scattermapbox"
           }
          ],
          "scatterpolar": [
           {
            "marker": {
             "colorbar": {
              "outlinewidth": 0,
              "ticks": ""
             }
            },
            "type": "scatterpolar"
           }
          ],
          "scatterpolargl": [
           {
            "marker": {
             "colorbar": {
              "outlinewidth": 0,
              "ticks": ""
             }
            },
            "type": "scatterpolargl"
           }
          ],
          "scatterternary": [
           {
            "marker": {
             "colorbar": {
              "outlinewidth": 0,
              "ticks": ""
             }
            },
            "type": "scatterternary"
           }
          ],
          "surface": [
           {
            "colorbar": {
             "outlinewidth": 0,
             "ticks": ""
            },
            "colorscale": [
             [
              0,
              "#0d0887"
             ],
             [
              0.1111111111111111,
              "#46039f"
             ],
             [
              0.2222222222222222,
              "#7201a8"
             ],
             [
              0.3333333333333333,
              "#9c179e"
             ],
             [
              0.4444444444444444,
              "#bd3786"
             ],
             [
              0.5555555555555556,
              "#d8576b"
             ],
             [
              0.6666666666666666,
              "#ed7953"
             ],
             [
              0.7777777777777778,
              "#fb9f3a"
             ],
             [
              0.8888888888888888,
              "#fdca26"
             ],
             [
              1,
              "#f0f921"
             ]
            ],
            "type": "surface"
           }
          ],
          "table": [
           {
            "cells": {
             "fill": {
              "color": "#EBF0F8"
             },
             "line": {
              "color": "white"
             }
            },
            "header": {
             "fill": {
              "color": "#C8D4E3"
             },
             "line": {
              "color": "white"
             }
            },
            "type": "table"
           }
          ]
         },
         "layout": {
          "annotationdefaults": {
           "arrowcolor": "#2a3f5f",
           "arrowhead": 0,
           "arrowwidth": 1
          },
          "autotypenumbers": "strict",
          "coloraxis": {
           "colorbar": {
            "outlinewidth": 0,
            "ticks": ""
           }
          },
          "colorscale": {
           "diverging": [
            [
             0,
             "#8e0152"
            ],
            [
             0.1,
             "#c51b7d"
            ],
            [
             0.2,
             "#de77ae"
            ],
            [
             0.3,
             "#f1b6da"
            ],
            [
             0.4,
             "#fde0ef"
            ],
            [
             0.5,
             "#f7f7f7"
            ],
            [
             0.6,
             "#e6f5d0"
            ],
            [
             0.7,
             "#b8e186"
            ],
            [
             0.8,
             "#7fbc41"
            ],
            [
             0.9,
             "#4d9221"
            ],
            [
             1,
             "#276419"
            ]
           ],
           "sequential": [
            [
             0,
             "#0d0887"
            ],
            [
             0.1111111111111111,
             "#46039f"
            ],
            [
             0.2222222222222222,
             "#7201a8"
            ],
            [
             0.3333333333333333,
             "#9c179e"
            ],
            [
             0.4444444444444444,
             "#bd3786"
            ],
            [
             0.5555555555555556,
             "#d8576b"
            ],
            [
             0.6666666666666666,
             "#ed7953"
            ],
            [
             0.7777777777777778,
             "#fb9f3a"
            ],
            [
             0.8888888888888888,
             "#fdca26"
            ],
            [
             1,
             "#f0f921"
            ]
           ],
           "sequentialminus": [
            [
             0,
             "#0d0887"
            ],
            [
             0.1111111111111111,
             "#46039f"
            ],
            [
             0.2222222222222222,
             "#7201a8"
            ],
            [
             0.3333333333333333,
             "#9c179e"
            ],
            [
             0.4444444444444444,
             "#bd3786"
            ],
            [
             0.5555555555555556,
             "#d8576b"
            ],
            [
             0.6666666666666666,
             "#ed7953"
            ],
            [
             0.7777777777777778,
             "#fb9f3a"
            ],
            [
             0.8888888888888888,
             "#fdca26"
            ],
            [
             1,
             "#f0f921"
            ]
           ]
          },
          "colorway": [
           "#636efa",
           "#EF553B",
           "#00cc96",
           "#ab63fa",
           "#FFA15A",
           "#19d3f3",
           "#FF6692",
           "#B6E880",
           "#FF97FF",
           "#FECB52"
          ],
          "font": {
           "color": "#2a3f5f"
          },
          "geo": {
           "bgcolor": "white",
           "lakecolor": "white",
           "landcolor": "#E5ECF6",
           "showlakes": true,
           "showland": true,
           "subunitcolor": "white"
          },
          "hoverlabel": {
           "align": "left"
          },
          "hovermode": "closest",
          "mapbox": {
           "style": "light"
          },
          "paper_bgcolor": "white",
          "plot_bgcolor": "#E5ECF6",
          "polar": {
           "angularaxis": {
            "gridcolor": "white",
            "linecolor": "white",
            "ticks": ""
           },
           "bgcolor": "#E5ECF6",
           "radialaxis": {
            "gridcolor": "white",
            "linecolor": "white",
            "ticks": ""
           }
          },
          "scene": {
           "xaxis": {
            "backgroundcolor": "#E5ECF6",
            "gridcolor": "white",
            "gridwidth": 2,
            "linecolor": "white",
            "showbackground": true,
            "ticks": "",
            "zerolinecolor": "white"
           },
           "yaxis": {
            "backgroundcolor": "#E5ECF6",
            "gridcolor": "white",
            "gridwidth": 2,
            "linecolor": "white",
            "showbackground": true,
            "ticks": "",
            "zerolinecolor": "white"
           },
           "zaxis": {
            "backgroundcolor": "#E5ECF6",
            "gridcolor": "white",
            "gridwidth": 2,
            "linecolor": "white",
            "showbackground": true,
            "ticks": "",
            "zerolinecolor": "white"
           }
          },
          "shapedefaults": {
           "line": {
            "color": "#2a3f5f"
           }
          },
          "ternary": {
           "aaxis": {
            "gridcolor": "white",
            "linecolor": "white",
            "ticks": ""
           },
           "baxis": {
            "gridcolor": "white",
            "linecolor": "white",
            "ticks": ""
           },
           "bgcolor": "#E5ECF6",
           "caxis": {
            "gridcolor": "white",
            "linecolor": "white",
            "ticks": ""
           }
          },
          "title": {
           "x": 0.05
          },
          "xaxis": {
           "automargin": true,
           "gridcolor": "white",
           "linecolor": "white",
           "ticks": "",
           "title": {
            "standoff": 15
           },
           "zerolinecolor": "white",
           "zerolinewidth": 2
          },
          "yaxis": {
           "automargin": true,
           "gridcolor": "white",
           "linecolor": "white",
           "ticks": "",
           "title": {
            "standoff": 15
           },
           "zerolinecolor": "white",
           "zerolinewidth": 2
          }
         }
        },
        "title": {
         "text": "Comparaison Energies Renouvelables VS Non Renouvelables sur l'année 2018"
        },
        "xaxis": {
         "anchor": "y",
         "domain": [
          0,
          1
         ],
         "title": {
          "text": ""
         }
        },
        "yaxis": {
         "anchor": "x",
         "domain": [
          0,
          1
         ],
         "title": {
          "text": "Valeur"
         }
        }
       }
      }
     },
     "metadata": {},
     "output_type": "display_data"
    }
   ],
   "source": [
    "fig = px.bar( x=labels, y=values,labels={\n",
    "                     'x': \"\",\n",
    "                     'y': \"Valeur\"},title=\"Comparaison Energies Renouvelables VS Non Renouvelables sur l'année 2018\")\n",
    "fig.show()"
   ]
  },
  {
   "cell_type": "markdown",
   "metadata": {},
   "source": [
    "Bar Chart avec Matplotlib"
   ]
  },
  {
   "cell_type": "code",
   "execution_count": 105,
   "metadata": {},
   "outputs": [
    {
     "data": {
      "image/png": "[encoded data removed]",
      "text/plain": [
       "<Figure size 1500x1000 with 1 Axes>"
      ]
     },
     "metadata": {},
     "output_type": "display_data"
    }
   ],
   "source": [
    "y1=[df_index_total['Eolien'].sum(),df_index_total['Fioul'].sum()]\n",
    "y2=[df_index_total['Solaire'].sum(),df_index_total['Charbon'].sum()]\n",
    "y3=[df_index_total['Hydraulique'].sum(),df_index_total['Gaz'].sum()]\n",
    "y4=[df_index_total['Bioénergies'].sum(),df_index_total['Nucléaire'].sum()]\n",
    "\n",
    "\n",
    "plt.bar(labels, y1, color = \"#3ED8C9\") #turquoise\n",
    "plt.bar(labels, y2, bottom = y1, color = \"#EDFF91\") #jaune\n",
    "plt.bar(labels, y3, bottom = y2, color = \"#e3a2ec\") #Rose\n",
    "plt.bar(labels, y4, bottom = y3, color = \"#8fd0ed\") #bleu\n",
    "#plt.bar_label(y1, label_type='center')\n",
    "plt.ylabel('Total Energies Produites')\n",
    "plt.title(\"Comparaison Energies Renouvables VS Non Renouvables sur l'année 2018\" )\n",
    "\n",
    "plt.show()"
   ]
  },
  {
   "cell_type": "markdown",
   "metadata": {},
   "source": [
    "Bar Chart avec Plotly"
   ]
  },
  {
   "cell_type": "markdown",
   "metadata": {},
   "source": [
    "Tableau à revoir en recréant un tableau\n",
    "{Energie[colonne_df],Type[R,NR],Sum par énergie}"
   ]
  },
  {
   "cell_type": "code",
   "execution_count": 100,
   "metadata": {},
   "outputs": [
    {
     "name": "stdout",
     "output_type": "stream",
     "text": [
      "        nation   medal  count\n",
      "0  South Korea    gold     24\n",
      "1        China    gold     10\n",
      "2       Canada    gold      9\n",
      "3  South Korea  silver     13\n",
      "4        China  silver     15\n",
      "5       Canada  silver     12\n",
      "6  South Korea  bronze     11\n",
      "7        China  bronze      8\n",
      "8       Canada  bronze     12\n"
     ]
    },
    {
     "data": {
      "application/vnd.plotly.v1+json": {
       "config": {
        "plotlyServerURL": "https://plot.ly"
       },
       "data": [
        {
         "alignmentgroup": "True",
         "hovertemplate": "nation=South Korea<br>medal=%{x}<br>count=%{y}<extra></extra>",
         "legendgroup": "South Korea",
         "marker": {
          "color": "#636efa",
          "pattern": {
           "shape": ""
          }
         },
         "name": "South Korea",
         "offsetgroup": "South Korea",
         "orientation": "v",
         "showlegend": true,
         "textposition": "auto",
         "texttemplate": "%{y}",
         "type": "bar",
         "x": [
          "gold",
          "silver",
          "bronze"
         ],
         "xaxis": "x",
         "y": [
          24,
          13,
          11
         ],
         "yaxis": "y"
        },
        {
         "alignmentgroup": "True",
         "hovertemplate": "nation=China<br>medal=%{x}<br>count=%{y}<extra></extra>",
         "legendgroup": "China",
         "marker": {
          "color": "#EF553B",
          "pattern": {
           "shape": ""
          }
         },
         "name": "China",
         "offsetgroup": "China",
         "orientation": "v",
         "showlegend": true,
         "textposition": "auto",
         "texttemplate": "%{y}",
         "type": "bar",
         "x": [
          "gold",
          "silver",
          "bronze"
         ],
         "xaxis": "x",
         "y": [
          10,
          15,
          8
         ],
         "yaxis": "y"
        },
        {
         "alignmentgroup": "True",
         "hovertemplate": "nation=Canada<br>medal=%{x}<br>count=%{y}<extra></extra>",
         "legendgroup": "Canada",
         "marker": {
          "color": "#00cc96",
          "pattern": {
           "shape": ""
          }
         },
         "name": "Canada",
         "offsetgroup": "Canada",
         "orientation": "v",
         "showlegend": true,
         "textposition": "auto",
         "texttemplate": "%{y}",
         "type": "bar",
         "x": [
          "gold",
          "silver",
          "bronze"
         ],
         "xaxis": "x",
         "y": [
          9,
          12,
          12
         ],
         "yaxis": "y"
        }
       ],
       "layout": {
        "barmode": "relative",
        "legend": {
         "title": {
          "text": "nation"
         },
         "tracegroupgap": 0
        },
        "margin": {
         "t": 60
        },
        "template": {
         "data": {
          "bar": [
           {
            "error_x": {
             "color": "#2a3f5f"
            },
            "error_y": {
             "color": "#2a3f5f"
            },
            "marker": {
             "line": {
              "color": "#E5ECF6",
              "width": 0.5
             },
             "pattern": {
              "fillmode": "overlay",
              "size": 10,
              "solidity": 0.2
             }
            },
            "type": "bar"
           }
          ],
          "barpolar": [
           {
            "marker": {
             "line": {
              "color": "#E5ECF6",
              "width": 0.5
             },
             "pattern": {
              "fillmode": "overlay",
              "size": 10,
              "solidity": 0.2
             }
            },
            "type": "barpolar"
           }
          ],
          "carpet": [
           {
            "aaxis": {
             "endlinecolor": "#2a3f5f",
             "gridcolor": "white",
             "linecolor": "white",
             "minorgridcolor": "white",
             "startlinecolor": "#2a3f5f"
            },
            "baxis": {
             "endlinecolor": "#2a3f5f",
             "gridcolor": "white",
             "linecolor": "white",
             "minorgridcolor": "white",
             "startlinecolor": "#2a3f5f"
            },
            "type": "carpet"
           }
          ],
          "choropleth": [
           {
            "colorbar": {
             "outlinewidth": 0,
             "ticks": ""
            },
            "type": "choropleth"
           }
          ],
          "contour": [
           {
            "colorbar": {
             "outlinewidth": 0,
             "ticks": ""
            },
            "colorscale": [
             [
              0,
              "#0d0887"
             ],
             [
              0.1111111111111111,
              "#46039f"
             ],
             [
              0.2222222222222222,
              "#7201a8"
             ],
             [
              0.3333333333333333,
              "#9c179e"
             ],
             [
              0.4444444444444444,
              "#bd3786"
             ],
             [
              0.5555555555555556,
              "#d8576b"
             ],
             [
              0.6666666666666666,
              "#ed7953"
             ],
             [
              0.7777777777777778,
              "#fb9f3a"
             ],
             [
              0.8888888888888888,
              "#fdca26"
             ],
             [
              1,
              "#f0f921"
             ]
            ],
            "type": "contour"
           }
          ],
          "contourcarpet": [
           {
            "colorbar": {
             "outlinewidth": 0,
             "ticks": ""
            },
            "type": "contourcarpet"
           }
          ],
          "heatmap": [
           {
            "colorbar": {
             "outlinewidth": 0,
             "ticks": ""
            },
            "colorscale": [
             [
              0,
              "#0d0887"
             ],
             [
              0.1111111111111111,
              "#46039f"
             ],
             [
              0.2222222222222222,
              "#7201a8"
             ],
             [
              0.3333333333333333,
              "#9c179e"
             ],
             [
              0.4444444444444444,
              "#bd3786"
             ],
             [
              0.5555555555555556,
              "#d8576b"
             ],
             [
              0.6666666666666666,
              "#ed7953"
             ],
             [
              0.7777777777777778,
              "#fb9f3a"
             ],
             [
              0.8888888888888888,
              "#fdca26"
             ],
             [
              1,
              "#f0f921"
             ]
            ],
            "type": "heatmap"
           }
          ],
          "heatmapgl": [
           {
            "colorbar": {
             "outlinewidth": 0,
             "ticks": ""
            },
            "colorscale": [
             [
              0,
              "#0d0887"
             ],
             [
              0.1111111111111111,
              "#46039f"
             ],
             [
              0.2222222222222222,
              "#7201a8"
             ],
             [
              0.3333333333333333,
              "#9c179e"
             ],
             [
              0.4444444444444444,
              "#bd3786"
             ],
             [
              0.5555555555555556,
              "#d8576b"
             ],
             [
              0.6666666666666666,
              "#ed7953"
             ],
             [
              0.7777777777777778,
              "#fb9f3a"
             ],
             [
              0.8888888888888888,
              "#fdca26"
             ],
             [
              1,
              "#f0f921"
             ]
            ],
            "type": "heatmapgl"
           }
          ],
          "histogram": [
           {
            "marker": {
             "pattern": {
              "fillmode": "overlay",
              "size": 10,
              "solidity": 0.2
             }
            },
            "type": "histogram"
           }
          ],
          "histogram2d": [
           {
            "colorbar": {
             "outlinewidth": 0,
             "ticks": ""
            },
            "colorscale": [
             [
              0,
              "#0d0887"
             ],
             [
              0.1111111111111111,
              "#46039f"
             ],
             [
              0.2222222222222222,
              "#7201a8"
             ],
             [
              0.3333333333333333,
              "#9c179e"
             ],
             [
              0.4444444444444444,
              "#bd3786"
             ],
             [
              0.5555555555555556,
              "#d8576b"
             ],
             [
              0.6666666666666666,
              "#ed7953"
             ],
             [
              0.7777777777777778,
              "#fb9f3a"
             ],
             [
              0.8888888888888888,
              "#fdca26"
             ],
             [
              1,
              "#f0f921"
             ]
            ],
            "type": "histogram2d"
           }
          ],
          "histogram2dcontour": [
           {
            "colorbar": {
             "outlinewidth": 0,
             "ticks": ""
            },
            "colorscale": [
             [
              0,
              "#0d0887"
             ],
             [
              0.1111111111111111,
              "#46039f"
             ],
             [
              0.2222222222222222,
              "#7201a8"
             ],
             [
              0.3333333333333333,
              "#9c179e"
             ],
             [
              0.4444444444444444,
              "#bd3786"
             ],
             [
              0.5555555555555556,
              "#d8576b"
             ],
             [
              0.6666666666666666,
              "#ed7953"
             ],
             [
              0.7777777777777778,
              "#fb9f3a"
             ],
             [
              0.8888888888888888,
              "#fdca26"
             ],
             [
              1,
              "#f0f921"
             ]
            ],
            "type": "histogram2dcontour"
           }
          ],
          "mesh3d": [
           {
            "colorbar": {
             "outlinewidth": 0,
             "ticks": ""
            },
            "type": "mesh3d"
           }
          ],
          "parcoords": [
           {
            "line": {
             "colorbar": {
              "outlinewidth": 0,
              "ticks": ""
             }
            },
            "type": "parcoords"
           }
          ],
          "pie": [
           {
            "automargin": true,
            "type": "pie"
           }
          ],
          "scatter": [
           {
            "fillpattern": {
             "fillmode": "overlay",
             "size": 10,
             "solidity": 0.2
            },
            "type": "scatter"
           }
          ],
          "scatter3d": [
           {
            "line": {
             "colorbar": {
              "outlinewidth": 0,
              "ticks": ""
             }
            },
            "marker": {
             "colorbar": {
              "outlinewidth": 0,
              "ticks": ""
             }
            },
            "type": "scatter3d"
           }
          ],
          "scattercarpet": [
           {
            "marker": {
             "colorbar": {
              "outlinewidth": 0,
              "ticks": ""
             }
            },
            "type": "scattercarpet"
           }
          ],
          "scattergeo": [
           {
            "marker": {
             "colorbar": {
              "outlinewidth": 0,
              "ticks": ""
             }
            },
            "type": "scattergeo"
           }
          ],
          "scattergl": [
           {
            "marker": {
             "colorbar": {
              "outlinewidth": 0,
              "ticks": ""
             }
            },
            "type": "scattergl"
           }
          ],
          "scattermapbox": [
           {
            "marker": {
             "colorbar": {
              "outlinewidth": 0,
              "ticks": ""
             }
            },
            "type": "scattermapbox"
           }
          ],
          "scatterpolar": [
           {
            "marker": {
             "colorbar": {
              "outlinewidth": 0,
              "ticks": ""
             }
            },
            "type": "scatterpolar"
           }
          ],
          "scatterpolargl": [
           {
            "marker": {
             "colorbar": {
              "outlinewidth": 0,
              "ticks": ""
             }
            },
            "type": "scatterpolargl"
           }
          ],
          "scatterternary": [
           {
            "marker": {
             "colorbar": {
              "outlinewidth": 0,
              "ticks": ""
             }
            },
            "type": "scatterternary"
           }
          ],
          "surface": [
           {
            "colorbar": {
             "outlinewidth": 0,
             "ticks": ""
            },
            "colorscale": [
             [
              0,
              "#0d0887"
             ],
             [
              0.1111111111111111,
              "#46039f"
             ],
             [
              0.2222222222222222,
              "#7201a8"
             ],
             [
              0.3333333333333333,
              "#9c179e"
             ],
             [
              0.4444444444444444,
              "#bd3786"
             ],
             [
              0.5555555555555556,
              "#d8576b"
             ],
             [
              0.6666666666666666,
              "#ed7953"
             ],
             [
              0.7777777777777778,
              "#fb9f3a"
             ],
             [
              0.8888888888888888,
              "#fdca26"
             ],
             [
              1,
              "#f0f921"
             ]
            ],
            "type": "surface"
           }
          ],
          "table": [
           {
            "cells": {
             "fill": {
              "color": "#EBF0F8"
             },
             "line": {
              "color": "white"
             }
            },
            "header": {
             "fill": {
              "color": "#C8D4E3"
             },
             "line": {
              "color": "white"
             }
            },
            "type": "table"
           }
          ]
         },
         "layout": {
          "annotationdefaults": {
           "arrowcolor": "#2a3f5f",
           "arrowhead": 0,
           "arrowwidth": 1
          },
          "autotypenumbers": "strict",
          "coloraxis": {
           "colorbar": {
            "outlinewidth": 0,
            "ticks": ""
           }
          },
          "colorscale": {
           "diverging": [
            [
             0,
             "#8e0152"
            ],
            [
             0.1,
             "#c51b7d"
            ],
            [
             0.2,
             "#de77ae"
            ],
            [
             0.3,
             "#f1b6da"
            ],
            [
             0.4,
             "#fde0ef"
            ],
            [
             0.5,
             "#f7f7f7"
            ],
            [
             0.6,
             "#e6f5d0"
            ],
            [
             0.7,
             "#b8e186"
            ],
            [
             0.8,
             "#7fbc41"
            ],
            [
             0.9,
             "#4d9221"
            ],
            [
             1,
             "#276419"
            ]
           ],
           "sequential": [
            [
             0,
             "#0d0887"
            ],
            [
             0.1111111111111111,
             "#46039f"
            ],
            [
             0.2222222222222222,
             "#7201a8"
            ],
            [
             0.3333333333333333,
             "#9c179e"
            ],
            [
             0.4444444444444444,
             "#bd3786"
            ],
            [
             0.5555555555555556,
             "#d8576b"
            ],
            [
             0.6666666666666666,
             "#ed7953"
            ],
            [
             0.7777777777777778,
             "#fb9f3a"
            ],
            [
             0.8888888888888888,
             "#fdca26"
            ],
            [
             1,
             "#f0f921"
            ]
           ],
           "sequentialminus": [
            [
             0,
             "#0d0887"
            ],
            [
             0.1111111111111111,
             "#46039f"
            ],
            [
             0.2222222222222222,
             "#7201a8"
            ],
            [
             0.3333333333333333,
             "#9c179e"
            ],
            [
             0.4444444444444444,
             "#bd3786"
            ],
            [
             0.5555555555555556,
             "#d8576b"
            ],
            [
             0.6666666666666666,
             "#ed7953"
            ],
            [
             0.7777777777777778,
             "#fb9f3a"
            ],
            [
             0.8888888888888888,
             "#fdca26"
            ],
            [
             1,
             "#f0f921"
            ]
           ]
          },
          "colorway": [
           "#636efa",
           "#EF553B",
           "#00cc96",
           "#ab63fa",
           "#FFA15A",
           "#19d3f3",
           "#FF6692",
           "#B6E880",
           "#FF97FF",
           "#FECB52"
          ],
          "font": {
           "color": "#2a3f5f"
          },
          "geo": {
           "bgcolor": "white",
           "lakecolor": "white",
           "landcolor": "#E5ECF6",
           "showlakes": true,
           "showland": true,
           "subunitcolor": "white"
          },
          "hoverlabel": {
           "align": "left"
          },
          "hovermode": "closest",
          "mapbox": {
           "style": "light"
          },
          "paper_bgcolor": "white",
          "plot_bgcolor": "#E5ECF6",
          "polar": {
           "angularaxis": {
            "gridcolor": "white",
            "linecolor": "white",
            "ticks": ""
           },
           "bgcolor": "#E5ECF6",
           "radialaxis": {
            "gridcolor": "white",
            "linecolor": "white",
            "ticks": ""
           }
          },
          "scene": {
           "xaxis": {
            "backgroundcolor": "#E5ECF6",
            "gridcolor": "white",
            "gridwidth": 2,
            "linecolor": "white",
            "showbackground": true,
            "ticks": "",
            "zerolinecolor": "white"
           },
           "yaxis": {
            "backgroundcolor": "#E5ECF6",
            "gridcolor": "white",
            "gridwidth": 2,
            "linecolor": "white",
            "showbackground": true,
            "ticks": "",
            "zerolinecolor": "white"
           },
           "zaxis": {
            "backgroundcolor": "#E5ECF6",
            "gridcolor": "white",
            "gridwidth": 2,
            "linecolor": "white",
            "showbackground": true,
            "ticks": "",
            "zerolinecolor": "white"
           }
          },
          "shapedefaults": {
           "line": {
            "color": "#2a3f5f"
           }
          },
          "ternary": {
           "aaxis": {
            "gridcolor": "white",
            "linecolor": "white",
            "ticks": ""
           },
           "baxis": {
            "gridcolor": "white",
            "linecolor": "white",
            "ticks": ""
           },
           "bgcolor": "#E5ECF6",
           "caxis": {
            "gridcolor": "white",
            "linecolor": "white",
            "ticks": ""
           }
          },
          "title": {
           "x": 0.05
          },
          "xaxis": {
           "automargin": true,
           "gridcolor": "white",
           "linecolor": "white",
           "ticks": "",
           "title": {
            "standoff": 15
           },
           "zerolinecolor": "white",
           "zerolinewidth": 2
          },
          "yaxis": {
           "automargin": true,
           "gridcolor": "white",
           "linecolor": "white",
           "ticks": "",
           "title": {
            "standoff": 15
           },
           "zerolinecolor": "white",
           "zerolinewidth": 2
          }
         }
        },
        "xaxis": {
         "anchor": "y",
         "domain": [
          0,
          1
         ],
         "title": {
          "text": "medal"
         }
        },
        "yaxis": {
         "anchor": "x",
         "domain": [
          0,
          1
         ],
         "title": {
          "text": "count"
         }
        }
       }
      }
     },
     "metadata": {},
     "output_type": "display_data"
    }
   ],
   "source": [
    "import plotly.express as px\n",
    "df = px.data.medals_long()\n",
    "print(df)\n",
    "fig = px.bar(df, x=\"medal\", y=\"count\", color=\"nation\", text_auto=True)\n",
    "fig.show()"
   ]
  },
  {
   "cell_type": "markdown",
   "metadata": {},
   "source": [
    "1.2 --> Linda ()"
   ]
  },
  {
   "cell_type": "markdown",
   "metadata": {},
   "source": [
    "1.3 --> Comparaison sur plusieurs années"
   ]
  },
  {
   "cell_type": "code",
   "execution_count": 78,
   "metadata": {},
   "outputs": [
    {
     "name": "stdout",
     "output_type": "stream",
     "text": [
      "{'renouvable': 16, 'non_renouvable': 80}\n"
     ]
    },
    {
     "data": {
      "image/png": "[encoded data removed]",
      "text/plain": [
       "<Figure size 1500x1000 with 1 Axes>"
      ]
     },
     "metadata": {},
     "output_type": "display_data"
    }
   ],
   "source": [
    "col=df_mieux.columns\n",
    "colonnes=['Fioul', 'Charbon', 'Gaz', 'Nucléaire', 'Eolien','Solaire', 'Hydraulique', 'Bioénergies']\n",
    "liste=df_mieux[colonnes]\n",
    "\n",
    "df_index_total2=liste.sum()\n",
    "df_index_total2 = df_index_total2.apply(lambda x : x*100/(df_index_total2.sum()))\n",
    "\n",
    "energies = {'renouvable': None, 'non_renouvable': None}\n",
    "\n",
    "# Assuming df_index_total is a pandas DataFrame and has a column 'Eolien'\n",
    "# Assign the value from the DataFrame to the dictionary\n",
    "energies['renouvable'] = int(df_index_total2['Eolien'].sum())+int(df_index_total2['Solaire'].sum())+int(df_index_total2['Hydraulique'].sum())+int(df_index_total2['Bioénergies'].sum())  # or another aggregation if needed\n",
    "energies['non_renouvable'] = int(df_index_total2['Fioul'].sum())+int(df_index_total2['Charbon'].sum())+int(df_index_total2['Gaz'].sum())+int(df_index_total2['Nucléaire'].sum())\n",
    "print(energies)\n",
    "\n",
    "# Extract keys and values from the dictionary\n",
    "labels = list(energies.keys())\n",
    "values = list(energies.values())\n",
    "\n",
    "# Plot the bar chart\n",
    "plt.barh(labels, values)\n",
    "plt.ylabel('Total Energies Produites')\n",
    "plt.title(\"Comparaison Energies Renouvables VS Non Renouvables sur plusieurs années\" )\n",
    "plt.show()\n"
   ]
  },
  {
   "cell_type": "code",
   "execution_count": 79,
   "metadata": {},
   "outputs": [
    {
     "data": {
      "application/vnd.plotly.v1+json": {
       "config": {
        "plotlyServerURL": "https://plot.ly"
       },
       "data": [
        {
         "alignmentgroup": "True",
         "hovertemplate": "Valeur=%{x}<br>=%{y}<extra></extra>",
         "legendgroup": "",
         "marker": {
          "color": "#636efa",
          "pattern": {
           "shape": ""
          }
         },
         "name": "",
         "offsetgroup": "",
         "orientation": "h",
         "showlegend": false,
         "textposition": "auto",
         "type": "bar",
         "x": [
          16,
          80
         ],
         "xaxis": "x",
         "y": [
          "renouvable",
          "non_renouvable"
         ],
         "yaxis": "y"
        }
       ],
       "layout": {
        "barmode": "relative",
        "legend": {
         "tracegroupgap": 0
        },
        "template": {
         "data": {
          "bar": [
           {
            "error_x": {
             "color": "#2a3f5f"
            },
            "error_y": {
             "color": "#2a3f5f"
            },
            "marker": {
             "line": {
              "color": "#E5ECF6",
              "width": 0.5
             },
             "pattern": {
              "fillmode": "overlay",
              "size": 10,
              "solidity": 0.2
             }
            },
            "type": "bar"
           }
          ],
          "barpolar": [
           {
            "marker": {
             "line": {
              "color": "#E5ECF6",
              "width": 0.5
             },
             "pattern": {
              "fillmode": "overlay",
              "size": 10,
              "solidity": 0.2
             }
            },
            "type": "barpolar"
           }
          ],
          "carpet": [
           {
            "aaxis": {
             "endlinecolor": "#2a3f5f",
             "gridcolor": "white",
             "linecolor": "white",
             "minorgridcolor": "white",
             "startlinecolor": "#2a3f5f"
            },
            "baxis": {
             "endlinecolor": "#2a3f5f",
             "gridcolor": "white",
             "linecolor": "white",
             "minorgridcolor": "white",
             "startlinecolor": "#2a3f5f"
            },
            "type": "carpet"
           }
          ],
          "choropleth": [
           {
            "colorbar": {
             "outlinewidth": 0,
             "ticks": ""
            },
            "type": "choropleth"
           }
          ],
          "contour": [
           {
            "colorbar": {
             "outlinewidth": 0,
             "ticks": ""
            },
            "colorscale": [
             [
              0,
              "#0d0887"
             ],
             [
              0.1111111111111111,
              "#46039f"
             ],
             [
              0.2222222222222222,
              "#7201a8"
             ],
             [
              0.3333333333333333,
              "#9c179e"
             ],
             [
              0.4444444444444444,
              "#bd3786"
             ],
             [
              0.5555555555555556,
              "#d8576b"
             ],
             [
              0.6666666666666666,
              "#ed7953"
             ],
             [
              0.7777777777777778,
              "#fb9f3a"
             ],
             [
              0.8888888888888888,
              "#fdca26"
             ],
             [
              1,
              "#f0f921"
             ]
            ],
            "type": "contour"
           }
          ],
          "contourcarpet": [
           {
            "colorbar": {
             "outlinewidth": 0,
             "ticks": ""
            },
            "type": "contourcarpet"
           }
          ],
          "heatmap": [
           {
            "colorbar": {
             "outlinewidth": 0,
             "ticks": ""
            },
            "colorscale": [
             [
              0,
              "#0d0887"
             ],
             [
              0.1111111111111111,
              "#46039f"
             ],
             [
              0.2222222222222222,
              "#7201a8"
             ],
             [
              0.3333333333333333,
              "#9c179e"
             ],
             [
              0.4444444444444444,
              "#bd3786"
             ],
             [
              0.5555555555555556,
              "#d8576b"
             ],
             [
              0.6666666666666666,
              "#ed7953"
             ],
             [
              0.7777777777777778,
              "#fb9f3a"
             ],
             [
              0.8888888888888888,
              "#fdca26"
             ],
             [
              1,
              "#f0f921"
             ]
            ],
            "type": "heatmap"
           }
          ],
          "heatmapgl": [
           {
            "colorbar": {
             "outlinewidth": 0,
             "ticks": ""
            },
            "colorscale": [
             [
              0,
              "#0d0887"
             ],
             [
              0.1111111111111111,
              "#46039f"
             ],
             [
              0.2222222222222222,
              "#7201a8"
             ],
             [
              0.3333333333333333,
              "#9c179e"
             ],
             [
              0.4444444444444444,
              "#bd3786"
             ],
             [
              0.5555555555555556,
              "#d8576b"
             ],
             [
              0.6666666666666666,
              "#ed7953"
             ],
             [
              0.7777777777777778,
              "#fb9f3a"
             ],
             [
              0.8888888888888888,
              "#fdca26"
             ],
             [
              1,
              "#f0f921"
             ]
            ],
            "type": "heatmapgl"
           }
          ],
          "histogram": [
           {
            "marker": {
             "pattern": {
              "fillmode": "overlay",
              "size": 10,
              "solidity": 0.2
             }
            },
            "type": "histogram"
           }
          ],
          "histogram2d": [
           {
            "colorbar": {
             "outlinewidth": 0,
             "ticks": ""
            },
            "colorscale": [
             [
              0,
              "#0d0887"
             ],
             [
              0.1111111111111111,
              "#46039f"
             ],
             [
              0.2222222222222222,
              "#7201a8"
             ],
             [
              0.3333333333333333,
              "#9c179e"
             ],
             [
              0.4444444444444444,
              "#bd3786"
             ],
             [
              0.5555555555555556,
              "#d8576b"
             ],
             [
              0.6666666666666666,
              "#ed7953"
             ],
             [
              0.7777777777777778,
              "#fb9f3a"
             ],
             [
              0.8888888888888888,
              "#fdca26"
             ],
             [
              1,
              "#f0f921"
             ]
            ],
            "type": "histogram2d"
           }
          ],
          "histogram2dcontour": [
           {
            "colorbar": {
             "outlinewidth": 0,
             "ticks": ""
            },
            "colorscale": [
             [
              0,
              "#0d0887"
             ],
             [
              0.1111111111111111,
              "#46039f"
             ],
             [
              0.2222222222222222,
              "#7201a8"
             ],
             [
              0.3333333333333333,
              "#9c179e"
             ],
             [
              0.4444444444444444,
              "#bd3786"
             ],
             [
              0.5555555555555556,
              "#d8576b"
             ],
             [
              0.6666666666666666,
              "#ed7953"
             ],
             [
              0.7777777777777778,
              "#fb9f3a"
             ],
             [
              0.8888888888888888,
              "#fdca26"
             ],
             [
              1,
              "#f0f921"
             ]
            ],
            "type": "histogram2dcontour"
           }
          ],
          "mesh3d": [
           {
            "colorbar": {
             "outlinewidth": 0,
             "ticks": ""
            },
            "type": "mesh3d"
           }
          ],
          "parcoords": [
           {
            "line": {
             "colorbar": {
              "outlinewidth": 0,
              "ticks": ""
             }
            },
            "type": "parcoords"
           }
          ],
          "pie": [
           {
            "automargin": true,
            "type": "pie"
           }
          ],
          "scatter": [
           {
            "fillpattern": {
             "fillmode": "overlay",
             "size": 10,
             "solidity": 0.2
            },
            "type": "scatter"
           }
          ],
          "scatter3d": [
           {
            "line": {
             "colorbar": {
              "outlinewidth": 0,
              "ticks": ""
             }
            },
            "marker": {
             "colorbar": {
              "outlinewidth": 0,
              "ticks": ""
             }
            },
            "type": "scatter3d"
           }
          ],
          "scattercarpet": [
           {
            "marker": {
             "colorbar": {
              "outlinewidth": 0,
              "ticks": ""
             }
            },
            "type": "scattercarpet"
           }
          ],
          "scattergeo": [
           {
            "marker": {
             "colorbar": {
              "outlinewidth": 0,
              "ticks": ""
             }
            },
            "type": "scattergeo"
           }
          ],
          "scattergl": [
           {
            "marker": {
             "colorbar": {
              "outlinewidth": 0,
              "ticks": ""
             }
            },
            "type": "scattergl"
           }
          ],
          "scattermapbox": [
           {
            "marker": {
             "colorbar": {
              "outlinewidth": 0,
              "ticks": ""
             }
            },
            "type": "scattermapbox"
           }
          ],
          "scatterpolar": [
           {
            "marker": {
             "colorbar": {
              "outlinewidth": 0,
              "ticks": ""
             }
            },
            "type": "scatterpolar"
           }
          ],
          "scatterpolargl": [
           {
            "marker": {
             "colorbar": {
              "outlinewidth": 0,
              "ticks": ""
             }
            },
            "type": "scatterpolargl"
           }
          ],
          "scatterternary": [
           {
            "marker": {
             "colorbar": {
              "outlinewidth": 0,
              "ticks": ""
             }
            },
            "type": "scatterternary"
           }
          ],
          "surface": [
           {
            "colorbar": {
             "outlinewidth": 0,
             "ticks": ""
            },
            "colorscale": [
             [
              0,
              "#0d0887"
             ],
             [
              0.1111111111111111,
              "#46039f"
             ],
             [
              0.2222222222222222,
              "#7201a8"
             ],
             [
              0.3333333333333333,
              "#9c179e"
             ],
             [
              0.4444444444444444,
              "#bd3786"
             ],
             [
              0.5555555555555556,
              "#d8576b"
             ],
             [
              0.6666666666666666,
              "#ed7953"
             ],
             [
              0.7777777777777778,
              "#fb9f3a"
             ],
             [
              0.8888888888888888,
              "#fdca26"
             ],
             [
              1,
              "#f0f921"
             ]
            ],
            "type": "surface"
           }
          ],
          "table": [
           {
            "cells": {
             "fill": {
              "color": "#EBF0F8"
             },
             "line": {
              "color": "white"
             }
            },
            "header": {
             "fill": {
              "color": "#C8D4E3"
             },
             "line": {
              "color": "white"
             }
            },
            "type": "table"
           }
          ]
         },
         "layout": {
          "annotationdefaults": {
           "arrowcolor": "#2a3f5f",
           "arrowhead": 0,
           "arrowwidth": 1
          },
          "autotypenumbers": "strict",
          "coloraxis": {
           "colorbar": {
            "outlinewidth": 0,
            "ticks": ""
           }
          },
          "colorscale": {
           "diverging": [
            [
             0,
             "#8e0152"
            ],
            [
             0.1,
             "#c51b7d"
            ],
            [
             0.2,
             "#de77ae"
            ],
            [
             0.3,
             "#f1b6da"
            ],
            [
             0.4,
             "#fde0ef"
            ],
            [
             0.5,
             "#f7f7f7"
            ],
            [
             0.6,
             "#e6f5d0"
            ],
            [
             0.7,
             "#b8e186"
            ],
            [
             0.8,
             "#7fbc41"
            ],
            [
             0.9,
             "#4d9221"
            ],
            [
             1,
             "#276419"
            ]
           ],
           "sequential": [
            [
             0,
             "#0d0887"
            ],
            [
             0.1111111111111111,
             "#46039f"
            ],
            [
             0.2222222222222222,
             "#7201a8"
            ],
            [
             0.3333333333333333,
             "#9c179e"
            ],
            [
             0.4444444444444444,
             "#bd3786"
            ],
            [
             0.5555555555555556,
             "#d8576b"
            ],
            [
             0.6666666666666666,
             "#ed7953"
            ],
            [
             0.7777777777777778,
             "#fb9f3a"
            ],
            [
             0.8888888888888888,
             "#fdca26"
            ],
            [
             1,
             "#f0f921"
            ]
           ],
           "sequentialminus": [
            [
             0,
             "#0d0887"
            ],
            [
             0.1111111111111111,
             "#46039f"
            ],
            [
             0.2222222222222222,
             "#7201a8"
            ],
            [
             0.3333333333333333,
             "#9c179e"
            ],
            [
             0.4444444444444444,
             "#bd3786"
            ],
            [
             0.5555555555555556,
             "#d8576b"
            ],
            [
             0.6666666666666666,
             "#ed7953"
            ],
            [
             0.7777777777777778,
             "#fb9f3a"
            ],
            [
             0.8888888888888888,
             "#fdca26"
            ],
            [
             1,
             "#f0f921"
            ]
           ]
          },
          "colorway": [
           "#636efa",
           "#EF553B",
           "#00cc96",
           "#ab63fa",
           "#FFA15A",
           "#19d3f3",
           "#FF6692",
           "#B6E880",
           "#FF97FF",
           "#FECB52"
          ],
          "font": {
           "color": "#2a3f5f"
          },
          "geo": {
           "bgcolor": "white",
           "lakecolor": "white",
           "landcolor": "#E5ECF6",
           "showlakes": true,
           "showland": true,
           "subunitcolor": "white"
          },
          "hoverlabel": {
           "align": "left"
          },
          "hovermode": "closest",
          "mapbox": {
           "style": "light"
          },
          "paper_bgcolor": "white",
          "plot_bgcolor": "#E5ECF6",
          "polar": {
           "angularaxis": {
            "gridcolor": "white",
            "linecolor": "white",
            "ticks": ""
           },
           "bgcolor": "#E5ECF6",
           "radialaxis": {
            "gridcolor": "white",
            "linecolor": "white",
            "ticks": ""
           }
          },
          "scene": {
           "xaxis": {
            "backgroundcolor": "#E5ECF6",
            "gridcolor": "white",
            "gridwidth": 2,
            "linecolor": "white",
            "showbackground": true,
            "ticks": "",
            "zerolinecolor": "white"
           },
           "yaxis": {
            "backgroundcolor": "#E5ECF6",
            "gridcolor": "white",
            "gridwidth": 2,
            "linecolor": "white",
            "showbackground": true,
            "ticks": "",
            "zerolinecolor": "white"
           },
           "zaxis": {
            "backgroundcolor": "#E5ECF6",
            "gridcolor": "white",
            "gridwidth": 2,
            "linecolor": "white",
            "showbackground": true,
            "ticks": "",
            "zerolinecolor": "white"
           }
          },
          "shapedefaults": {
           "line": {
            "color": "#2a3f5f"
           }
          },
          "ternary": {
           "aaxis": {
            "gridcolor": "white",
            "linecolor": "white",
            "ticks": ""
           },
           "baxis": {
            "gridcolor": "white",
            "linecolor": "white",
            "ticks": ""
           },
           "bgcolor": "#E5ECF6",
           "caxis": {
            "gridcolor": "white",
            "linecolor": "white",
            "ticks": ""
           }
          },
          "title": {
           "x": 0.05
          },
          "xaxis": {
           "automargin": true,
           "gridcolor": "white",
           "linecolor": "white",
           "ticks": "",
           "title": {
            "standoff": 15
           },
           "zerolinecolor": "white",
           "zerolinewidth": 2
          },
          "yaxis": {
           "automargin": true,
           "gridcolor": "white",
           "linecolor": "white",
           "ticks": "",
           "title": {
            "standoff": 15
           },
           "zerolinecolor": "white",
           "zerolinewidth": 2
          }
         }
        },
        "title": {
         "text": "Comparaison Energies Renouvables VS Non Renouvables sur plusieurs années"
        },
        "xaxis": {
         "anchor": "y",
         "domain": [
          0,
          1
         ],
         "title": {
          "text": "Valeur"
         }
        },
        "yaxis": {
         "anchor": "x",
         "domain": [
          0,
          1
         ],
         "title": {
          "text": ""
         }
        }
       }
      }
     },
     "metadata": {},
     "output_type": "display_data"
    }
   ],
   "source": [
    "#Avec Plotly express\n",
    "\n",
    "fig = px.bar( y=labels, x=values,labels={\n",
    "'x': \"Valeur\",\n",
    "'y': \"\"},title=\"Comparaison Energies Renouvables VS Non Renouvables sur plusieurs années\", orientation='h')\n",
    "fig.show()\n"
   ]
  },
  {
   "cell_type": "code",
   "execution_count": 84,
   "metadata": {},
   "outputs": [
    {
     "data": {
      "image/png": "[encoded data removed]",
      "text/plain": [
       "<Figure size 1500x1000 with 1 Axes>"
      ]
     },
     "metadata": {},
     "output_type": "display_data"
    }
   ],
   "source": [
    "plt.pie(values, labels=labels,autopct='%1.1f%%')\n",
    "plt.title(\"Comparaison Energies Renouvables VS Non Renouvables sur plusieurs années\" )\n",
    "plt.legend()\n",
    "plt.show()"
   ]
  }
 ],
 "metadata": {
  "kernelspec": {
   "display_name": "base",
   "language": "python",
   "name": "python3"
  },
  "language_info": {
   "codemirror_mode": {
    "name": "ipython",
    "version": 3
   },
   "file_extension": ".py",
   "mimetype": "text/x-python",
   "name": "python",
   "nbconvert_exporter": "python",
   "pygments_lexer": "ipython3",
   "version": "3.11.9"
  }
 },
 "nbformat": 4,
 "nbformat_minor": 2
}
