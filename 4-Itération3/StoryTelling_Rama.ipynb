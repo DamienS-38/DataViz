{
 "cells": [
  {
   "cell_type": "code",
   "execution_count": 5,
   "metadata": {},
   "outputs": [],
   "source": [
    "import pandas as pd\n",
    "import os\n",
    "import plotly.express as px"
   ]
  },
  {
   "cell_type": "markdown",
   "metadata": {},
   "source": [
    "Import Fichier Pickles"
   ]
  },
  {
   "cell_type": "code",
   "execution_count": 6,
   "metadata": {},
   "outputs": [],
   "source": [
    "\n",
    "df_temperatures = pd.read_pickle('data/Pickles/df_temperatures.pkl')\n",
    "df_data_nationales = pd.read_pickle('data/Pickles/df_data_nationales.pkl')\n",
    "df_solaire = pd.read_pickle('data/Pickles/df_solaire_norm.pkl')\n",
    "df_eolien = pd.read_pickle('data/Pickles/df_eolien_norm.pkl')"
   ]
  },
  {
   "cell_type": "code",
   "execution_count": 7,
   "metadata": {},
   "outputs": [
    {
     "data": {
      "text/html": [
       "<div>\n",
       "<style scoped>\n",
       "    .dataframe tbody tr th:only-of-type {\n",
       "        vertical-align: middle;\n",
       "    }\n",
       "\n",
       "    .dataframe tbody tr th {\n",
       "        vertical-align: top;\n",
       "    }\n",
       "\n",
       "    .dataframe thead th {\n",
       "        text-align: right;\n",
       "    }\n",
       "</style>\n",
       "<table border=\"1\" class=\"dataframe\">\n",
       "  <thead>\n",
       "    <tr style=\"text-align: right;\">\n",
       "      <th></th>\n",
       "      <th>Consommation</th>\n",
       "      <th>Fioul</th>\n",
       "      <th>Charbon</th>\n",
       "      <th>Gaz</th>\n",
       "      <th>Nucléaire</th>\n",
       "      <th>Eolien</th>\n",
       "      <th>Solaire</th>\n",
       "      <th>Hydraulique</th>\n",
       "      <th>Pompage</th>\n",
       "      <th>Bioénergies</th>\n",
       "      <th>Ech. physiques</th>\n",
       "    </tr>\n",
       "    <tr>\n",
       "      <th>DateTime</th>\n",
       "      <th></th>\n",
       "      <th></th>\n",
       "      <th></th>\n",
       "      <th></th>\n",
       "      <th></th>\n",
       "      <th></th>\n",
       "      <th></th>\n",
       "      <th></th>\n",
       "      <th></th>\n",
       "      <th></th>\n",
       "      <th></th>\n",
       "    </tr>\n",
       "  </thead>\n",
       "  <tbody>\n",
       "    <tr>\n",
       "      <th>2018-01-01 00:00:00</th>\n",
       "      <td>61127.0</td>\n",
       "      <td>164.0</td>\n",
       "      <td>36.0</td>\n",
       "      <td>2462.0</td>\n",
       "      <td>42054.0</td>\n",
       "      <td>10799.0</td>\n",
       "      <td>-1.0</td>\n",
       "      <td>8012.0</td>\n",
       "      <td>-1054.0</td>\n",
       "      <td>1169.0</td>\n",
       "      <td>-2512.0</td>\n",
       "    </tr>\n",
       "    <tr>\n",
       "      <th>2018-01-01 00:15:00</th>\n",
       "      <td>NaN</td>\n",
       "      <td>NaN</td>\n",
       "      <td>NaN</td>\n",
       "      <td>NaN</td>\n",
       "      <td>NaN</td>\n",
       "      <td>NaN</td>\n",
       "      <td>NaN</td>\n",
       "      <td>NaN</td>\n",
       "      <td>NaN</td>\n",
       "      <td>NaN</td>\n",
       "      <td>NaN</td>\n",
       "    </tr>\n",
       "    <tr>\n",
       "      <th>2018-01-01 00:30:00</th>\n",
       "      <td>59962.0</td>\n",
       "      <td>108.0</td>\n",
       "      <td>18.0</td>\n",
       "      <td>2471.0</td>\n",
       "      <td>37564.0</td>\n",
       "      <td>10684.0</td>\n",
       "      <td>-1.0</td>\n",
       "      <td>8870.0</td>\n",
       "      <td>-1423.0</td>\n",
       "      <td>1120.0</td>\n",
       "      <td>552.0</td>\n",
       "    </tr>\n",
       "    <tr>\n",
       "      <th>2018-01-01 00:45:00</th>\n",
       "      <td>NaN</td>\n",
       "      <td>NaN</td>\n",
       "      <td>NaN</td>\n",
       "      <td>NaN</td>\n",
       "      <td>NaN</td>\n",
       "      <td>NaN</td>\n",
       "      <td>NaN</td>\n",
       "      <td>NaN</td>\n",
       "      <td>NaN</td>\n",
       "      <td>NaN</td>\n",
       "      <td>NaN</td>\n",
       "    </tr>\n",
       "    <tr>\n",
       "      <th>2018-01-01 01:00:00</th>\n",
       "      <td>57879.0</td>\n",
       "      <td>107.0</td>\n",
       "      <td>17.0</td>\n",
       "      <td>2474.0</td>\n",
       "      <td>35725.0</td>\n",
       "      <td>10660.0</td>\n",
       "      <td>-1.0</td>\n",
       "      <td>8585.0</td>\n",
       "      <td>-1398.0</td>\n",
       "      <td>1118.0</td>\n",
       "      <td>590.0</td>\n",
       "    </tr>\n",
       "    <tr>\n",
       "      <th>...</th>\n",
       "      <td>...</td>\n",
       "      <td>...</td>\n",
       "      <td>...</td>\n",
       "      <td>...</td>\n",
       "      <td>...</td>\n",
       "      <td>...</td>\n",
       "      <td>...</td>\n",
       "      <td>...</td>\n",
       "      <td>...</td>\n",
       "      <td>...</td>\n",
       "      <td>...</td>\n",
       "    </tr>\n",
       "    <tr>\n",
       "      <th>2018-12-31 22:45:00</th>\n",
       "      <td>NaN</td>\n",
       "      <td>NaN</td>\n",
       "      <td>NaN</td>\n",
       "      <td>NaN</td>\n",
       "      <td>NaN</td>\n",
       "      <td>NaN</td>\n",
       "      <td>NaN</td>\n",
       "      <td>NaN</td>\n",
       "      <td>NaN</td>\n",
       "      <td>NaN</td>\n",
       "      <td>NaN</td>\n",
       "    </tr>\n",
       "    <tr>\n",
       "      <th>2018-12-31 23:00:00</th>\n",
       "      <td>63977.0</td>\n",
       "      <td>146.0</td>\n",
       "      <td>11.0</td>\n",
       "      <td>3910.0</td>\n",
       "      <td>55589.0</td>\n",
       "      <td>1537.0</td>\n",
       "      <td>-2.0</td>\n",
       "      <td>5148.0</td>\n",
       "      <td>-1364.0</td>\n",
       "      <td>1172.0</td>\n",
       "      <td>-2171.0</td>\n",
       "    </tr>\n",
       "    <tr>\n",
       "      <th>2018-12-31 23:15:00</th>\n",
       "      <td>NaN</td>\n",
       "      <td>NaN</td>\n",
       "      <td>NaN</td>\n",
       "      <td>NaN</td>\n",
       "      <td>NaN</td>\n",
       "      <td>NaN</td>\n",
       "      <td>NaN</td>\n",
       "      <td>NaN</td>\n",
       "      <td>NaN</td>\n",
       "      <td>NaN</td>\n",
       "      <td>NaN</td>\n",
       "    </tr>\n",
       "    <tr>\n",
       "      <th>2018-12-31 23:30:00</th>\n",
       "      <td>63803.0</td>\n",
       "      <td>146.0</td>\n",
       "      <td>12.0</td>\n",
       "      <td>3452.0</td>\n",
       "      <td>55404.0</td>\n",
       "      <td>1543.0</td>\n",
       "      <td>-2.0</td>\n",
       "      <td>4688.0</td>\n",
       "      <td>-1474.0</td>\n",
       "      <td>1166.0</td>\n",
       "      <td>-1133.0</td>\n",
       "    </tr>\n",
       "    <tr>\n",
       "      <th>2018-12-31 23:45:00</th>\n",
       "      <td>NaN</td>\n",
       "      <td>NaN</td>\n",
       "      <td>NaN</td>\n",
       "      <td>NaN</td>\n",
       "      <td>NaN</td>\n",
       "      <td>NaN</td>\n",
       "      <td>NaN</td>\n",
       "      <td>NaN</td>\n",
       "      <td>NaN</td>\n",
       "      <td>NaN</td>\n",
       "      <td>NaN</td>\n",
       "    </tr>\n",
       "  </tbody>\n",
       "</table>\n",
       "<p>35040 rows × 11 columns</p>\n",
       "</div>"
      ],
      "text/plain": [
       "                     Consommation  Fioul  Charbon     Gaz  Nucléaire   Eolien  \\\n",
       "DateTime                                                                        \n",
       "2018-01-01 00:00:00       61127.0  164.0     36.0  2462.0    42054.0  10799.0   \n",
       "2018-01-01 00:15:00           NaN    NaN      NaN     NaN        NaN      NaN   \n",
       "2018-01-01 00:30:00       59962.0  108.0     18.0  2471.0    37564.0  10684.0   \n",
       "2018-01-01 00:45:00           NaN    NaN      NaN     NaN        NaN      NaN   \n",
       "2018-01-01 01:00:00       57879.0  107.0     17.0  2474.0    35725.0  10660.0   \n",
       "...                           ...    ...      ...     ...        ...      ...   \n",
       "2018-12-31 22:45:00           NaN    NaN      NaN     NaN        NaN      NaN   \n",
       "2018-12-31 23:00:00       63977.0  146.0     11.0  3910.0    55589.0   1537.0   \n",
       "2018-12-31 23:15:00           NaN    NaN      NaN     NaN        NaN      NaN   \n",
       "2018-12-31 23:30:00       63803.0  146.0     12.0  3452.0    55404.0   1543.0   \n",
       "2018-12-31 23:45:00           NaN    NaN      NaN     NaN        NaN      NaN   \n",
       "\n",
       "                     Solaire  Hydraulique  Pompage  Bioénergies  \\\n",
       "DateTime                                                          \n",
       "2018-01-01 00:00:00     -1.0       8012.0  -1054.0       1169.0   \n",
       "2018-01-01 00:15:00      NaN          NaN      NaN          NaN   \n",
       "2018-01-01 00:30:00     -1.0       8870.0  -1423.0       1120.0   \n",
       "2018-01-01 00:45:00      NaN          NaN      NaN          NaN   \n",
       "2018-01-01 01:00:00     -1.0       8585.0  -1398.0       1118.0   \n",
       "...                      ...          ...      ...          ...   \n",
       "2018-12-31 22:45:00      NaN          NaN      NaN          NaN   \n",
       "2018-12-31 23:00:00     -2.0       5148.0  -1364.0       1172.0   \n",
       "2018-12-31 23:15:00      NaN          NaN      NaN          NaN   \n",
       "2018-12-31 23:30:00     -2.0       4688.0  -1474.0       1166.0   \n",
       "2018-12-31 23:45:00      NaN          NaN      NaN          NaN   \n",
       "\n",
       "                     Ech. physiques  \n",
       "DateTime                             \n",
       "2018-01-01 00:00:00         -2512.0  \n",
       "2018-01-01 00:15:00             NaN  \n",
       "2018-01-01 00:30:00           552.0  \n",
       "2018-01-01 00:45:00             NaN  \n",
       "2018-01-01 01:00:00           590.0  \n",
       "...                             ...  \n",
       "2018-12-31 22:45:00             NaN  \n",
       "2018-12-31 23:00:00         -2171.0  \n",
       "2018-12-31 23:15:00             NaN  \n",
       "2018-12-31 23:30:00         -1133.0  \n",
       "2018-12-31 23:45:00             NaN  \n",
       "\n",
       "[35040 rows x 11 columns]"
      ]
     },
     "execution_count": 7,
     "metadata": {},
     "output_type": "execute_result"
    }
   ],
   "source": [
    "df_data_nationales.resample('h').mean()\n",
    "df = df_data_nationales[df_data_nationales.index.year == 2018]\n",
    "df"
   ]
  },
  {
   "cell_type": "code",
   "execution_count": 8,
   "metadata": {},
   "outputs": [
    {
     "data": {
      "text/html": [
       "<div>\n",
       "<style scoped>\n",
       "    .dataframe tbody tr th:only-of-type {\n",
       "        vertical-align: middle;\n",
       "    }\n",
       "\n",
       "    .dataframe tbody tr th {\n",
       "        vertical-align: top;\n",
       "    }\n",
       "\n",
       "    .dataframe thead th {\n",
       "        text-align: right;\n",
       "    }\n",
       "</style>\n",
       "<table border=\"1\" class=\"dataframe\">\n",
       "  <thead>\n",
       "    <tr style=\"text-align: right;\">\n",
       "      <th>Region</th>\n",
       "      <th>Auvergne-Rhône-Alpes</th>\n",
       "      <th>Bourgogne-Franche-Comté</th>\n",
       "      <th>Bretagne</th>\n",
       "      <th>Centre-Val de Loire</th>\n",
       "      <th>Grand-Est</th>\n",
       "      <th>Hauts-de-France</th>\n",
       "      <th>Ile-de-France</th>\n",
       "      <th>Normandie</th>\n",
       "      <th>Nouvelle-Aquitaine</th>\n",
       "      <th>Occitanie</th>\n",
       "      <th>PACA</th>\n",
       "      <th>Pays-de-la-Loire</th>\n",
       "    </tr>\n",
       "    <tr>\n",
       "      <th>date_validite</th>\n",
       "      <th></th>\n",
       "      <th></th>\n",
       "      <th></th>\n",
       "      <th></th>\n",
       "      <th></th>\n",
       "      <th></th>\n",
       "      <th></th>\n",
       "      <th></th>\n",
       "      <th></th>\n",
       "      <th></th>\n",
       "      <th></th>\n",
       "      <th></th>\n",
       "    </tr>\n",
       "  </thead>\n",
       "  <tbody>\n",
       "    <tr>\n",
       "      <th>2013-01-01 23:00:00</th>\n",
       "      <td>5.75</td>\n",
       "      <td>3.55</td>\n",
       "      <td>6.400000</td>\n",
       "      <td>3.55</td>\n",
       "      <td>4.78</td>\n",
       "      <td>4.50</td>\n",
       "      <td>3.54</td>\n",
       "      <td>4.6</td>\n",
       "      <td>5.0</td>\n",
       "      <td>5.933333</td>\n",
       "      <td>6.750</td>\n",
       "      <td>4.45</td>\n",
       "    </tr>\n",
       "    <tr>\n",
       "      <th>2013-01-02 00:00:00</th>\n",
       "      <td>5.30</td>\n",
       "      <td>2.95</td>\n",
       "      <td>6.366667</td>\n",
       "      <td>3.25</td>\n",
       "      <td>4.42</td>\n",
       "      <td>4.60</td>\n",
       "      <td>3.38</td>\n",
       "      <td>4.8</td>\n",
       "      <td>5.1</td>\n",
       "      <td>5.600000</td>\n",
       "      <td>6.425</td>\n",
       "      <td>4.10</td>\n",
       "    </tr>\n",
       "    <tr>\n",
       "      <th>2013-01-02 01:00:00</th>\n",
       "      <td>4.90</td>\n",
       "      <td>2.35</td>\n",
       "      <td>6.300000</td>\n",
       "      <td>3.10</td>\n",
       "      <td>4.06</td>\n",
       "      <td>4.75</td>\n",
       "      <td>3.34</td>\n",
       "      <td>5.0</td>\n",
       "      <td>5.3</td>\n",
       "      <td>5.400000</td>\n",
       "      <td>6.150</td>\n",
       "      <td>3.95</td>\n",
       "    </tr>\n",
       "    <tr>\n",
       "      <th>2013-01-02 02:00:00</th>\n",
       "      <td>4.60</td>\n",
       "      <td>1.85</td>\n",
       "      <td>5.966667</td>\n",
       "      <td>3.15</td>\n",
       "      <td>3.74</td>\n",
       "      <td>4.80</td>\n",
       "      <td>3.44</td>\n",
       "      <td>5.2</td>\n",
       "      <td>5.4</td>\n",
       "      <td>5.283333</td>\n",
       "      <td>5.875</td>\n",
       "      <td>3.90</td>\n",
       "    </tr>\n",
       "    <tr>\n",
       "      <th>2013-01-02 03:00:00</th>\n",
       "      <td>4.30</td>\n",
       "      <td>1.50</td>\n",
       "      <td>5.833333</td>\n",
       "      <td>3.00</td>\n",
       "      <td>3.40</td>\n",
       "      <td>4.90</td>\n",
       "      <td>3.46</td>\n",
       "      <td>5.3</td>\n",
       "      <td>5.3</td>\n",
       "      <td>5.316667</td>\n",
       "      <td>5.600</td>\n",
       "      <td>3.75</td>\n",
       "    </tr>\n",
       "  </tbody>\n",
       "</table>\n",
       "</div>"
      ],
      "text/plain": [
       "Region               Auvergne-Rhône-Alpes  Bourgogne-Franche-Comté  Bretagne  \\\n",
       "date_validite                                                                  \n",
       "2013-01-01 23:00:00                  5.75                     3.55  6.400000   \n",
       "2013-01-02 00:00:00                  5.30                     2.95  6.366667   \n",
       "2013-01-02 01:00:00                  4.90                     2.35  6.300000   \n",
       "2013-01-02 02:00:00                  4.60                     1.85  5.966667   \n",
       "2013-01-02 03:00:00                  4.30                     1.50  5.833333   \n",
       "\n",
       "Region               Centre-Val de Loire  Grand-Est  Hauts-de-France  \\\n",
       "date_validite                                                          \n",
       "2013-01-01 23:00:00                 3.55       4.78             4.50   \n",
       "2013-01-02 00:00:00                 3.25       4.42             4.60   \n",
       "2013-01-02 01:00:00                 3.10       4.06             4.75   \n",
       "2013-01-02 02:00:00                 3.15       3.74             4.80   \n",
       "2013-01-02 03:00:00                 3.00       3.40             4.90   \n",
       "\n",
       "Region               Ile-de-France  Normandie  Nouvelle-Aquitaine  Occitanie  \\\n",
       "date_validite                                                                  \n",
       "2013-01-01 23:00:00           3.54        4.6                 5.0   5.933333   \n",
       "2013-01-02 00:00:00           3.38        4.8                 5.1   5.600000   \n",
       "2013-01-02 01:00:00           3.34        5.0                 5.3   5.400000   \n",
       "2013-01-02 02:00:00           3.44        5.2                 5.4   5.283333   \n",
       "2013-01-02 03:00:00           3.46        5.3                 5.3   5.316667   \n",
       "\n",
       "Region                PACA  Pays-de-la-Loire  \n",
       "date_validite                                 \n",
       "2013-01-01 23:00:00  6.750              4.45  \n",
       "2013-01-02 00:00:00  6.425              4.10  \n",
       "2013-01-02 01:00:00  6.150              3.95  \n",
       "2013-01-02 02:00:00  5.875              3.90  \n",
       "2013-01-02 03:00:00  5.600              3.75  "
      ]
     },
     "execution_count": 8,
     "metadata": {},
     "output_type": "execute_result"
    }
   ],
   "source": [
    "df_temperatures.head()"
   ]
  },
  {
   "cell_type": "code",
   "execution_count": 9,
   "metadata": {},
   "outputs": [
    {
     "data": {
      "text/html": [
       "<div>\n",
       "<style scoped>\n",
       "    .dataframe tbody tr th:only-of-type {\n",
       "        vertical-align: middle;\n",
       "    }\n",
       "\n",
       "    .dataframe tbody tr th {\n",
       "        vertical-align: top;\n",
       "    }\n",
       "\n",
       "    .dataframe thead th {\n",
       "        text-align: right;\n",
       "    }\n",
       "</style>\n",
       "<table border=\"1\" class=\"dataframe\">\n",
       "  <thead>\n",
       "    <tr style=\"text-align: right;\">\n",
       "      <th>Périmètre</th>\n",
       "      <th>Auvergne-Rhône-Alpes</th>\n",
       "      <th>Bourgogne-Franche-Comté</th>\n",
       "      <th>Bretagne</th>\n",
       "      <th>Centre-Val de Loire</th>\n",
       "      <th>Grand-Est</th>\n",
       "      <th>Hauts-de-France</th>\n",
       "      <th>Ile-de-France</th>\n",
       "      <th>Normandie</th>\n",
       "      <th>Nouvelle-Aquitaine</th>\n",
       "      <th>Occitanie</th>\n",
       "      <th>PACA</th>\n",
       "      <th>Pays-de-la-Loire</th>\n",
       "    </tr>\n",
       "    <tr>\n",
       "      <th>DateTime</th>\n",
       "      <th></th>\n",
       "      <th></th>\n",
       "      <th></th>\n",
       "      <th></th>\n",
       "      <th></th>\n",
       "      <th></th>\n",
       "      <th></th>\n",
       "      <th></th>\n",
       "      <th></th>\n",
       "      <th></th>\n",
       "      <th></th>\n",
       "      <th></th>\n",
       "    </tr>\n",
       "  </thead>\n",
       "  <tbody>\n",
       "    <tr>\n",
       "      <th>2014-04-01 15:30:00</th>\n",
       "      <td>0.528302</td>\n",
       "      <td>0.593023</td>\n",
       "      <td>0.419162</td>\n",
       "      <td>0.647059</td>\n",
       "      <td>0.445755</td>\n",
       "      <td>0.508333</td>\n",
       "      <td>0.445946</td>\n",
       "      <td>0.527273</td>\n",
       "      <td>0.415061</td>\n",
       "      <td>0.453405</td>\n",
       "      <td>0.434726</td>\n",
       "      <td>0.402857</td>\n",
       "    </tr>\n",
       "    <tr>\n",
       "      <th>2018-12-01 09:00:00</th>\n",
       "      <td>0.039278</td>\n",
       "      <td>0.025830</td>\n",
       "      <td>0.000000</td>\n",
       "      <td>0.011070</td>\n",
       "      <td>0.069530</td>\n",
       "      <td>0.006536</td>\n",
       "      <td>0.000000</td>\n",
       "      <td>0.000000</td>\n",
       "      <td>0.011047</td>\n",
       "      <td>0.058986</td>\n",
       "      <td>0.100490</td>\n",
       "      <td>0.000000</td>\n",
       "    </tr>\n",
       "    <tr>\n",
       "      <th>2015-07-10 06:30:00</th>\n",
       "      <td>0.003091</td>\n",
       "      <td>0.005348</td>\n",
       "      <td>0.000000</td>\n",
       "      <td>0.000000</td>\n",
       "      <td>0.013793</td>\n",
       "      <td>0.008065</td>\n",
       "      <td>0.000000</td>\n",
       "      <td>0.000000</td>\n",
       "      <td>0.000000</td>\n",
       "      <td>0.000000</td>\n",
       "      <td>0.002301</td>\n",
       "      <td>0.000000</td>\n",
       "    </tr>\n",
       "    <tr>\n",
       "      <th>2016-09-17 21:00:00</th>\n",
       "      <td>0.000000</td>\n",
       "      <td>0.000000</td>\n",
       "      <td>0.000000</td>\n",
       "      <td>0.000000</td>\n",
       "      <td>0.000000</td>\n",
       "      <td>0.000000</td>\n",
       "      <td>0.000000</td>\n",
       "      <td>0.000000</td>\n",
       "      <td>-0.000577</td>\n",
       "      <td>0.000000</td>\n",
       "      <td>0.000000</td>\n",
       "      <td>0.000000</td>\n",
       "    </tr>\n",
       "    <tr>\n",
       "      <th>2013-12-09 03:30:00</th>\n",
       "      <td>0.000000</td>\n",
       "      <td>0.000000</td>\n",
       "      <td>0.000000</td>\n",
       "      <td>0.000000</td>\n",
       "      <td>0.000000</td>\n",
       "      <td>0.000000</td>\n",
       "      <td>0.000000</td>\n",
       "      <td>0.000000</td>\n",
       "      <td>0.000000</td>\n",
       "      <td>0.000000</td>\n",
       "      <td>0.000000</td>\n",
       "      <td>0.000000</td>\n",
       "    </tr>\n",
       "    <tr>\n",
       "      <th>...</th>\n",
       "      <td>...</td>\n",
       "      <td>...</td>\n",
       "      <td>...</td>\n",
       "      <td>...</td>\n",
       "      <td>...</td>\n",
       "      <td>...</td>\n",
       "      <td>...</td>\n",
       "      <td>...</td>\n",
       "      <td>...</td>\n",
       "      <td>...</td>\n",
       "      <td>...</td>\n",
       "      <td>...</td>\n",
       "    </tr>\n",
       "    <tr>\n",
       "      <th>2016-01-27 14:00:00</th>\n",
       "      <td>0.338549</td>\n",
       "      <td>0.158163</td>\n",
       "      <td>0.047368</td>\n",
       "      <td>0.119816</td>\n",
       "      <td>0.161798</td>\n",
       "      <td>0.100775</td>\n",
       "      <td>0.130952</td>\n",
       "      <td>0.056911</td>\n",
       "      <td>0.342561</td>\n",
       "      <td>0.256428</td>\n",
       "      <td>0.295238</td>\n",
       "      <td>0.106538</td>\n",
       "    </tr>\n",
       "    <tr>\n",
       "      <th>2013-08-15 00:00:00</th>\n",
       "      <td>0.000000</td>\n",
       "      <td>0.000000</td>\n",
       "      <td>0.000000</td>\n",
       "      <td>0.000000</td>\n",
       "      <td>0.000000</td>\n",
       "      <td>0.000000</td>\n",
       "      <td>0.000000</td>\n",
       "      <td>0.000000</td>\n",
       "      <td>0.000000</td>\n",
       "      <td>0.000000</td>\n",
       "      <td>0.000000</td>\n",
       "      <td>0.000000</td>\n",
       "    </tr>\n",
       "    <tr>\n",
       "      <th>2016-09-01 16:00:00</th>\n",
       "      <td>0.571835</td>\n",
       "      <td>0.525510</td>\n",
       "      <td>0.521053</td>\n",
       "      <td>0.580645</td>\n",
       "      <td>0.573034</td>\n",
       "      <td>0.612403</td>\n",
       "      <td>0.428571</td>\n",
       "      <td>0.601626</td>\n",
       "      <td>0.688581</td>\n",
       "      <td>0.594723</td>\n",
       "      <td>0.598942</td>\n",
       "      <td>0.569007</td>\n",
       "    </tr>\n",
       "    <tr>\n",
       "      <th>2013-12-27 14:00:00</th>\n",
       "      <td>0.261603</td>\n",
       "      <td>0.090909</td>\n",
       "      <td>0.046667</td>\n",
       "      <td>0.122581</td>\n",
       "      <td>0.123116</td>\n",
       "      <td>0.026786</td>\n",
       "      <td>0.059701</td>\n",
       "      <td>0.029703</td>\n",
       "      <td>0.395109</td>\n",
       "      <td>0.447425</td>\n",
       "      <td>0.448795</td>\n",
       "      <td>0.058419</td>\n",
       "    </tr>\n",
       "    <tr>\n",
       "      <th>2015-08-31 18:00:00</th>\n",
       "      <td>0.217929</td>\n",
       "      <td>0.171123</td>\n",
       "      <td>0.129213</td>\n",
       "      <td>0.221106</td>\n",
       "      <td>0.241379</td>\n",
       "      <td>0.072581</td>\n",
       "      <td>0.177215</td>\n",
       "      <td>0.077586</td>\n",
       "      <td>0.084065</td>\n",
       "      <td>0.208757</td>\n",
       "      <td>0.280783</td>\n",
       "      <td>0.211082</td>\n",
       "    </tr>\n",
       "  </tbody>\n",
       "</table>\n",
       "<p>100 rows × 12 columns</p>\n",
       "</div>"
      ],
      "text/plain": [
       "Périmètre            Auvergne-Rhône-Alpes  Bourgogne-Franche-Comté  Bretagne  \\\n",
       "DateTime                                                                       \n",
       "2014-04-01 15:30:00              0.528302                 0.593023  0.419162   \n",
       "2018-12-01 09:00:00              0.039278                 0.025830  0.000000   \n",
       "2015-07-10 06:30:00              0.003091                 0.005348  0.000000   \n",
       "2016-09-17 21:00:00              0.000000                 0.000000  0.000000   \n",
       "2013-12-09 03:30:00              0.000000                 0.000000  0.000000   \n",
       "...                                   ...                      ...       ...   \n",
       "2016-01-27 14:00:00              0.338549                 0.158163  0.047368   \n",
       "2013-08-15 00:00:00              0.000000                 0.000000  0.000000   \n",
       "2016-09-01 16:00:00              0.571835                 0.525510  0.521053   \n",
       "2013-12-27 14:00:00              0.261603                 0.090909  0.046667   \n",
       "2015-08-31 18:00:00              0.217929                 0.171123  0.129213   \n",
       "\n",
       "Périmètre            Centre-Val de Loire  Grand-Est  Hauts-de-France  \\\n",
       "DateTime                                                               \n",
       "2014-04-01 15:30:00             0.647059   0.445755         0.508333   \n",
       "2018-12-01 09:00:00             0.011070   0.069530         0.006536   \n",
       "2015-07-10 06:30:00             0.000000   0.013793         0.008065   \n",
       "2016-09-17 21:00:00             0.000000   0.000000         0.000000   \n",
       "2013-12-09 03:30:00             0.000000   0.000000         0.000000   \n",
       "...                                  ...        ...              ...   \n",
       "2016-01-27 14:00:00             0.119816   0.161798         0.100775   \n",
       "2013-08-15 00:00:00             0.000000   0.000000         0.000000   \n",
       "2016-09-01 16:00:00             0.580645   0.573034         0.612403   \n",
       "2013-12-27 14:00:00             0.122581   0.123116         0.026786   \n",
       "2015-08-31 18:00:00             0.221106   0.241379         0.072581   \n",
       "\n",
       "Périmètre            Ile-de-France  Normandie  Nouvelle-Aquitaine  Occitanie  \\\n",
       "DateTime                                                                       \n",
       "2014-04-01 15:30:00       0.445946   0.527273            0.415061   0.453405   \n",
       "2018-12-01 09:00:00       0.000000   0.000000            0.011047   0.058986   \n",
       "2015-07-10 06:30:00       0.000000   0.000000            0.000000   0.000000   \n",
       "2016-09-17 21:00:00       0.000000   0.000000           -0.000577   0.000000   \n",
       "2013-12-09 03:30:00       0.000000   0.000000            0.000000   0.000000   \n",
       "...                            ...        ...                 ...        ...   \n",
       "2016-01-27 14:00:00       0.130952   0.056911            0.342561   0.256428   \n",
       "2013-08-15 00:00:00       0.000000   0.000000            0.000000   0.000000   \n",
       "2016-09-01 16:00:00       0.428571   0.601626            0.688581   0.594723   \n",
       "2013-12-27 14:00:00       0.059701   0.029703            0.395109   0.447425   \n",
       "2015-08-31 18:00:00       0.177215   0.077586            0.084065   0.208757   \n",
       "\n",
       "Périmètre                PACA  Pays-de-la-Loire  \n",
       "DateTime                                         \n",
       "2014-04-01 15:30:00  0.434726          0.402857  \n",
       "2018-12-01 09:00:00  0.100490          0.000000  \n",
       "2015-07-10 06:30:00  0.002301          0.000000  \n",
       "2016-09-17 21:00:00  0.000000          0.000000  \n",
       "2013-12-09 03:30:00  0.000000          0.000000  \n",
       "...                       ...               ...  \n",
       "2016-01-27 14:00:00  0.295238          0.106538  \n",
       "2013-08-15 00:00:00  0.000000          0.000000  \n",
       "2016-09-01 16:00:00  0.598942          0.569007  \n",
       "2013-12-27 14:00:00  0.448795          0.058419  \n",
       "2015-08-31 18:00:00  0.280783          0.211082  \n",
       "\n",
       "[100 rows x 12 columns]"
      ]
     },
     "execution_count": 9,
     "metadata": {},
     "output_type": "execute_result"
    }
   ],
   "source": [
    "df_solaire.sample(100)"
   ]
  },
  {
   "cell_type": "code",
   "execution_count": 10,
   "metadata": {},
   "outputs": [
    {
     "data": {
      "text/html": [
       "<div>\n",
       "<style scoped>\n",
       "    .dataframe tbody tr th:only-of-type {\n",
       "        vertical-align: middle;\n",
       "    }\n",
       "\n",
       "    .dataframe tbody tr th {\n",
       "        vertical-align: top;\n",
       "    }\n",
       "\n",
       "    .dataframe thead th {\n",
       "        text-align: right;\n",
       "    }\n",
       "</style>\n",
       "<table border=\"1\" class=\"dataframe\">\n",
       "  <thead>\n",
       "    <tr style=\"text-align: right;\">\n",
       "      <th>Périmètre</th>\n",
       "      <th>Auvergne-Rhône-Alpes</th>\n",
       "      <th>Bourgogne-Franche-Comté</th>\n",
       "      <th>Bretagne</th>\n",
       "      <th>Centre-Val de Loire</th>\n",
       "      <th>Grand-Est</th>\n",
       "      <th>Hauts-de-France</th>\n",
       "      <th>Ile-de-France</th>\n",
       "      <th>Normandie</th>\n",
       "      <th>Nouvelle-Aquitaine</th>\n",
       "      <th>Occitanie</th>\n",
       "      <th>PACA</th>\n",
       "      <th>Pays-de-la-Loire</th>\n",
       "    </tr>\n",
       "    <tr>\n",
       "      <th>DateTime</th>\n",
       "      <th></th>\n",
       "      <th></th>\n",
       "      <th></th>\n",
       "      <th></th>\n",
       "      <th></th>\n",
       "      <th></th>\n",
       "      <th></th>\n",
       "      <th></th>\n",
       "      <th></th>\n",
       "      <th></th>\n",
       "      <th></th>\n",
       "      <th></th>\n",
       "    </tr>\n",
       "  </thead>\n",
       "  <tbody>\n",
       "    <tr>\n",
       "      <th>2014-06-29 19:00:00</th>\n",
       "      <td>0.234043</td>\n",
       "      <td>0.199313</td>\n",
       "      <td>0.205811</td>\n",
       "      <td>0.203791</td>\n",
       "      <td>0.148746</td>\n",
       "      <td>0.108202</td>\n",
       "      <td>0.157895</td>\n",
       "      <td>0.094231</td>\n",
       "      <td>0.424431</td>\n",
       "      <td>0.579229</td>\n",
       "      <td>0.744681</td>\n",
       "      <td>0.385813</td>\n",
       "    </tr>\n",
       "    <tr>\n",
       "      <th>2016-09-16 11:00:00</th>\n",
       "      <td>0.027088</td>\n",
       "      <td>0.019272</td>\n",
       "      <td>0.365827</td>\n",
       "      <td>0.029474</td>\n",
       "      <td>0.032673</td>\n",
       "      <td>0.186214</td>\n",
       "      <td>0.023256</td>\n",
       "      <td>0.214619</td>\n",
       "      <td>0.066763</td>\n",
       "      <td>0.250644</td>\n",
       "      <td>0.040000</td>\n",
       "      <td>0.129604</td>\n",
       "    </tr>\n",
       "    <tr>\n",
       "      <th>2015-05-23 20:00:00</th>\n",
       "      <td>0.589552</td>\n",
       "      <td>0.226913</td>\n",
       "      <td>0.148712</td>\n",
       "      <td>0.285388</td>\n",
       "      <td>0.118217</td>\n",
       "      <td>0.182403</td>\n",
       "      <td>0.069767</td>\n",
       "      <td>0.102293</td>\n",
       "      <td>0.046763</td>\n",
       "      <td>0.567437</td>\n",
       "      <td>0.680000</td>\n",
       "      <td>0.113924</td>\n",
       "    </tr>\n",
       "    <tr>\n",
       "      <th>2015-01-25 19:30:00</th>\n",
       "      <td>0.283582</td>\n",
       "      <td>0.026385</td>\n",
       "      <td>0.055035</td>\n",
       "      <td>0.025114</td>\n",
       "      <td>0.017829</td>\n",
       "      <td>0.109871</td>\n",
       "      <td>0.023256</td>\n",
       "      <td>0.181658</td>\n",
       "      <td>0.034173</td>\n",
       "      <td>0.513487</td>\n",
       "      <td>0.780000</td>\n",
       "      <td>0.041139</td>\n",
       "    </tr>\n",
       "    <tr>\n",
       "      <th>2017-02-24 09:30:00</th>\n",
       "      <td>0.240000</td>\n",
       "      <td>0.082812</td>\n",
       "      <td>0.102669</td>\n",
       "      <td>0.158309</td>\n",
       "      <td>0.141290</td>\n",
       "      <td>0.110716</td>\n",
       "      <td>0.071429</td>\n",
       "      <td>0.216253</td>\n",
       "      <td>0.115654</td>\n",
       "      <td>0.396712</td>\n",
       "      <td>0.220000</td>\n",
       "      <td>0.183698</td>\n",
       "    </tr>\n",
       "    <tr>\n",
       "      <th>...</th>\n",
       "      <td>...</td>\n",
       "      <td>...</td>\n",
       "      <td>...</td>\n",
       "      <td>...</td>\n",
       "      <td>...</td>\n",
       "      <td>...</td>\n",
       "      <td>...</td>\n",
       "      <td>...</td>\n",
       "      <td>...</td>\n",
       "      <td>...</td>\n",
       "      <td>...</td>\n",
       "      <td>...</td>\n",
       "    </tr>\n",
       "    <tr>\n",
       "      <th>2016-02-27 09:30:00</th>\n",
       "      <td>0.300226</td>\n",
       "      <td>0.336188</td>\n",
       "      <td>0.453450</td>\n",
       "      <td>0.552632</td>\n",
       "      <td>0.325686</td>\n",
       "      <td>0.321905</td>\n",
       "      <td>0.418605</td>\n",
       "      <td>0.315708</td>\n",
       "      <td>0.355588</td>\n",
       "      <td>0.600858</td>\n",
       "      <td>0.660000</td>\n",
       "      <td>0.510232</td>\n",
       "    </tr>\n",
       "    <tr>\n",
       "      <th>2017-01-20 09:30:00</th>\n",
       "      <td>0.120000</td>\n",
       "      <td>0.223438</td>\n",
       "      <td>0.191992</td>\n",
       "      <td>0.214356</td>\n",
       "      <td>0.296774</td>\n",
       "      <td>0.179988</td>\n",
       "      <td>0.100000</td>\n",
       "      <td>0.174931</td>\n",
       "      <td>0.107477</td>\n",
       "      <td>0.315940</td>\n",
       "      <td>0.140000</td>\n",
       "      <td>0.193431</td>\n",
       "    </tr>\n",
       "    <tr>\n",
       "      <th>2016-05-14 09:00:00</th>\n",
       "      <td>0.320542</td>\n",
       "      <td>0.201285</td>\n",
       "      <td>0.197152</td>\n",
       "      <td>0.229474</td>\n",
       "      <td>0.293361</td>\n",
       "      <td>0.294479</td>\n",
       "      <td>0.255814</td>\n",
       "      <td>0.185070</td>\n",
       "      <td>0.024673</td>\n",
       "      <td>0.528755</td>\n",
       "      <td>0.240000</td>\n",
       "      <td>0.155525</td>\n",
       "    </tr>\n",
       "    <tr>\n",
       "      <th>2016-07-14 01:00:00</th>\n",
       "      <td>0.257336</td>\n",
       "      <td>0.053533</td>\n",
       "      <td>0.141292</td>\n",
       "      <td>0.165263</td>\n",
       "      <td>0.088286</td>\n",
       "      <td>0.068567</td>\n",
       "      <td>0.209302</td>\n",
       "      <td>0.161742</td>\n",
       "      <td>0.088534</td>\n",
       "      <td>0.437768</td>\n",
       "      <td>0.380000</td>\n",
       "      <td>0.126876</td>\n",
       "    </tr>\n",
       "    <tr>\n",
       "      <th>2018-08-04 17:00:00</th>\n",
       "      <td>0.198915</td>\n",
       "      <td>0.112994</td>\n",
       "      <td>0.096647</td>\n",
       "      <td>0.100529</td>\n",
       "      <td>0.096069</td>\n",
       "      <td>0.156602</td>\n",
       "      <td>0.114286</td>\n",
       "      <td>0.133820</td>\n",
       "      <td>0.065969</td>\n",
       "      <td>0.238532</td>\n",
       "      <td>0.229167</td>\n",
       "      <td>0.059276</td>\n",
       "    </tr>\n",
       "  </tbody>\n",
       "</table>\n",
       "<p>100 rows × 12 columns</p>\n",
       "</div>"
      ],
      "text/plain": [
       "Périmètre            Auvergne-Rhône-Alpes  Bourgogne-Franche-Comté  Bretagne  \\\n",
       "DateTime                                                                       \n",
       "2014-06-29 19:00:00              0.234043                 0.199313  0.205811   \n",
       "2016-09-16 11:00:00              0.027088                 0.019272  0.365827   \n",
       "2015-05-23 20:00:00              0.589552                 0.226913  0.148712   \n",
       "2015-01-25 19:30:00              0.283582                 0.026385  0.055035   \n",
       "2017-02-24 09:30:00              0.240000                 0.082812  0.102669   \n",
       "...                                   ...                      ...       ...   \n",
       "2016-02-27 09:30:00              0.300226                 0.336188  0.453450   \n",
       "2017-01-20 09:30:00              0.120000                 0.223438  0.191992   \n",
       "2016-05-14 09:00:00              0.320542                 0.201285  0.197152   \n",
       "2016-07-14 01:00:00              0.257336                 0.053533  0.141292   \n",
       "2018-08-04 17:00:00              0.198915                 0.112994  0.096647   \n",
       "\n",
       "Périmètre            Centre-Val de Loire  Grand-Est  Hauts-de-France  \\\n",
       "DateTime                                                               \n",
       "2014-06-29 19:00:00             0.203791   0.148746         0.108202   \n",
       "2016-09-16 11:00:00             0.029474   0.032673         0.186214   \n",
       "2015-05-23 20:00:00             0.285388   0.118217         0.182403   \n",
       "2015-01-25 19:30:00             0.025114   0.017829         0.109871   \n",
       "2017-02-24 09:30:00             0.158309   0.141290         0.110716   \n",
       "...                                  ...        ...              ...   \n",
       "2016-02-27 09:30:00             0.552632   0.325686         0.321905   \n",
       "2017-01-20 09:30:00             0.214356   0.296774         0.179988   \n",
       "2016-05-14 09:00:00             0.229474   0.293361         0.294479   \n",
       "2016-07-14 01:00:00             0.165263   0.088286         0.068567   \n",
       "2018-08-04 17:00:00             0.100529   0.096069         0.156602   \n",
       "\n",
       "Périmètre            Ile-de-France  Normandie  Nouvelle-Aquitaine  Occitanie  \\\n",
       "DateTime                                                                       \n",
       "2014-06-29 19:00:00       0.157895   0.094231            0.424431   0.579229   \n",
       "2016-09-16 11:00:00       0.023256   0.214619            0.066763   0.250644   \n",
       "2015-05-23 20:00:00       0.069767   0.102293            0.046763   0.567437   \n",
       "2015-01-25 19:30:00       0.023256   0.181658            0.034173   0.513487   \n",
       "2017-02-24 09:30:00       0.071429   0.216253            0.115654   0.396712   \n",
       "...                            ...        ...                 ...        ...   \n",
       "2016-02-27 09:30:00       0.418605   0.315708            0.355588   0.600858   \n",
       "2017-01-20 09:30:00       0.100000   0.174931            0.107477   0.315940   \n",
       "2016-05-14 09:00:00       0.255814   0.185070            0.024673   0.528755   \n",
       "2016-07-14 01:00:00       0.209302   0.161742            0.088534   0.437768   \n",
       "2018-08-04 17:00:00       0.114286   0.133820            0.065969   0.238532   \n",
       "\n",
       "Périmètre                PACA  Pays-de-la-Loire  \n",
       "DateTime                                         \n",
       "2014-06-29 19:00:00  0.744681          0.385813  \n",
       "2016-09-16 11:00:00  0.040000          0.129604  \n",
       "2015-05-23 20:00:00  0.680000          0.113924  \n",
       "2015-01-25 19:30:00  0.780000          0.041139  \n",
       "2017-02-24 09:30:00  0.220000          0.183698  \n",
       "...                       ...               ...  \n",
       "2016-02-27 09:30:00  0.660000          0.510232  \n",
       "2017-01-20 09:30:00  0.140000          0.193431  \n",
       "2016-05-14 09:00:00  0.240000          0.155525  \n",
       "2016-07-14 01:00:00  0.380000          0.126876  \n",
       "2018-08-04 17:00:00  0.229167          0.059276  \n",
       "\n",
       "[100 rows x 12 columns]"
      ]
     },
     "execution_count": 10,
     "metadata": {},
     "output_type": "execute_result"
    }
   ],
   "source": [
    "df_eolien.sample(100)"
   ]
  },
  {
   "cell_type": "markdown",
   "metadata": {},
   "source": [
    "### je dois chercher un lien entre la consommation d'energies renouvelables et la température et plotter cela"
   ]
  },
  {
   "cell_type": "code",
   "execution_count": 21,
   "metadata": {},
   "outputs": [
    {
     "data": {
      "text/html": [
       "<div>\n",
       "<style scoped>\n",
       "    .dataframe tbody tr th:only-of-type {\n",
       "        vertical-align: middle;\n",
       "    }\n",
       "\n",
       "    .dataframe tbody tr th {\n",
       "        vertical-align: top;\n",
       "    }\n",
       "\n",
       "    .dataframe thead th {\n",
       "        text-align: right;\n",
       "    }\n",
       "</style>\n",
       "<table border=\"1\" class=\"dataframe\">\n",
       "  <thead>\n",
       "    <tr style=\"text-align: right;\">\n",
       "      <th></th>\n",
       "      <th>Consommation</th>\n",
       "    </tr>\n",
       "    <tr>\n",
       "      <th>DateTime</th>\n",
       "      <th></th>\n",
       "    </tr>\n",
       "  </thead>\n",
       "  <tbody>\n",
       "    <tr>\n",
       "      <th>2012-01-01 00:00:00</th>\n",
       "      <td>58315.0</td>\n",
       "    </tr>\n",
       "    <tr>\n",
       "      <th>2012-01-01 01:00:00</th>\n",
       "      <td>56153.0</td>\n",
       "    </tr>\n",
       "    <tr>\n",
       "      <th>2012-01-01 02:00:00</th>\n",
       "      <td>55221.5</td>\n",
       "    </tr>\n",
       "    <tr>\n",
       "      <th>2012-01-01 03:00:00</th>\n",
       "      <td>51580.0</td>\n",
       "    </tr>\n",
       "    <tr>\n",
       "      <th>2012-01-01 04:00:00</th>\n",
       "      <td>48378.5</td>\n",
       "    </tr>\n",
       "  </tbody>\n",
       "</table>\n",
       "</div>"
      ],
      "text/plain": [
       "                     Consommation\n",
       "DateTime                         \n",
       "2012-01-01 00:00:00       58315.0\n",
       "2012-01-01 01:00:00       56153.0\n",
       "2012-01-01 02:00:00       55221.5\n",
       "2012-01-01 03:00:00       51580.0\n",
       "2012-01-01 04:00:00       48378.5"
      ]
     },
     "execution_count": 21,
     "metadata": {},
     "output_type": "execute_result"
    }
   ],
   "source": [
    "### je selectionne la colonne consommation et je reechantillonnage par la moyenne horraire \n",
    "\n",
    "conso_nat = pd.DataFrame(df_data_nationales['Consommation'].dropna(axis=0).resample('h').mean())\n",
    "conso_nat.head()"
   ]
  },
  {
   "cell_type": "code",
   "execution_count": 22,
   "metadata": {},
   "outputs": [
    {
     "data": {
      "text/html": [
       "<div>\n",
       "<style scoped>\n",
       "    .dataframe tbody tr th:only-of-type {\n",
       "        vertical-align: middle;\n",
       "    }\n",
       "\n",
       "    .dataframe tbody tr th {\n",
       "        vertical-align: top;\n",
       "    }\n",
       "\n",
       "    .dataframe thead th {\n",
       "        text-align: right;\n",
       "    }\n",
       "</style>\n",
       "<table border=\"1\" class=\"dataframe\">\n",
       "  <thead>\n",
       "    <tr style=\"text-align: right;\">\n",
       "      <th></th>\n",
       "      <th>avg_temperature</th>\n",
       "    </tr>\n",
       "    <tr>\n",
       "      <th>date_validite</th>\n",
       "      <th></th>\n",
       "    </tr>\n",
       "  </thead>\n",
       "  <tbody>\n",
       "    <tr>\n",
       "      <th>2013-01-01 23:00:00</th>\n",
       "      <td>4.900278</td>\n",
       "    </tr>\n",
       "    <tr>\n",
       "      <th>2013-01-02 00:00:00</th>\n",
       "      <td>4.690972</td>\n",
       "    </tr>\n",
       "    <tr>\n",
       "      <th>2013-01-02 01:00:00</th>\n",
       "      <td>4.550000</td>\n",
       "    </tr>\n",
       "    <tr>\n",
       "      <th>2013-01-02 02:00:00</th>\n",
       "      <td>4.433750</td>\n",
       "    </tr>\n",
       "    <tr>\n",
       "      <th>2013-01-02 03:00:00</th>\n",
       "      <td>4.305000</td>\n",
       "    </tr>\n",
       "  </tbody>\n",
       "</table>\n",
       "</div>"
      ],
      "text/plain": [
       "                     avg_temperature\n",
       "date_validite                       \n",
       "2013-01-01 23:00:00         4.900278\n",
       "2013-01-02 00:00:00         4.690972\n",
       "2013-01-02 01:00:00         4.550000\n",
       "2013-01-02 02:00:00         4.433750\n",
       "2013-01-02 03:00:00         4.305000"
      ]
     },
     "execution_count": 22,
     "metadata": {},
     "output_type": "execute_result"
    }
   ],
   "source": [
    "### je selectionne la colonne température moyenne et je reechantillonnage par la moyenne horraire \n",
    "\n",
    "avg_temp_nat = pd.DataFrame(df_temperatures.mean(axis=1).dropna(axis=0).resample('h').mean(), columns=['avg_temperature'])\n",
    "avg_temp_nat.head()"
   ]
  },
  {
   "cell_type": "code",
   "execution_count": 13,
   "metadata": {},
   "outputs": [
    {
     "data": {
      "text/html": [
       "<div>\n",
       "<style scoped>\n",
       "    .dataframe tbody tr th:only-of-type {\n",
       "        vertical-align: middle;\n",
       "    }\n",
       "\n",
       "    .dataframe tbody tr th {\n",
       "        vertical-align: top;\n",
       "    }\n",
       "\n",
       "    .dataframe thead th {\n",
       "        text-align: right;\n",
       "    }\n",
       "</style>\n",
       "<table border=\"1\" class=\"dataframe\">\n",
       "  <thead>\n",
       "    <tr style=\"text-align: right;\">\n",
       "      <th></th>\n",
       "      <th>Consommation</th>\n",
       "      <th>avg_temperature</th>\n",
       "    </tr>\n",
       "  </thead>\n",
       "  <tbody>\n",
       "    <tr>\n",
       "      <th>2013-01-01 23:00:00</th>\n",
       "      <td>60870.0</td>\n",
       "      <td>4.900278</td>\n",
       "    </tr>\n",
       "    <tr>\n",
       "      <th>2013-01-02 00:00:00</th>\n",
       "      <td>59298.0</td>\n",
       "      <td>4.690972</td>\n",
       "    </tr>\n",
       "    <tr>\n",
       "      <th>2013-01-02 01:00:00</th>\n",
       "      <td>56016.5</td>\n",
       "      <td>4.550000</td>\n",
       "    </tr>\n",
       "    <tr>\n",
       "      <th>2013-01-02 02:00:00</th>\n",
       "      <td>55624.0</td>\n",
       "      <td>4.433750</td>\n",
       "    </tr>\n",
       "    <tr>\n",
       "      <th>2013-01-02 03:00:00</th>\n",
       "      <td>53148.0</td>\n",
       "      <td>4.305000</td>\n",
       "    </tr>\n",
       "  </tbody>\n",
       "</table>\n",
       "</div>"
      ],
      "text/plain": [
       "                     Consommation  avg_temperature\n",
       "2013-01-01 23:00:00       60870.0         4.900278\n",
       "2013-01-02 00:00:00       59298.0         4.690972\n",
       "2013-01-02 01:00:00       56016.5         4.550000\n",
       "2013-01-02 02:00:00       55624.0         4.433750\n",
       "2013-01-02 03:00:00       53148.0         4.305000"
      ]
     },
     "execution_count": 13,
     "metadata": {},
     "output_type": "execute_result"
    }
   ],
   "source": [
    "### je combine les données pour avoir un seule df avec les deux variables qui m'interessent \n",
    "\n",
    "merged = conso_nat.merge(avg_temp_nat, how='inner', left_index=True, right_index=True)\n",
    "merged.head()"
   ]
  },
  {
   "cell_type": "code",
   "execution_count": 14,
   "metadata": {},
   "outputs": [
    {
     "name": "stderr",
     "output_type": "stream",
     "text": [
      "/tmp/ipykernel_23713/3629843883.py:3: FutureWarning: 'M' is deprecated and will be removed in a future version, please use 'ME' instead.\n",
      "  merged_D = merged.resample('M').mean()\n"
     ]
    },
    {
     "data": {
      "text/html": [
       "<div>\n",
       "<style scoped>\n",
       "    .dataframe tbody tr th:only-of-type {\n",
       "        vertical-align: middle;\n",
       "    }\n",
       "\n",
       "    .dataframe tbody tr th {\n",
       "        vertical-align: top;\n",
       "    }\n",
       "\n",
       "    .dataframe thead th {\n",
       "        text-align: right;\n",
       "    }\n",
       "</style>\n",
       "<table border=\"1\" class=\"dataframe\">\n",
       "  <thead>\n",
       "    <tr style=\"text-align: right;\">\n",
       "      <th></th>\n",
       "      <th>Consommation</th>\n",
       "      <th>avg_temperature</th>\n",
       "    </tr>\n",
       "  </thead>\n",
       "  <tbody>\n",
       "    <tr>\n",
       "      <th>2013-01-31</th>\n",
       "      <td>72187.815534</td>\n",
       "      <td>4.636841</td>\n",
       "    </tr>\n",
       "    <tr>\n",
       "      <th>2013-02-28</th>\n",
       "      <td>73417.031250</td>\n",
       "      <td>3.363267</td>\n",
       "    </tr>\n",
       "    <tr>\n",
       "      <th>2013-03-31</th>\n",
       "      <td>66201.098790</td>\n",
       "      <td>6.238766</td>\n",
       "    </tr>\n",
       "    <tr>\n",
       "      <th>2013-04-30</th>\n",
       "      <td>55752.412500</td>\n",
       "      <td>10.379239</td>\n",
       "    </tr>\n",
       "    <tr>\n",
       "      <th>2013-05-31</th>\n",
       "      <td>49286.609543</td>\n",
       "      <td>12.215580</td>\n",
       "    </tr>\n",
       "    <tr>\n",
       "      <th>...</th>\n",
       "      <td>...</td>\n",
       "      <td>...</td>\n",
       "    </tr>\n",
       "    <tr>\n",
       "      <th>2017-09-30</th>\n",
       "      <td>46425.696528</td>\n",
       "      <td>15.457746</td>\n",
       "    </tr>\n",
       "    <tr>\n",
       "      <th>2017-10-31</th>\n",
       "      <td>48875.329973</td>\n",
       "      <td>14.134665</td>\n",
       "    </tr>\n",
       "    <tr>\n",
       "      <th>2017-11-30</th>\n",
       "      <td>62084.813889</td>\n",
       "      <td>7.544006</td>\n",
       "    </tr>\n",
       "    <tr>\n",
       "      <th>2017-12-31</th>\n",
       "      <td>69141.551075</td>\n",
       "      <td>5.480193</td>\n",
       "    </tr>\n",
       "    <tr>\n",
       "      <th>2018-01-31</th>\n",
       "      <td>65395.875870</td>\n",
       "      <td>7.663802</td>\n",
       "    </tr>\n",
       "  </tbody>\n",
       "</table>\n",
       "<p>61 rows × 2 columns</p>\n",
       "</div>"
      ],
      "text/plain": [
       "            Consommation  avg_temperature\n",
       "2013-01-31  72187.815534         4.636841\n",
       "2013-02-28  73417.031250         3.363267\n",
       "2013-03-31  66201.098790         6.238766\n",
       "2013-04-30  55752.412500        10.379239\n",
       "2013-05-31  49286.609543        12.215580\n",
       "...                  ...              ...\n",
       "2017-09-30  46425.696528        15.457746\n",
       "2017-10-31  48875.329973        14.134665\n",
       "2017-11-30  62084.813889         7.544006\n",
       "2017-12-31  69141.551075         5.480193\n",
       "2018-01-31  65395.875870         7.663802\n",
       "\n",
       "[61 rows x 2 columns]"
      ]
     },
     "execution_count": 14,
     "metadata": {},
     "output_type": "execute_result"
    }
   ],
   "source": [
    "### je refais l'echantillonnage par la moyenne horraire\n",
    "\n",
    "merged_D = merged.resample('M').mean()\n",
    "merged_D"
   ]
  },
  {
   "cell_type": "code",
   "execution_count": 15,
   "metadata": {
    "scrolled": true
   },
   "outputs": [
    {
     "data": {
      "text/html": [
       "<div>\n",
       "<style scoped>\n",
       "    .dataframe tbody tr th:only-of-type {\n",
       "        vertical-align: middle;\n",
       "    }\n",
       "\n",
       "    .dataframe tbody tr th {\n",
       "        vertical-align: top;\n",
       "    }\n",
       "\n",
       "    .dataframe thead th {\n",
       "        text-align: right;\n",
       "    }\n",
       "</style>\n",
       "<table border=\"1\" class=\"dataframe\">\n",
       "  <thead>\n",
       "    <tr style=\"text-align: right;\">\n",
       "      <th></th>\n",
       "      <th>Consommation</th>\n",
       "      <th>avg_temperature</th>\n",
       "    </tr>\n",
       "  </thead>\n",
       "  <tbody>\n",
       "    <tr>\n",
       "      <th>2013-01-31</th>\n",
       "      <td>0.871876</td>\n",
       "      <td>0.109166</td>\n",
       "    </tr>\n",
       "    <tr>\n",
       "      <th>2013-02-28</th>\n",
       "      <td>0.906607</td>\n",
       "      <td>0.043390</td>\n",
       "    </tr>\n",
       "    <tr>\n",
       "      <th>2013-03-31</th>\n",
       "      <td>0.702724</td>\n",
       "      <td>0.191901</td>\n",
       "    </tr>\n",
       "    <tr>\n",
       "      <th>2013-04-30</th>\n",
       "      <td>0.407502</td>\n",
       "      <td>0.405744</td>\n",
       "    </tr>\n",
       "    <tr>\n",
       "      <th>2013-05-31</th>\n",
       "      <td>0.224814</td>\n",
       "      <td>0.500585</td>\n",
       "    </tr>\n",
       "    <tr>\n",
       "      <th>...</th>\n",
       "      <td>...</td>\n",
       "      <td>...</td>\n",
       "    </tr>\n",
       "    <tr>\n",
       "      <th>2017-09-30</th>\n",
       "      <td>0.143980</td>\n",
       "      <td>0.668033</td>\n",
       "    </tr>\n",
       "    <tr>\n",
       "      <th>2017-10-31</th>\n",
       "      <td>0.213193</td>\n",
       "      <td>0.599700</td>\n",
       "    </tr>\n",
       "    <tr>\n",
       "      <th>2017-11-30</th>\n",
       "      <td>0.586421</td>\n",
       "      <td>0.259312</td>\n",
       "    </tr>\n",
       "    <tr>\n",
       "      <th>2017-12-31</th>\n",
       "      <td>0.785805</td>\n",
       "      <td>0.152723</td>\n",
       "    </tr>\n",
       "    <tr>\n",
       "      <th>2018-01-31</th>\n",
       "      <td>0.679973</td>\n",
       "      <td>0.265499</td>\n",
       "    </tr>\n",
       "  </tbody>\n",
       "</table>\n",
       "<p>61 rows × 2 columns</p>\n",
       "</div>"
      ],
      "text/plain": [
       "            Consommation  avg_temperature\n",
       "2013-01-31      0.871876         0.109166\n",
       "2013-02-28      0.906607         0.043390\n",
       "2013-03-31      0.702724         0.191901\n",
       "2013-04-30      0.407502         0.405744\n",
       "2013-05-31      0.224814         0.500585\n",
       "...                  ...              ...\n",
       "2017-09-30      0.143980         0.668033\n",
       "2017-10-31      0.213193         0.599700\n",
       "2017-11-30      0.586421         0.259312\n",
       "2017-12-31      0.785805         0.152723\n",
       "2018-01-31      0.679973         0.265499\n",
       "\n",
       "[61 rows x 2 columns]"
      ]
     },
     "execution_count": 15,
     "metadata": {},
     "output_type": "execute_result"
    }
   ],
   "source": [
    "merged_D_Norm = merged_D.apply(lambda x: (x - x.min())/(x.max() - x.min())).copy()\n",
    "merged_D_Norm"
   ]
  },
  {
   "cell_type": "code",
   "execution_count": 16,
   "metadata": {},
   "outputs": [],
   "source": [
    "font = {\n",
    "    'family': \"Courier New\",\n",
    "    'size': {\n",
    "        'small': 12,\n",
    "        'medium': 16,\n",
    "        'big': 20\n",
    "        },\n",
    "    'color': {\n",
    "        'axes': 'rgb(180, 180, 180)',\n",
    "        'primary': 'lightcoral',\n",
    "        'secondary': 'lightsteelblue',\n",
    "        'highlight': 'sandybrown'\n",
    "    },\n",
    "    'line width': 2\n",
    "}"
   ]
  },
  {
   "cell_type": "code",
   "execution_count": 17,
   "metadata": {
    "scrolled": true
   },
   "outputs": [
    {
     "data": {
      "application/vnd.plotly.v1+json": {
       "config": {
        "plotlyServerURL": "https://plot.ly"
       },
       "data": [
        {
         "hovertemplate": "Consommation (unités)=%{x}<br>Température Moyenne (°C)=%{y}<extra></extra>",
         "legendgroup": "",
         "marker": {
          "color": "#636efa",
          "symbol": "circle"
         },
         "mode": "markers",
         "name": "",
         "orientation": "v",
         "showlegend": false,
         "type": "scatter",
         "x": [
          0.8718760392897845,
          0.9066069327996369,
          0.7027242630897867,
          0.40750170277124004,
          0.22481357811718225,
          0.12076180032653472,
          0.14446221955542812,
          0.024331428495475687,
          0.12851986218328798,
          0.23066241456474673,
          0.6002665988153231,
          0.7234990596069623,
          0.6948737044080272,
          0.6939346120653235,
          0.46231612966315805,
          0.24880967160139622,
          0.1418439488722405,
          0.10318343060063952,
          0.11171705989748261,
          0,
          0.1287772333424794,
          0.2031984756233605,
          0.41767436798403984,
          0.6988009870091896,
          0.8160381018206881,
          0.8670116781801012,
          0.5610066240507061,
          0.2717028528894895,
          0.11328497659223605,
          0.1292527529005342,
          0.14858020114252307,
          0.02264149331186403,
          0.13966738663777925,
          0.31026804761873117,
          0.43513618783682384,
          0.5200958906580664,
          0.7261869222231822,
          0.7068123074104556,
          0.619218234795397,
          0.3582337364855094,
          0.14390155352360193,
          0.11350831701135093,
          0.10366573845775548,
          0.04321562201231777,
          0.12862416843336508,
          0.287320767543006,
          0.5605420265335463,
          0.7456574348964142,
          1,
          0.6658167449502446,
          0.44735549705065014,
          0.26178834368351156,
          0.15487547031519552,
          0.13337190796142473,
          0.10935993460447005,
          0.04183261288751473,
          0.14397986929122253,
          0.21319307346648528,
          0.5864206308592593,
          0.7858053153805766,
          0.6799730802578903
         ],
         "xaxis": "x",
         "y": [
          0.1091659135052137,
          0.04338960100582687,
          0.19190058521025344,
          0.40574366193116557,
          0.5005852257819956,
          0.7419744413395337,
          1,
          0.9072227991435468,
          0.7523194872513411,
          0.6188532419307532,
          0.25469488312547656,
          0.17432851713744613,
          0.23557518612893122,
          0.24284704791588996,
          0.346675317216437,
          0.5136084569581539,
          0.6027573966861204,
          0.844703396345456,
          0.9054800206830582,
          0.8169193294262916,
          0.8020261292285624,
          0.6369064734349014,
          0.4089431172208635,
          0.17963027386539276,
          0.1399519806108392,
          0.0944553909782399,
          0.30647216785865866,
          0.5019215050552711,
          0.6451092175692698,
          0.861120494138628,
          0.9985043883275899,
          0.9311764483533685,
          0.6676666013205966,
          0.4814409451578859,
          0.41250487875942154,
          0.33533432811330505,
          0.1952692691477277,
          0.21473807279219412,
          0.2460966181383734,
          0.40070958649604016,
          0.6157459940451412,
          0.7858765717754576,
          0.9360189929773773,
          0.9474247529684136,
          0.8374442898733904,
          0.46961016357538177,
          0.2839353864817487,
          0.1289583902324711,
          0,
          0.25927176098487215,
          0.4053146831900363,
          0.43888669355689836,
          0.6939418584624906,
          0.9318614318274874,
          0.941999337843028,
          0.9308555152563655,
          0.668033460557295,
          0.5997002358446677,
          0.2593123201505248,
          0.15272254747580435,
          0.26549945827858634
         ],
         "yaxis": "y"
        }
       ],
       "layout": {
        "legend": {
         "tracegroupgap": 0
        },
        "template": {
         "data": {
          "bar": [
           {
            "error_x": {
             "color": "#2a3f5f"
            },
            "error_y": {
             "color": "#2a3f5f"
            },
            "marker": {
             "line": {
              "color": "#E5ECF6",
              "width": 0.5
             },
             "pattern": {
              "fillmode": "overlay",
              "size": 10,
              "solidity": 0.2
             }
            },
            "type": "bar"
           }
          ],
          "barpolar": [
           {
            "marker": {
             "line": {
              "color": "#E5ECF6",
              "width": 0.5
             },
             "pattern": {
              "fillmode": "overlay",
              "size": 10,
              "solidity": 0.2
             }
            },
            "type": "barpolar"
           }
          ],
          "carpet": [
           {
            "aaxis": {
             "endlinecolor": "#2a3f5f",
             "gridcolor": "white",
             "linecolor": "white",
             "minorgridcolor": "white",
             "startlinecolor": "#2a3f5f"
            },
            "baxis": {
             "endlinecolor": "#2a3f5f",
             "gridcolor": "white",
             "linecolor": "white",
             "minorgridcolor": "white",
             "startlinecolor": "#2a3f5f"
            },
            "type": "carpet"
           }
          ],
          "choropleth": [
           {
            "colorbar": {
             "outlinewidth": 0,
             "ticks": ""
            },
            "type": "choropleth"
           }
          ],
          "contour": [
           {
            "colorbar": {
             "outlinewidth": 0,
             "ticks": ""
            },
            "colorscale": [
             [
              0,
              "#0d0887"
             ],
             [
              0.1111111111111111,
              "#46039f"
             ],
             [
              0.2222222222222222,
              "#7201a8"
             ],
             [
              0.3333333333333333,
              "#9c179e"
             ],
             [
              0.4444444444444444,
              "#bd3786"
             ],
             [
              0.5555555555555556,
              "#d8576b"
             ],
             [
              0.6666666666666666,
              "#ed7953"
             ],
             [
              0.7777777777777778,
              "#fb9f3a"
             ],
             [
              0.8888888888888888,
              "#fdca26"
             ],
             [
              1,
              "#f0f921"
             ]
            ],
            "type": "contour"
           }
          ],
          "contourcarpet": [
           {
            "colorbar": {
             "outlinewidth": 0,
             "ticks": ""
            },
            "type": "contourcarpet"
           }
          ],
          "heatmap": [
           {
            "colorbar": {
             "outlinewidth": 0,
             "ticks": ""
            },
            "colorscale": [
             [
              0,
              "#0d0887"
             ],
             [
              0.1111111111111111,
              "#46039f"
             ],
             [
              0.2222222222222222,
              "#7201a8"
             ],
             [
              0.3333333333333333,
              "#9c179e"
             ],
             [
              0.4444444444444444,
              "#bd3786"
             ],
             [
              0.5555555555555556,
              "#d8576b"
             ],
             [
              0.6666666666666666,
              "#ed7953"
             ],
             [
              0.7777777777777778,
              "#fb9f3a"
             ],
             [
              0.8888888888888888,
              "#fdca26"
             ],
             [
              1,
              "#f0f921"
             ]
            ],
            "type": "heatmap"
           }
          ],
          "heatmapgl": [
           {
            "colorbar": {
             "outlinewidth": 0,
             "ticks": ""
            },
            "colorscale": [
             [
              0,
              "#0d0887"
             ],
             [
              0.1111111111111111,
              "#46039f"
             ],
             [
              0.2222222222222222,
              "#7201a8"
             ],
             [
              0.3333333333333333,
              "#9c179e"
             ],
             [
              0.4444444444444444,
              "#bd3786"
             ],
             [
              0.5555555555555556,
              "#d8576b"
             ],
             [
              0.6666666666666666,
              "#ed7953"
             ],
             [
              0.7777777777777778,
              "#fb9f3a"
             ],
             [
              0.8888888888888888,
              "#fdca26"
             ],
             [
              1,
              "#f0f921"
             ]
            ],
            "type": "heatmapgl"
           }
          ],
          "histogram": [
           {
            "marker": {
             "pattern": {
              "fillmode": "overlay",
              "size": 10,
              "solidity": 0.2
             }
            },
            "type": "histogram"
           }
          ],
          "histogram2d": [
           {
            "colorbar": {
             "outlinewidth": 0,
             "ticks": ""
            },
            "colorscale": [
             [
              0,
              "#0d0887"
             ],
             [
              0.1111111111111111,
              "#46039f"
             ],
             [
              0.2222222222222222,
              "#7201a8"
             ],
             [
              0.3333333333333333,
              "#9c179e"
             ],
             [
              0.4444444444444444,
              "#bd3786"
             ],
             [
              0.5555555555555556,
              "#d8576b"
             ],
             [
              0.6666666666666666,
              "#ed7953"
             ],
             [
              0.7777777777777778,
              "#fb9f3a"
             ],
             [
              0.8888888888888888,
              "#fdca26"
             ],
             [
              1,
              "#f0f921"
             ]
            ],
            "type": "histogram2d"
           }
          ],
          "histogram2dcontour": [
           {
            "colorbar": {
             "outlinewidth": 0,
             "ticks": ""
            },
            "colorscale": [
             [
              0,
              "#0d0887"
             ],
             [
              0.1111111111111111,
              "#46039f"
             ],
             [
              0.2222222222222222,
              "#7201a8"
             ],
             [
              0.3333333333333333,
              "#9c179e"
             ],
             [
              0.4444444444444444,
              "#bd3786"
             ],
             [
              0.5555555555555556,
              "#d8576b"
             ],
             [
              0.6666666666666666,
              "#ed7953"
             ],
             [
              0.7777777777777778,
              "#fb9f3a"
             ],
             [
              0.8888888888888888,
              "#fdca26"
             ],
             [
              1,
              "#f0f921"
             ]
            ],
            "type": "histogram2dcontour"
           }
          ],
          "mesh3d": [
           {
            "colorbar": {
             "outlinewidth": 0,
             "ticks": ""
            },
            "type": "mesh3d"
           }
          ],
          "parcoords": [
           {
            "line": {
             "colorbar": {
              "outlinewidth": 0,
              "ticks": ""
             }
            },
            "type": "parcoords"
           }
          ],
          "pie": [
           {
            "automargin": true,
            "type": "pie"
           }
          ],
          "scatter": [
           {
            "fillpattern": {
             "fillmode": "overlay",
             "size": 10,
             "solidity": 0.2
            },
            "type": "scatter"
           }
          ],
          "scatter3d": [
           {
            "line": {
             "colorbar": {
              "outlinewidth": 0,
              "ticks": ""
             }
            },
            "marker": {
             "colorbar": {
              "outlinewidth": 0,
              "ticks": ""
             }
            },
            "type": "scatter3d"
           }
          ],
          "scattercarpet": [
           {
            "marker": {
             "colorbar": {
              "outlinewidth": 0,
              "ticks": ""
             }
            },
            "type": "scattercarpet"
           }
          ],
          "scattergeo": [
           {
            "marker": {
             "colorbar": {
              "outlinewidth": 0,
              "ticks": ""
             }
            },
            "type": "scattergeo"
           }
          ],
          "scattergl": [
           {
            "marker": {
             "colorbar": {
              "outlinewidth": 0,
              "ticks": ""
             }
            },
            "type": "scattergl"
           }
          ],
          "scattermapbox": [
           {
            "marker": {
             "colorbar": {
              "outlinewidth": 0,
              "ticks": ""
             }
            },
            "type": "scattermapbox"
           }
          ],
          "scatterpolar": [
           {
            "marker": {
             "colorbar": {
              "outlinewidth": 0,
              "ticks": ""
             }
            },
            "type": "scatterpolar"
           }
          ],
          "scatterpolargl": [
           {
            "marker": {
             "colorbar": {
              "outlinewidth": 0,
              "ticks": ""
             }
            },
            "type": "scatterpolargl"
           }
          ],
          "scatterternary": [
           {
            "marker": {
             "colorbar": {
              "outlinewidth": 0,
              "ticks": ""
             }
            },
            "type": "scatterternary"
           }
          ],
          "surface": [
           {
            "colorbar": {
             "outlinewidth": 0,
             "ticks": ""
            },
            "colorscale": [
             [
              0,
              "#0d0887"
             ],
             [
              0.1111111111111111,
              "#46039f"
             ],
             [
              0.2222222222222222,
              "#7201a8"
             ],
             [
              0.3333333333333333,
              "#9c179e"
             ],
             [
              0.4444444444444444,
              "#bd3786"
             ],
             [
              0.5555555555555556,
              "#d8576b"
             ],
             [
              0.6666666666666666,
              "#ed7953"
             ],
             [
              0.7777777777777778,
              "#fb9f3a"
             ],
             [
              0.8888888888888888,
              "#fdca26"
             ],
             [
              1,
              "#f0f921"
             ]
            ],
            "type": "surface"
           }
          ],
          "table": [
           {
            "cells": {
             "fill": {
              "color": "#EBF0F8"
             },
             "line": {
              "color": "white"
             }
            },
            "header": {
             "fill": {
              "color": "#C8D4E3"
             },
             "line": {
              "color": "white"
             }
            },
            "type": "table"
           }
          ]
         },
         "layout": {
          "annotationdefaults": {
           "arrowcolor": "#2a3f5f",
           "arrowhead": 0,
           "arrowwidth": 1
          },
          "autotypenumbers": "strict",
          "coloraxis": {
           "colorbar": {
            "outlinewidth": 0,
            "ticks": ""
           }
          },
          "colorscale": {
           "diverging": [
            [
             0,
             "#8e0152"
            ],
            [
             0.1,
             "#c51b7d"
            ],
            [
             0.2,
             "#de77ae"
            ],
            [
             0.3,
             "#f1b6da"
            ],
            [
             0.4,
             "#fde0ef"
            ],
            [
             0.5,
             "#f7f7f7"
            ],
            [
             0.6,
             "#e6f5d0"
            ],
            [
             0.7,
             "#b8e186"
            ],
            [
             0.8,
             "#7fbc41"
            ],
            [
             0.9,
             "#4d9221"
            ],
            [
             1,
             "#276419"
            ]
           ],
           "sequential": [
            [
             0,
             "#0d0887"
            ],
            [
             0.1111111111111111,
             "#46039f"
            ],
            [
             0.2222222222222222,
             "#7201a8"
            ],
            [
             0.3333333333333333,
             "#9c179e"
            ],
            [
             0.4444444444444444,
             "#bd3786"
            ],
            [
             0.5555555555555556,
             "#d8576b"
            ],
            [
             0.6666666666666666,
             "#ed7953"
            ],
            [
             0.7777777777777778,
             "#fb9f3a"
            ],
            [
             0.8888888888888888,
             "#fdca26"
            ],
            [
             1,
             "#f0f921"
            ]
           ],
           "sequentialminus": [
            [
             0,
             "#0d0887"
            ],
            [
             0.1111111111111111,
             "#46039f"
            ],
            [
             0.2222222222222222,
             "#7201a8"
            ],
            [
             0.3333333333333333,
             "#9c179e"
            ],
            [
             0.4444444444444444,
             "#bd3786"
            ],
            [
             0.5555555555555556,
             "#d8576b"
            ],
            [
             0.6666666666666666,
             "#ed7953"
            ],
            [
             0.7777777777777778,
             "#fb9f3a"
            ],
            [
             0.8888888888888888,
             "#fdca26"
            ],
            [
             1,
             "#f0f921"
            ]
           ]
          },
          "colorway": [
           "#636efa",
           "#EF553B",
           "#00cc96",
           "#ab63fa",
           "#FFA15A",
           "#19d3f3",
           "#FF6692",
           "#B6E880",
           "#FF97FF",
           "#FECB52"
          ],
          "font": {
           "color": "#2a3f5f"
          },
          "geo": {
           "bgcolor": "white",
           "lakecolor": "white",
           "landcolor": "#E5ECF6",
           "showlakes": true,
           "showland": true,
           "subunitcolor": "white"
          },
          "hoverlabel": {
           "align": "left"
          },
          "hovermode": "closest",
          "mapbox": {
           "style": "light"
          },
          "paper_bgcolor": "white",
          "plot_bgcolor": "#E5ECF6",
          "polar": {
           "angularaxis": {
            "gridcolor": "white",
            "linecolor": "white",
            "ticks": ""
           },
           "bgcolor": "#E5ECF6",
           "radialaxis": {
            "gridcolor": "white",
            "linecolor": "white",
            "ticks": ""
           }
          },
          "scene": {
           "xaxis": {
            "backgroundcolor": "#E5ECF6",
            "gridcolor": "white",
            "gridwidth": 2,
            "linecolor": "white",
            "showbackground": true,
            "ticks": "",
            "zerolinecolor": "white"
           },
           "yaxis": {
            "backgroundcolor": "#E5ECF6",
            "gridcolor": "white",
            "gridwidth": 2,
            "linecolor": "white",
            "showbackground": true,
            "ticks": "",
            "zerolinecolor": "white"
           },
           "zaxis": {
            "backgroundcolor": "#E5ECF6",
            "gridcolor": "white",
            "gridwidth": 2,
            "linecolor": "white",
            "showbackground": true,
            "ticks": "",
            "zerolinecolor": "white"
           }
          },
          "shapedefaults": {
           "line": {
            "color": "#2a3f5f"
           }
          },
          "ternary": {
           "aaxis": {
            "gridcolor": "white",
            "linecolor": "white",
            "ticks": ""
           },
           "baxis": {
            "gridcolor": "white",
            "linecolor": "white",
            "ticks": ""
           },
           "bgcolor": "#E5ECF6",
           "caxis": {
            "gridcolor": "white",
            "linecolor": "white",
            "ticks": ""
           }
          },
          "title": {
           "x": 0.05
          },
          "xaxis": {
           "automargin": true,
           "gridcolor": "white",
           "linecolor": "white",
           "ticks": "",
           "title": {
            "standoff": 15
           },
           "zerolinecolor": "white",
           "zerolinewidth": 2
          },
          "yaxis": {
           "automargin": true,
           "gridcolor": "white",
           "linecolor": "white",
           "ticks": "",
           "title": {
            "standoff": 15
           },
           "zerolinecolor": "white",
           "zerolinewidth": 2
          }
         }
        },
        "title": {
         "text": "Scatter Plot of Consommation vs. Avg Temperature"
        },
        "xaxis": {
         "anchor": "y",
         "domain": [
          0,
          1
         ],
         "title": {
          "text": "Consommation (unités)"
         }
        },
        "yaxis": {
         "anchor": "x",
         "domain": [
          0,
          1
         ],
         "title": {
          "text": "Température Moyenne (°C)"
         }
        }
       }
      }
     },
     "metadata": {},
     "output_type": "display_data"
    }
   ],
   "source": [
    "# Créer un scatter plot interactif avec Plotly\n",
    "fig = px.scatter(merged_D_Norm, x='Consommation', y='avg_temperature', \n",
    "                 title='Scatter Plot of Consommation vs. Avg Temperature',\n",
    "                 labels={'Consommation': 'Consommation (unités)', 'avg_temperature': 'Température Moyenne (°C)'})\n",
    "\n",
    "# Afficher le graphique\n",
    "fig.show()"
   ]
  },
  {
   "cell_type": "code",
   "execution_count": 18,
   "metadata": {},
   "outputs": [
    {
     "data": {
      "text/plain": [
       "<Axes: >"
      ]
     },
     "execution_count": 18,
     "metadata": {},
     "output_type": "execute_result"
    },
    {
     "data": {
      "image/png": "[encoded data removed]",
      "text/plain": [
       "<Figure size 600x400 with 1 Axes>"
      ]
     },
     "metadata": {},
     "output_type": "display_data"
    }
   ],
   "source": [
    "merged_D_Norm.plot(figsize=(6,4))"
   ]
  },
  {
   "cell_type": "markdown",
   "metadata": {},
   "source": [
    "### ensuite, voir l'evolution de ce lien dans le temps  "
   ]
  },
  {
   "cell_type": "code",
   "execution_count": 19,
   "metadata": {},
   "outputs": [
    {
     "data": {
      "application/vnd.plotly.v1+json": {
       "config": {
        "plotlyServerURL": "https://plot.ly"
       },
       "data": [
        {
         "line": {
          "color": "blue"
         },
         "mode": "lines",
         "name": "Consommation (kWh)",
         "type": "scatter",
         "x": [
          1,
          2,
          3,
          4,
          5,
          6,
          7,
          8,
          9,
          10,
          11,
          12,
          1,
          2,
          3,
          4,
          5,
          6,
          7,
          8,
          9,
          10,
          11,
          12,
          1,
          2,
          3,
          4,
          5,
          6,
          7,
          8,
          9,
          10,
          11,
          12,
          1,
          2,
          3,
          4,
          5,
          6,
          7,
          8,
          9,
          10,
          11,
          12,
          1,
          2,
          3,
          4,
          5,
          6,
          7,
          8,
          9,
          10,
          11,
          12,
          1
         ],
         "y": [
          0.8718760392897845,
          0.9066069327996369,
          0.7027242630897867,
          0.40750170277124004,
          0.22481357811718225,
          0.12076180032653472,
          0.14446221955542812,
          0.024331428495475687,
          0.12851986218328798,
          0.23066241456474673,
          0.6002665988153231,
          0.7234990596069623,
          0.6948737044080272,
          0.6939346120653235,
          0.46231612966315805,
          0.24880967160139622,
          0.1418439488722405,
          0.10318343060063952,
          0.11171705989748261,
          0,
          0.1287772333424794,
          0.2031984756233605,
          0.41767436798403984,
          0.6988009870091896,
          0.8160381018206881,
          0.8670116781801012,
          0.5610066240507061,
          0.2717028528894895,
          0.11328497659223605,
          0.1292527529005342,
          0.14858020114252307,
          0.02264149331186403,
          0.13966738663777925,
          0.31026804761873117,
          0.43513618783682384,
          0.5200958906580664,
          0.7261869222231822,
          0.7068123074104556,
          0.619218234795397,
          0.3582337364855094,
          0.14390155352360193,
          0.11350831701135093,
          0.10366573845775548,
          0.04321562201231777,
          0.12862416843336508,
          0.287320767543006,
          0.5605420265335463,
          0.7456574348964142,
          1,
          0.6658167449502446,
          0.44735549705065014,
          0.26178834368351156,
          0.15487547031519552,
          0.13337190796142473,
          0.10935993460447005,
          0.04183261288751473,
          0.14397986929122253,
          0.21319307346648528,
          0.5864206308592593,
          0.7858053153805766,
          0.6799730802578903
         ]
        },
        {
         "line": {
          "color": "red"
         },
         "mode": "lines",
         "name": "Température Moyenne (°C)",
         "type": "scatter",
         "x": [
          1,
          2,
          3,
          4,
          5,
          6,
          7,
          8,
          9,
          10,
          11,
          12,
          1,
          2,
          3,
          4,
          5,
          6,
          7,
          8,
          9,
          10,
          11,
          12,
          1,
          2,
          3,
          4,
          5,
          6,
          7,
          8,
          9,
          10,
          11,
          12,
          1,
          2,
          3,
          4,
          5,
          6,
          7,
          8,
          9,
          10,
          11,
          12,
          1,
          2,
          3,
          4,
          5,
          6,
          7,
          8,
          9,
          10,
          11,
          12,
          1
         ],
         "y": [
          0.1091659135052137,
          0.04338960100582687,
          0.19190058521025344,
          0.40574366193116557,
          0.5005852257819956,
          0.7419744413395337,
          1,
          0.9072227991435468,
          0.7523194872513411,
          0.6188532419307532,
          0.25469488312547656,
          0.17432851713744613,
          0.23557518612893122,
          0.24284704791588996,
          0.346675317216437,
          0.5136084569581539,
          0.6027573966861204,
          0.844703396345456,
          0.9054800206830582,
          0.8169193294262916,
          0.8020261292285624,
          0.6369064734349014,
          0.4089431172208635,
          0.17963027386539276,
          0.1399519806108392,
          0.0944553909782399,
          0.30647216785865866,
          0.5019215050552711,
          0.6451092175692698,
          0.861120494138628,
          0.9985043883275899,
          0.9311764483533685,
          0.6676666013205966,
          0.4814409451578859,
          0.41250487875942154,
          0.33533432811330505,
          0.1952692691477277,
          0.21473807279219412,
          0.2460966181383734,
          0.40070958649604016,
          0.6157459940451412,
          0.7858765717754576,
          0.9360189929773773,
          0.9474247529684136,
          0.8374442898733904,
          0.46961016357538177,
          0.2839353864817487,
          0.1289583902324711,
          0,
          0.25927176098487215,
          0.4053146831900363,
          0.43888669355689836,
          0.6939418584624906,
          0.9318614318274874,
          0.941999337843028,
          0.9308555152563655,
          0.668033460557295,
          0.5997002358446677,
          0.2593123201505248,
          0.15272254747580435,
          0.26549945827858634
         ]
        }
       ],
       "layout": {
        "hovermode": "x unified",
        "legend": {
         "title": {
          "text": "Légende"
         }
        },
        "template": {
         "data": {
          "bar": [
           {
            "error_x": {
             "color": "#2a3f5f"
            },
            "error_y": {
             "color": "#2a3f5f"
            },
            "marker": {
             "line": {
              "color": "#E5ECF6",
              "width": 0.5
             },
             "pattern": {
              "fillmode": "overlay",
              "size": 10,
              "solidity": 0.2
             }
            },
            "type": "bar"
           }
          ],
          "barpolar": [
           {
            "marker": {
             "line": {
              "color": "#E5ECF6",
              "width": 0.5
             },
             "pattern": {
              "fillmode": "overlay",
              "size": 10,
              "solidity": 0.2
             }
            },
            "type": "barpolar"
           }
          ],
          "carpet": [
           {
            "aaxis": {
             "endlinecolor": "#2a3f5f",
             "gridcolor": "white",
             "linecolor": "white",
             "minorgridcolor": "white",
             "startlinecolor": "#2a3f5f"
            },
            "baxis": {
             "endlinecolor": "#2a3f5f",
             "gridcolor": "white",
             "linecolor": "white",
             "minorgridcolor": "white",
             "startlinecolor": "#2a3f5f"
            },
            "type": "carpet"
           }
          ],
          "choropleth": [
           {
            "colorbar": {
             "outlinewidth": 0,
             "ticks": ""
            },
            "type": "choropleth"
           }
          ],
          "contour": [
           {
            "colorbar": {
             "outlinewidth": 0,
             "ticks": ""
            },
            "colorscale": [
             [
              0,
              "#0d0887"
             ],
             [
              0.1111111111111111,
              "#46039f"
             ],
             [
              0.2222222222222222,
              "#7201a8"
             ],
             [
              0.3333333333333333,
              "#9c179e"
             ],
             [
              0.4444444444444444,
              "#bd3786"
             ],
             [
              0.5555555555555556,
              "#d8576b"
             ],
             [
              0.6666666666666666,
              "#ed7953"
             ],
             [
              0.7777777777777778,
              "#fb9f3a"
             ],
             [
              0.8888888888888888,
              "#fdca26"
             ],
             [
              1,
              "#f0f921"
             ]
            ],
            "type": "contour"
           }
          ],
          "contourcarpet": [
           {
            "colorbar": {
             "outlinewidth": 0,
             "ticks": ""
            },
            "type": "contourcarpet"
           }
          ],
          "heatmap": [
           {
            "colorbar": {
             "outlinewidth": 0,
             "ticks": ""
            },
            "colorscale": [
             [
              0,
              "#0d0887"
             ],
             [
              0.1111111111111111,
              "#46039f"
             ],
             [
              0.2222222222222222,
              "#7201a8"
             ],
             [
              0.3333333333333333,
              "#9c179e"
             ],
             [
              0.4444444444444444,
              "#bd3786"
             ],
             [
              0.5555555555555556,
              "#d8576b"
             ],
             [
              0.6666666666666666,
              "#ed7953"
             ],
             [
              0.7777777777777778,
              "#fb9f3a"
             ],
             [
              0.8888888888888888,
              "#fdca26"
             ],
             [
              1,
              "#f0f921"
             ]
            ],
            "type": "heatmap"
           }
          ],
          "heatmapgl": [
           {
            "colorbar": {
             "outlinewidth": 0,
             "ticks": ""
            },
            "colorscale": [
             [
              0,
              "#0d0887"
             ],
             [
              0.1111111111111111,
              "#46039f"
             ],
             [
              0.2222222222222222,
              "#7201a8"
             ],
             [
              0.3333333333333333,
              "#9c179e"
             ],
             [
              0.4444444444444444,
              "#bd3786"
             ],
             [
              0.5555555555555556,
              "#d8576b"
             ],
             [
              0.6666666666666666,
              "#ed7953"
             ],
             [
              0.7777777777777778,
              "#fb9f3a"
             ],
             [
              0.8888888888888888,
              "#fdca26"
             ],
             [
              1,
              "#f0f921"
             ]
            ],
            "type": "heatmapgl"
           }
          ],
          "histogram": [
           {
            "marker": {
             "pattern": {
              "fillmode": "overlay",
              "size": 10,
              "solidity": 0.2
             }
            },
            "type": "histogram"
           }
          ],
          "histogram2d": [
           {
            "colorbar": {
             "outlinewidth": 0,
             "ticks": ""
            },
            "colorscale": [
             [
              0,
              "#0d0887"
             ],
             [
              0.1111111111111111,
              "#46039f"
             ],
             [
              0.2222222222222222,
              "#7201a8"
             ],
             [
              0.3333333333333333,
              "#9c179e"
             ],
             [
              0.4444444444444444,
              "#bd3786"
             ],
             [
              0.5555555555555556,
              "#d8576b"
             ],
             [
              0.6666666666666666,
              "#ed7953"
             ],
             [
              0.7777777777777778,
              "#fb9f3a"
             ],
             [
              0.8888888888888888,
              "#fdca26"
             ],
             [
              1,
              "#f0f921"
             ]
            ],
            "type": "histogram2d"
           }
          ],
          "histogram2dcontour": [
           {
            "colorbar": {
             "outlinewidth": 0,
             "ticks": ""
            },
            "colorscale": [
             [
              0,
              "#0d0887"
             ],
             [
              0.1111111111111111,
              "#46039f"
             ],
             [
              0.2222222222222222,
              "#7201a8"
             ],
             [
              0.3333333333333333,
              "#9c179e"
             ],
             [
              0.4444444444444444,
              "#bd3786"
             ],
             [
              0.5555555555555556,
              "#d8576b"
             ],
             [
              0.6666666666666666,
              "#ed7953"
             ],
             [
              0.7777777777777778,
              "#fb9f3a"
             ],
             [
              0.8888888888888888,
              "#fdca26"
             ],
             [
              1,
              "#f0f921"
             ]
            ],
            "type": "histogram2dcontour"
           }
          ],
          "mesh3d": [
           {
            "colorbar": {
             "outlinewidth": 0,
             "ticks": ""
            },
            "type": "mesh3d"
           }
          ],
          "parcoords": [
           {
            "line": {
             "colorbar": {
              "outlinewidth": 0,
              "ticks": ""
             }
            },
            "type": "parcoords"
           }
          ],
          "pie": [
           {
            "automargin": true,
            "type": "pie"
           }
          ],
          "scatter": [
           {
            "fillpattern": {
             "fillmode": "overlay",
             "size": 10,
             "solidity": 0.2
            },
            "type": "scatter"
           }
          ],
          "scatter3d": [
           {
            "line": {
             "colorbar": {
              "outlinewidth": 0,
              "ticks": ""
             }
            },
            "marker": {
             "colorbar": {
              "outlinewidth": 0,
              "ticks": ""
             }
            },
            "type": "scatter3d"
           }
          ],
          "scattercarpet": [
           {
            "marker": {
             "colorbar": {
              "outlinewidth": 0,
              "ticks": ""
             }
            },
            "type": "scattercarpet"
           }
          ],
          "scattergeo": [
           {
            "marker": {
             "colorbar": {
              "outlinewidth": 0,
              "ticks": ""
             }
            },
            "type": "scattergeo"
           }
          ],
          "scattergl": [
           {
            "marker": {
             "colorbar": {
              "outlinewidth": 0,
              "ticks": ""
             }
            },
            "type": "scattergl"
           }
          ],
          "scattermapbox": [
           {
            "marker": {
             "colorbar": {
              "outlinewidth": 0,
              "ticks": ""
             }
            },
            "type": "scattermapbox"
           }
          ],
          "scatterpolar": [
           {
            "marker": {
             "colorbar": {
              "outlinewidth": 0,
              "ticks": ""
             }
            },
            "type": "scatterpolar"
           }
          ],
          "scatterpolargl": [
           {
            "marker": {
             "colorbar": {
              "outlinewidth": 0,
              "ticks": ""
             }
            },
            "type": "scatterpolargl"
           }
          ],
          "scatterternary": [
           {
            "marker": {
             "colorbar": {
              "outlinewidth": 0,
              "ticks": ""
             }
            },
            "type": "scatterternary"
           }
          ],
          "surface": [
           {
            "colorbar": {
             "outlinewidth": 0,
             "ticks": ""
            },
            "colorscale": [
             [
              0,
              "#0d0887"
             ],
             [
              0.1111111111111111,
              "#46039f"
             ],
             [
              0.2222222222222222,
              "#7201a8"
             ],
             [
              0.3333333333333333,
              "#9c179e"
             ],
             [
              0.4444444444444444,
              "#bd3786"
             ],
             [
              0.5555555555555556,
              "#d8576b"
             ],
             [
              0.6666666666666666,
              "#ed7953"
             ],
             [
              0.7777777777777778,
              "#fb9f3a"
             ],
             [
              0.8888888888888888,
              "#fdca26"
             ],
             [
              1,
              "#f0f921"
             ]
            ],
            "type": "surface"
           }
          ],
          "table": [
           {
            "cells": {
             "fill": {
              "color": "#EBF0F8"
             },
             "line": {
              "color": "white"
             }
            },
            "header": {
             "fill": {
              "color": "#C8D4E3"
             },
             "line": {
              "color": "white"
             }
            },
            "type": "table"
           }
          ]
         },
         "layout": {
          "annotationdefaults": {
           "arrowcolor": "#2a3f5f",
           "arrowhead": 0,
           "arrowwidth": 1
          },
          "autotypenumbers": "strict",
          "coloraxis": {
           "colorbar": {
            "outlinewidth": 0,
            "ticks": ""
           }
          },
          "colorscale": {
           "diverging": [
            [
             0,
             "#8e0152"
            ],
            [
             0.1,
             "#c51b7d"
            ],
            [
             0.2,
             "#de77ae"
            ],
            [
             0.3,
             "#f1b6da"
            ],
            [
             0.4,
             "#fde0ef"
            ],
            [
             0.5,
             "#f7f7f7"
            ],
            [
             0.6,
             "#e6f5d0"
            ],
            [
             0.7,
             "#b8e186"
            ],
            [
             0.8,
             "#7fbc41"
            ],
            [
             0.9,
             "#4d9221"
            ],
            [
             1,
             "#276419"
            ]
           ],
           "sequential": [
            [
             0,
             "#0d0887"
            ],
            [
             0.1111111111111111,
             "#46039f"
            ],
            [
             0.2222222222222222,
             "#7201a8"
            ],
            [
             0.3333333333333333,
             "#9c179e"
            ],
            [
             0.4444444444444444,
             "#bd3786"
            ],
            [
             0.5555555555555556,
             "#d8576b"
            ],
            [
             0.6666666666666666,
             "#ed7953"
            ],
            [
             0.7777777777777778,
             "#fb9f3a"
            ],
            [
             0.8888888888888888,
             "#fdca26"
            ],
            [
             1,
             "#f0f921"
            ]
           ],
           "sequentialminus": [
            [
             0,
             "#0d0887"
            ],
            [
             0.1111111111111111,
             "#46039f"
            ],
            [
             0.2222222222222222,
             "#7201a8"
            ],
            [
             0.3333333333333333,
             "#9c179e"
            ],
            [
             0.4444444444444444,
             "#bd3786"
            ],
            [
             0.5555555555555556,
             "#d8576b"
            ],
            [
             0.6666666666666666,
             "#ed7953"
            ],
            [
             0.7777777777777778,
             "#fb9f3a"
            ],
            [
             0.8888888888888888,
             "#fdca26"
            ],
            [
             1,
             "#f0f921"
            ]
           ]
          },
          "colorway": [
           "#636efa",
           "#EF553B",
           "#00cc96",
           "#ab63fa",
           "#FFA15A",
           "#19d3f3",
           "#FF6692",
           "#B6E880",
           "#FF97FF",
           "#FECB52"
          ],
          "font": {
           "color": "#2a3f5f"
          },
          "geo": {
           "bgcolor": "white",
           "lakecolor": "white",
           "landcolor": "#E5ECF6",
           "showlakes": true,
           "showland": true,
           "subunitcolor": "white"
          },
          "hoverlabel": {
           "align": "left"
          },
          "hovermode": "closest",
          "mapbox": {
           "style": "light"
          },
          "paper_bgcolor": "white",
          "plot_bgcolor": "#E5ECF6",
          "polar": {
           "angularaxis": {
            "gridcolor": "white",
            "linecolor": "white",
            "ticks": ""
           },
           "bgcolor": "#E5ECF6",
           "radialaxis": {
            "gridcolor": "white",
            "linecolor": "white",
            "ticks": ""
           }
          },
          "scene": {
           "xaxis": {
            "backgroundcolor": "#E5ECF6",
            "gridcolor": "white",
            "gridwidth": 2,
            "linecolor": "white",
            "showbackground": true,
            "ticks": "",
            "zerolinecolor": "white"
           },
           "yaxis": {
            "backgroundcolor": "#E5ECF6",
            "gridcolor": "white",
            "gridwidth": 2,
            "linecolor": "white",
            "showbackground": true,
            "ticks": "",
            "zerolinecolor": "white"
           },
           "zaxis": {
            "backgroundcolor": "#E5ECF6",
            "gridcolor": "white",
            "gridwidth": 2,
            "linecolor": "white",
            "showbackground": true,
            "ticks": "",
            "zerolinecolor": "white"
           }
          },
          "shapedefaults": {
           "line": {
            "color": "#2a3f5f"
           }
          },
          "ternary": {
           "aaxis": {
            "gridcolor": "white",
            "linecolor": "white",
            "ticks": ""
           },
           "baxis": {
            "gridcolor": "white",
            "linecolor": "white",
            "ticks": ""
           },
           "bgcolor": "#E5ECF6",
           "caxis": {
            "gridcolor": "white",
            "linecolor": "white",
            "ticks": ""
           }
          },
          "title": {
           "x": 0.05
          },
          "xaxis": {
           "automargin": true,
           "gridcolor": "white",
           "linecolor": "white",
           "ticks": "",
           "title": {
            "standoff": 15
           },
           "zerolinecolor": "white",
           "zerolinewidth": 2
          },
          "yaxis": {
           "automargin": true,
           "gridcolor": "white",
           "linecolor": "white",
           "ticks": "",
           "title": {
            "standoff": 15
           },
           "zerolinecolor": "white",
           "zerolinewidth": 2
          }
         }
        },
        "title": {
         "text": "Évolution de la Consommation et de la Température Moyenne en 2018"
        },
        "xaxis": {
         "title": {
          "text": "Date"
         }
        },
        "yaxis": {
         "title": {
          "text": "Valeurs"
         }
        }
       }
      }
     },
     "metadata": {},
     "output_type": "display_data"
    }
   ],
   "source": [
    "import pandas as pd\n",
    "import plotly.graph_objects as go\n",
    "\n",
    "\n",
    "# Créer un graphique en ligne pour visualiser l'évolution des deux variables\n",
    "fig = go.Figure()\n",
    "\n",
    "# Ajouter la consommation\n",
    "fig.add_trace(go.Scatter(x=merged_D_Norm.index.month, y=merged_D_Norm['Consommation'], mode='lines', name='Consommation (kWh)', line=dict(color='blue')))\n",
    "\n",
    "# Ajouter la température moyenne\n",
    "fig.add_trace(go.Scatter(x=merged_D_Norm.index.month, y=merged_D_Norm['avg_temperature'], mode='lines', name='Température Moyenne (°C)', line=dict(color='red')))\n",
    "\n",
    "# Mettre à jour les mises en page pour améliorer la lisibilité\n",
    "fig.update_layout(\n",
    "    title='Évolution de la Consommation et de la Température Moyenne en 2018',\n",
    "    xaxis_title='Date',\n",
    "    yaxis_title='Valeurs',\n",
    "    legend_title='Légende',\n",
    "    hovermode='x unified'\n",
    ")\n",
    "\n",
    "# Afficher le graphique\n",
    "fig.show()\n"
   ]
  },
  {
   "cell_type": "code",
   "execution_count": null,
   "metadata": {},
   "outputs": [],
   "source": []
  }
 ],
 "metadata": {
  "kernelspec": {
   "display_name": "Python 3 (ipykernel)",
   "language": "python",
   "name": "python3"
  },
  "language_info": {
   "codemirror_mode": {
    "name": "ipython",
    "version": 3
   },
   "file_extension": ".py",
   "mimetype": "text/x-python",
   "name": "python",
   "nbconvert_exporter": "python",
   "pygments_lexer": "ipython3",
   "version": "3.11.9"
  }
 },
 "nbformat": 4,
 "nbformat_minor": 4
}
